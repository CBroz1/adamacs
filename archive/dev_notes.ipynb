{
 "cells": [
  {
   "cell_type": "markdown",
   "id": "71fe57e5",
   "metadata": {},
   "source": [
    "# Dev Notes"
   ]
  },
  {
   "cell_type": "markdown",
   "id": "a73adb40",
   "metadata": {},
   "source": [
    "Inside `definition`, some comments are shown when the table is printed."
   ]
  },
  {
   "cell_type": "markdown",
   "id": "da990efd",
   "metadata": {},
   "source": [
    "dj.Lookup tables are very similar from dj.Manual. They also support manual insertion but they also support hardcoded content in their `contents` attribute. https://docs.datajoint.org/python/definition/13-Lookup-Tables.html?highlight=lookup"
   ]
  },
  {
   "cell_type": "code",
   "execution_count": null,
   "id": "a1ee4e1f",
   "metadata": {},
   "outputs": [],
   "source": []
  }
 ],
 "metadata": {
  "kernelspec": {
   "display_name": "Python 3 (ipykernel)",
   "language": "python",
   "name": "python3"
  },
  "language_info": {
   "codemirror_mode": {
    "name": "ipython",
    "version": 3
   },
   "file_extension": ".py",
   "mimetype": "text/x-python",
   "name": "python",
   "nbconvert_exporter": "python",
   "pygments_lexer": "ipython3",
   "version": "3.8.11"
  }
 },
 "nbformat": 4,
 "nbformat_minor": 5
}
