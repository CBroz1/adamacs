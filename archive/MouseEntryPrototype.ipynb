{
 "cells": [
  {
   "cell_type": "markdown",
   "id": "f69ca4c9",
   "metadata": {},
   "source": [
    "# Enter Mouse (Prototype)\n",
    "\n",
    "This notebook leads you through the steps to enter a mouse into the adamacs database. First, connnect to the database."
   ]
  },
  {
   "cell_type": "code",
   "execution_count": 1,
   "id": "dc1adb04",
   "metadata": {},
   "outputs": [],
   "source": [
    "from adamacs import subject, surgery, session, nbgui\n",
    "from adamacs import utility\n",
    "import datajoint as dj"
   ]
  },
  {
   "cell_type": "code",
   "execution_count": null,
   "id": "5a0720ee",
   "metadata": {},
   "outputs": [],
   "source": [
    "dj.config['database.host'] = '127.0.0.1'\n",
    "dj.config['database.user'] = 'root'\n",
    "dj.config['database.password'] = 'tutorial'\n",
    "dj.conn()"
   ]
  },
  {
   "cell_type": "code",
   "execution_count": null,
   "id": "35e2550a",
   "metadata": {},
   "outputs": [],
   "source": []
  },
  {
   "cell_type": "code",
   "execution_count": 8,
   "id": "2f763e74",
   "metadata": {},
   "outputs": [],
   "source": [
    "utility.activate(subject.schema, create_schema=True, create_tables=True, schema_name='tutorial', linking_module=subject)\n",
    "utility.activate(surgery.schema, create_schema=True, create_tables=True, schema_name='tutorial', linking_module=surgery)\n",
    "utility.activate(session.schema, create_schema=True, create_tables=True, schema_name='tutorial', linking_module=session)"
   ]
  },
  {
   "cell_type": "markdown",
   "id": "ef9a7c78",
   "metadata": {},
   "source": [
    "Next we need to setup some dummy data. This is only necessary for local testing."
   ]
  },
  {
   "cell_type": "code",
   "execution_count": 4,
   "id": "33c6a72b",
   "metadata": {},
   "outputs": [
    {
     "ename": "DuplicateError",
     "evalue": "(\"Duplicate entry 'dmk' for key 'PRIMARY'\", 'To ignore duplicate entries in insert, set skip_duplicates=True')",
     "output_type": "error",
     "traceback": [
      "\u001b[1;31m---------------------------------------------------------------------------\u001b[0m",
      "\u001b[1;31mDuplicateError\u001b[0m                            Traceback (most recent call last)",
      "\u001b[1;32m~\\AppData\\Local\\Temp/ipykernel_4536/3191020181.py\u001b[0m in \u001b[0;36m<module>\u001b[1;34m\u001b[0m\n\u001b[0;32m     37\u001b[0m \u001b[1;31m# Insert users\u001b[0m\u001b[1;33m\u001b[0m\u001b[1;33m\u001b[0m\u001b[1;33m\u001b[0m\u001b[0m\n\u001b[0;32m     38\u001b[0m \u001b[0muser\u001b[0m \u001b[1;33m=\u001b[0m \u001b[0msubject\u001b[0m\u001b[1;33m.\u001b[0m\u001b[0mUser\u001b[0m\u001b[1;33m(\u001b[0m\u001b[1;33m)\u001b[0m\u001b[1;33m\u001b[0m\u001b[1;33m\u001b[0m\u001b[0m\n\u001b[1;32m---> 39\u001b[1;33m user.insert1((\"dmk\",\n\u001b[0m\u001b[0;32m     40\u001b[0m              \"Rose\"))\n\u001b[0;32m     41\u001b[0m \u001b[1;33m\u001b[0m\u001b[0m\n",
      "\u001b[1;32m~\\anaconda3\\envs\\datajoint\\lib\\site-packages\\datajoint\\table.py\u001b[0m in \u001b[0;36minsert1\u001b[1;34m(self, row, **kwargs)\u001b[0m\n\u001b[0;32m    264\u001b[0m         \u001b[0mFor\u001b[0m \u001b[0mkwargs\u001b[0m\u001b[1;33m,\u001b[0m \u001b[0msee\u001b[0m \u001b[0minsert\u001b[0m\u001b[1;33m(\u001b[0m\u001b[1;33m)\u001b[0m\u001b[1;33m\u001b[0m\u001b[1;33m\u001b[0m\u001b[0m\n\u001b[0;32m    265\u001b[0m         \"\"\"\n\u001b[1;32m--> 266\u001b[1;33m         \u001b[0mself\u001b[0m\u001b[1;33m.\u001b[0m\u001b[0minsert\u001b[0m\u001b[1;33m(\u001b[0m\u001b[1;33m(\u001b[0m\u001b[0mrow\u001b[0m\u001b[1;33m,\u001b[0m\u001b[1;33m)\u001b[0m\u001b[1;33m,\u001b[0m \u001b[1;33m**\u001b[0m\u001b[0mkwargs\u001b[0m\u001b[1;33m)\u001b[0m\u001b[1;33m\u001b[0m\u001b[1;33m\u001b[0m\u001b[0m\n\u001b[0m\u001b[0;32m    267\u001b[0m \u001b[1;33m\u001b[0m\u001b[0m\n\u001b[0;32m    268\u001b[0m     \u001b[1;32mdef\u001b[0m \u001b[0minsert\u001b[0m\u001b[1;33m(\u001b[0m\u001b[0mself\u001b[0m\u001b[1;33m,\u001b[0m \u001b[0mrows\u001b[0m\u001b[1;33m,\u001b[0m \u001b[0mreplace\u001b[0m\u001b[1;33m=\u001b[0m\u001b[1;32mFalse\u001b[0m\u001b[1;33m,\u001b[0m \u001b[0mskip_duplicates\u001b[0m\u001b[1;33m=\u001b[0m\u001b[1;32mFalse\u001b[0m\u001b[1;33m,\u001b[0m \u001b[0mignore_extra_fields\u001b[0m\u001b[1;33m=\u001b[0m\u001b[1;32mFalse\u001b[0m\u001b[1;33m,\u001b[0m \u001b[0mallow_direct_insert\u001b[0m\u001b[1;33m=\u001b[0m\u001b[1;32mNone\u001b[0m\u001b[1;33m)\u001b[0m\u001b[1;33m:\u001b[0m\u001b[1;33m\u001b[0m\u001b[1;33m\u001b[0m\u001b[0m\n",
      "\u001b[1;32m~\\anaconda3\\envs\\datajoint\\lib\\site-packages\\datajoint\\table.py\u001b[0m in \u001b[0;36minsert\u001b[1;34m(self, rows, replace, skip_duplicates, ignore_extra_fields, allow_direct_insert)\u001b[0m\n\u001b[0;32m    335\u001b[0m                     'To ignore extra fields in insert, set ignore_extra_fields=True')\n\u001b[0;32m    336\u001b[0m             \u001b[1;32mexcept\u001b[0m \u001b[0mDuplicateError\u001b[0m \u001b[1;32mas\u001b[0m \u001b[0merr\u001b[0m\u001b[1;33m:\u001b[0m\u001b[1;33m\u001b[0m\u001b[1;33m\u001b[0m\u001b[0m\n\u001b[1;32m--> 337\u001b[1;33m                 raise err.suggest(\n\u001b[0m\u001b[0;32m    338\u001b[0m                     'To ignore duplicate entries in insert, set skip_duplicates=True')\n\u001b[0;32m    339\u001b[0m \u001b[1;33m\u001b[0m\u001b[0m\n",
      "\u001b[1;31mDuplicateError\u001b[0m: (\"Duplicate entry 'dmk' for key 'PRIMARY'\", 'To ignore duplicate entries in insert, set skip_duplicates=True')"
     ]
    }
   ],
   "source": [
    "# Insert Laboratories\n",
    "lab = subject.Lab()\n",
    "lab_data = [\n",
    "    ('Rose',\n",
    "    'AG Rose, Circuit mechanisms of behavior',\n",
    "    'Institute for Experimental Epileptology and Cognition Research',\n",
    "    'Venusberg-Campus 1, 53127, Bonn',\n",
    "    'CET'),\n",
    "    ('Gm',\n",
    "    'AG Gründemann, Informationsverarbeitung neuronaler Schaltkreise',\n",
    "    'DZNE',\n",
    "    'Venusberg-Campus 1, 53127, Bonn',\n",
    "    'CET'),\n",
    "    ('Fm',\n",
    "    'AG Fuhrmann, Neuroimmunologie und Bildgebung',\n",
    "    'DZNE',\n",
    "    'Venusberg-Campus 1, 53127, Bonn',\n",
    "    'CET'),\n",
    "    ('Beck',\n",
    "    'AG Beck, Experimental Epileptology and Cognition Research',\n",
    "    'Institute for Experimental Epileptology and Cognition Research',\n",
    "    'Venusberg-Campus 1, 53127, Bonn',\n",
    "    'CET')\n",
    "]\n",
    "\n",
    "lab.insert(lab_data, skip_duplicates=True)\n",
    "\n",
    "# Insert lines\n",
    "line = subject.Line()\n",
    "line_data = [(\"SST-IRES-Cre\", \"The SST-IRES-Cre Mouse Line is Daniels favorite mouse line\", \"wt/tg\", True),\n",
    "             (\"VGluT3-Cre\", \"\", \"tg/tg\", True),\n",
    "             (\"VGluT2-Cre\", \"\", \"\", True),\n",
    "             (\"SST-IRES-Cre/VGluT3-Cre\", \"\", \"\", True)\n",
    "             ]\n",
    "line.insert(line_data, skip_duplicates=True)\n",
    "\n",
    "# Insert users\n",
    "user = subject.User()\n",
    "user.insert1((\"dmk\",\n",
    "             \"Rose\"))\n",
    "\n",
    "# Insert Protocols\n",
    "protocol = subject.Protocol()\n",
    "protocol.insert1((\"LANUF2\",\n",
    "                 \"Basic Animal Protocol\"))\n",
    "\n",
    "# Insert Project\n",
    "project = subject.Project()\n",
    "project.insert1((\"TEC\",\n",
    "                 \"FM\"))"
   ]
  },
  {
   "cell_type": "markdown",
   "id": "6c31caaf",
   "metadata": {},
   "source": [
    "### GUI Insert"
   ]
  },
  {
   "cell_type": "code",
   "execution_count": 5,
   "id": "87bed3cd",
   "metadata": {},
   "outputs": [
    {
     "data": {
      "application/vnd.jupyter.widget-view+json": {
       "model_id": "f7a6c57f839c43dfba539b96a4199773",
       "version_major": 2,
       "version_minor": 0
      },
      "text/plain": [
       "VBox(children=(Sheet(cells=(Cell(column_end=9, column_start=0, row_end=0, row_start=0, squeeze_column=False, t…"
      ]
     },
     "metadata": {},
     "output_type": "display_data"
    }
   ],
   "source": [
    "mouse_gui = nbgui.MouseEntrySheet()\n",
    "mouse_gui.app"
   ]
  },
  {
   "cell_type": "code",
   "execution_count": 2,
   "id": "0b547f17",
   "metadata": {},
   "outputs": [],
   "source": [
    "dj.conn?"
   ]
  },
  {
   "cell_type": "markdown",
   "id": "ee55493c",
   "metadata": {},
   "source": [
    "### Programmatic Insert"
   ]
  },
  {
   "cell_type": "code",
   "execution_count": null,
   "id": "e331685e",
   "metadata": {},
   "outputs": [],
   "source": [
    "sub = subject.Subject()\n",
    "\n",
    "subject_id = ''\n",
    "lab = ''\n",
    "lab_id = ''\n",
    "sex = ''\n",
    "birth_date = ''\n",
    "subject_description = ''\n",
    "line = ''\n",
    "user = ''\n",
    "project = ''\n",
    "protocol = ''\n",
    "\n",
    "sub.insert1((subject_id, lab, lab_id, sex, birth_date, subject_description, line, user, project, protocol))"
   ]
  },
  {
   "cell_type": "markdown",
   "id": "cdadf752",
   "metadata": {},
   "source": [
    "Here is some example data:"
   ]
  },
  {
   "cell_type": "code",
   "execution_count": 3,
   "id": "81679949",
   "metadata": {
    "tags": [
     "hide-input"
    ]
   },
   "outputs": [],
   "source": [
    "sub = subject.Subject()\n",
    "\n",
    "subject_id = 'Rose_ROS-0001'\n",
    "lab = 'Rose'\n",
    "lab_id = 'G114'\n",
    "sex = 'M'\n",
    "birth_date = '2021-07-11'\n",
    "subject_description = ''\n",
    "line = 'SST-IRES-Cre'\n",
    "user = 'dmk'\n",
    "project = 'TEC'\n",
    "protocol = 'LANUF2'\n",
    "\n",
    "sub.insert1((subject_id, lab, lab_id, sex, birth_date, subject_description, line, user, project, protocol))"
   ]
  },
  {
   "cell_type": "markdown",
   "id": "0907cfb0",
   "metadata": {},
   "source": [
    "Running the following line shows you the mice in the database."
   ]
  },
  {
   "cell_type": "markdown",
   "id": "6634b148",
   "metadata": {},
   "source": [
    "Feel free to experiment and add some more mice."
   ]
  },
  {
   "cell_type": "code",
   "execution_count": 6,
   "id": "efe58bd8",
   "metadata": {},
   "outputs": [
    {
     "data": {
      "text/html": [
       "\n",
       "    \n",
       "    <style type=\"text/css\">\n",
       "        .Relation{\n",
       "            border-collapse:collapse;\n",
       "        }\n",
       "        .Relation th{\n",
       "            background: #A0A0A0; color: #ffffff; padding:4px; border:#f0e0e0 1px solid;\n",
       "            font-weight: normal; font-family: monospace; font-size: 100%;\n",
       "        }\n",
       "        .Relation td{\n",
       "            padding:4px; border:#f0e0e0 1px solid; font-size:100%;\n",
       "        }\n",
       "        .Relation tr:nth-child(odd){\n",
       "            background: #ffffff;\n",
       "        }\n",
       "        .Relation tr:nth-child(even){\n",
       "            background: #f3f1ff;\n",
       "        }\n",
       "        /* Tooltip container */\n",
       "        .djtooltip {\n",
       "        }\n",
       "        /* Tooltip text */\n",
       "        .djtooltip .djtooltiptext {\n",
       "            visibility: hidden;\n",
       "            width: 120px;\n",
       "            background-color: black;\n",
       "            color: #fff;\n",
       "            text-align: center;\n",
       "            padding: 5px 0;\n",
       "            border-radius: 6px;\n",
       "            /* Position the tooltip text - see examples below! */\n",
       "            position: absolute;\n",
       "            z-index: 1;\n",
       "        }\n",
       "        #primary {\n",
       "            font-weight: bold;\n",
       "            color: black;\n",
       "        }\n",
       "        #nonprimary {\n",
       "            font-weight: normal;\n",
       "            color: white;\n",
       "        }\n",
       "\n",
       "        /* Show the tooltip text when you mouse over the tooltip container */\n",
       "        .djtooltip:hover .djtooltiptext {\n",
       "            visibility: visible;\n",
       "        }\n",
       "    </style>\n",
       "    \n",
       "    <b>Animal Subject</b>\n",
       "        <div style=\"max-height:1000px;max-width:1500px;overflow:auto;\">\n",
       "        <table border=\"1\" class=\"Relation\">\n",
       "            <thead> <tr style=\"text-align: right;\"> <th> <div class=\"djtooltip\">\n",
       "                            <p id=\"primary\">subject</p>\n",
       "                            <span class=\"djtooltiptext\"></span>\n",
       "                        </div></th><th><div class=\"djtooltip\">\n",
       "                            <p id=\"nonprimary\">lab</p>\n",
       "                            <span class=\"djtooltiptext\">short lab name</span>\n",
       "                        </div></th><th><div class=\"djtooltip\">\n",
       "                            <p id=\"nonprimary\">earmark</p>\n",
       "                            <span class=\"djtooltiptext\">aka lab_id</span>\n",
       "                        </div></th><th><div class=\"djtooltip\">\n",
       "                            <p id=\"nonprimary\">sex</p>\n",
       "                            <span class=\"djtooltiptext\"></span>\n",
       "                        </div></th><th><div class=\"djtooltip\">\n",
       "                            <p id=\"nonprimary\">birth_date</p>\n",
       "                            <span class=\"djtooltiptext\"></span>\n",
       "                        </div></th><th><div class=\"djtooltip\">\n",
       "                            <p id=\"nonprimary\">subject_description</p>\n",
       "                            <span class=\"djtooltiptext\"></span>\n",
       "                        </div></th><th><div class=\"djtooltip\">\n",
       "                            <p id=\"nonprimary\">line</p>\n",
       "                            <span class=\"djtooltiptext\"></span>\n",
       "                        </div></th><th><div class=\"djtooltip\">\n",
       "                            <p id=\"nonprimary\">user</p>\n",
       "                            <span class=\"djtooltiptext\"></span>\n",
       "                        </div></th><th><div class=\"djtooltip\">\n",
       "                            <p id=\"nonprimary\">project</p>\n",
       "                            <span class=\"djtooltiptext\"></span>\n",
       "                        </div></th><th><div class=\"djtooltip\">\n",
       "                            <p id=\"nonprimary\">protocol</p>\n",
       "                            <span class=\"djtooltiptext\"></span>\n",
       "                        </div> </th> </tr> </thead>\n",
       "            <tbody> <tr> <td>Rose_ROS-0001</td>\n",
       "<td>Rose</td>\n",
       "<td>G114</td>\n",
       "<td>M</td>\n",
       "<td>2021-07-11</td>\n",
       "<td></td>\n",
       "<td>SST-IRES-Cre</td>\n",
       "<td>dmk</td>\n",
       "<td>TEC</td>\n",
       "<td>LANUF2</td></tr><tr><td>Rose_ROS-0002</td>\n",
       "<td>Rose</td>\n",
       "<td>G114</td>\n",
       "<td>M</td>\n",
       "<td>2021-07-11</td>\n",
       "<td></td>\n",
       "<td>SST-IRES-Cre</td>\n",
       "<td>dmk</td>\n",
       "<td>TEC</td>\n",
       "<td>LANUF2</td> </tr> </tbody>\n",
       "        </table>\n",
       "        \n",
       "        <p>Total: 2</p></div>\n",
       "        "
      ],
      "text/plain": [
       "*subject       lab      earmark     sex     birth_date     subject_descri line           user     project     protocol    \n",
       "+------------+ +------+ +---------+ +-----+ +------------+ +------------+ +------------+ +------+ +---------+ +----------+\n",
       "Rose_ROS-0001  Rose     G114        M       2021-07-11                    SST-IRES-Cre   dmk      TEC         LANUF2      \n",
       "Rose_ROS-0002  Rose     G114        M       2021-07-11                    SST-IRES-Cre   dmk      TEC         LANUF2      \n",
       " (Total: 2)"
      ]
     },
     "execution_count": 6,
     "metadata": {},
     "output_type": "execute_result"
    }
   ],
   "source": [
    "sub = subject.Subject()\n",
    "sub"
   ]
  },
  {
   "cell_type": "code",
   "execution_count": 5,
   "id": "22f2821d",
   "metadata": {},
   "outputs": [
    {
     "ename": "AttributeError",
     "evalue": "'Cell' object has no attribute 'values'",
     "output_type": "error",
     "traceback": [
      "\u001b[1;31m---------------------------------------------------------------------------\u001b[0m",
      "\u001b[1;31mAttributeError\u001b[0m                            Traceback (most recent call last)",
      "\u001b[1;32m~\\AppData\\Local\\Temp/ipykernel_15936/3344066513.py\u001b[0m in \u001b[0;36m<module>\u001b[1;34m\u001b[0m\n\u001b[1;32m----> 1\u001b[1;33m \u001b[0mmouse_gui\u001b[0m\u001b[1;33m.\u001b[0m\u001b[0msheet\u001b[0m\u001b[1;33m.\u001b[0m\u001b[0mcells\u001b[0m\u001b[1;33m[\u001b[0m\u001b[1;36m5\u001b[0m\u001b[1;33m]\u001b[0m\u001b[1;33m.\u001b[0m\u001b[0mvalues\u001b[0m\u001b[1;33m[\u001b[0m\u001b[1;36m0\u001b[0m\u001b[1;33m]\u001b[0m\u001b[1;33m\u001b[0m\u001b[1;33m\u001b[0m\u001b[0m\n\u001b[0m",
      "\u001b[1;31mAttributeError\u001b[0m: 'Cell' object has no attribute 'values'"
     ]
    }
   ],
   "source": [
    "mouse_gui.sheet.cells[5].values[0]"
   ]
  },
  {
   "cell_type": "code",
   "execution_count": 20,
   "id": "05079cd2",
   "metadata": {},
   "outputs": [
    {
     "data": {
      "text/plain": [
       "['_Table__make_placeholder',\n",
       " '_Table__make_row_to_insert',\n",
       " '__add__',\n",
       " '__and__',\n",
       " '__bool__',\n",
       " '__class__',\n",
       " '__contains__',\n",
       " '__delattr__',\n",
       " '__dict__',\n",
       " '__dir__',\n",
       " '__doc__',\n",
       " '__eq__',\n",
       " '__format__',\n",
       " '__ge__',\n",
       " '__getattribute__',\n",
       " '__gt__',\n",
       " '__hash__',\n",
       " '__init__',\n",
       " '__init_subclass__',\n",
       " '__iter__',\n",
       " '__le__',\n",
       " '__len__',\n",
       " '__lt__',\n",
       " '__matmul__',\n",
       " '__module__',\n",
       " '__mul__',\n",
       " '__ne__',\n",
       " '__neg__',\n",
       " '__new__',\n",
       " '__next__',\n",
       " '__reduce__',\n",
       " '__reduce_ex__',\n",
       " '__repr__',\n",
       " '__setattr__',\n",
       " '__sizeof__',\n",
       " '__slotnames__',\n",
       " '__str__',\n",
       " '__sub__',\n",
       " '__subclasshook__',\n",
       " '__weakref__',\n",
       " '__xor__',\n",
       " '_connection',\n",
       " '_delete_cascade',\n",
       " '_heading',\n",
       " '_left',\n",
       " '_log',\n",
       " '_log_',\n",
       " '_original_heading',\n",
       " '_prefix',\n",
       " '_repr_html_',\n",
       " '_restriction',\n",
       " '_restriction_attributes',\n",
       " '_subquery_alias_count',\n",
       " '_support',\n",
       " '_table_name',\n",
       " '_update',\n",
       " 'aggr',\n",
       " 'aggregate',\n",
       " 'alter',\n",
       " 'ancestors',\n",
       " 'children',\n",
       " 'connection',\n",
       " 'cursor',\n",
       " 'database',\n",
       " 'declaration_context',\n",
       " 'declare',\n",
       " 'definition',\n",
       " 'delete',\n",
       " 'delete_quick',\n",
       " 'descendants',\n",
       " 'describe',\n",
       " 'drop',\n",
       " 'drop_quick',\n",
       " 'external',\n",
       " 'fetch',\n",
       " 'fetch1',\n",
       " 'from_clause',\n",
       " 'full_table_name',\n",
       " 'get_select_fields',\n",
       " 'head',\n",
       " 'heading',\n",
       " 'insert',\n",
       " 'insert1',\n",
       " 'is_declared',\n",
       " 'join',\n",
       " 'make_sql',\n",
       " 'make_subquery',\n",
       " 'original_heading',\n",
       " 'parents',\n",
       " 'parts',\n",
       " 'preview',\n",
       " 'primary_key',\n",
       " 'proj',\n",
       " 'restrict',\n",
       " 'restrict_in_place',\n",
       " 'restriction',\n",
       " 'restriction_attributes',\n",
       " 'show_definition',\n",
       " 'size_on_disk',\n",
       " 'support',\n",
       " 'table_name',\n",
       " 'tail',\n",
       " 'tier_regexp',\n",
       " 'update1',\n",
       " 'where_clause']"
      ]
     },
     "execution_count": 20,
     "metadata": {},
     "output_type": "execute_result"
    }
   ],
   "source": [
    "dir(sub)"
   ]
  },
  {
   "cell_type": "code",
   "execution_count": 21,
   "id": "91ac2ec9",
   "metadata": {},
   "outputs": [
    {
     "data": {
      "text/plain": [
       "('subject',\n",
       " 'lab',\n",
       " 'lab_id',\n",
       " 'sex',\n",
       " 'birth_date',\n",
       " 'subject_description',\n",
       " 'line',\n",
       " 'user',\n",
       " 'project',\n",
       " 'protocol')"
      ]
     },
     "execution_count": 21,
     "metadata": {},
     "output_type": "execute_result"
    }
   ],
   "source": [
    "sub = subject.Subject()\n",
    "sub.fetch().dtype.names"
   ]
  },
  {
   "cell_type": "code",
   "execution_count": 6,
   "id": "736590b4",
   "metadata": {},
   "outputs": [
    {
     "data": {
      "text/plain": [
       "['__class__',\n",
       " '__del__',\n",
       " '__delattr__',\n",
       " '__dict__',\n",
       " '__dir__',\n",
       " '__doc__',\n",
       " '__eq__',\n",
       " '__format__',\n",
       " '__ge__',\n",
       " '__getattribute__',\n",
       " '__getitem__',\n",
       " '__getstate__',\n",
       " '__gt__',\n",
       " '__hash__',\n",
       " '__init__',\n",
       " '__init_subclass__',\n",
       " '__le__',\n",
       " '__lt__',\n",
       " '__module__',\n",
       " '__ne__',\n",
       " '__new__',\n",
       " '__reduce__',\n",
       " '__reduce_ex__',\n",
       " '__repr__',\n",
       " '__setattr__',\n",
       " '__setstate__',\n",
       " '__sizeof__',\n",
       " '__str__',\n",
       " '__subclasshook__',\n",
       " '__weakref__',\n",
       " '_add_notifiers',\n",
       " '_call_widget_constructed',\n",
       " '_column_headers_metadata',\n",
       " '_comm_changed',\n",
       " '_compare',\n",
       " '_cross_validation_lock',\n",
       " '_default_keys',\n",
       " '_display_callbacks',\n",
       " '_dom_classes',\n",
       " '_gen_repr_from_keys',\n",
       " '_get_embed_state',\n",
       " '_get_trait_default_generator',\n",
       " '_handle_custom_msg',\n",
       " '_handle_displayed',\n",
       " '_handle_msg',\n",
       " '_holding_sync',\n",
       " '_ipython_display_',\n",
       " '_is_numpy',\n",
       " '_lock_property',\n",
       " '_log_default',\n",
       " '_model_id',\n",
       " '_model_module',\n",
       " '_model_module_version',\n",
       " '_model_name',\n",
       " '_msg_callbacks',\n",
       " '_notify_observers',\n",
       " '_notify_trait',\n",
       " '_property_lock',\n",
       " '_register_validator',\n",
       " '_remove_notifiers',\n",
       " '_repr_keys',\n",
       " '_row_headers_metadata',\n",
       " '_send',\n",
       " '_should_send_property',\n",
       " '_states_to_send',\n",
       " '_trait_default_generators',\n",
       " '_trait_from_json',\n",
       " '_trait_notifiers',\n",
       " '_trait_to_json',\n",
       " '_trait_validators',\n",
       " '_trait_values',\n",
       " '_view_count',\n",
       " '_view_module',\n",
       " '_view_module_version',\n",
       " '_view_name',\n",
       " '_widget_construction_callback',\n",
       " 'add_class',\n",
       " 'add_traits',\n",
       " 'cells',\n",
       " 'class_own_trait_events',\n",
       " 'class_own_traits',\n",
       " 'class_trait_names',\n",
       " 'class_traits',\n",
       " 'close',\n",
       " 'close_all',\n",
       " 'column_headers',\n",
       " 'column_resizing',\n",
       " 'column_width',\n",
       " 'columns',\n",
       " 'comm',\n",
       " 'cross_validation_lock',\n",
       " 'get_manager_state',\n",
       " 'get_state',\n",
       " 'get_view_spec',\n",
       " 'handle_comm_opened',\n",
       " 'has_trait',\n",
       " 'hold_sync',\n",
       " 'hold_trait_notifications',\n",
       " 'keys',\n",
       " 'layout',\n",
       " 'log',\n",
       " 'model_id',\n",
       " 'named_cells',\n",
       " 'notify_change',\n",
       " 'observe',\n",
       " 'on_displayed',\n",
       " 'on_msg',\n",
       " 'on_trait_change',\n",
       " 'on_widget_constructed',\n",
       " 'open',\n",
       " 'remove_class',\n",
       " 'row_headers',\n",
       " 'row_resizing',\n",
       " 'rows',\n",
       " 'search_token',\n",
       " 'send',\n",
       " 'send_state',\n",
       " 'set_state',\n",
       " 'set_trait',\n",
       " 'setup_instance',\n",
       " 'stretch_headers',\n",
       " 'trait_defaults',\n",
       " 'trait_events',\n",
       " 'trait_has_value',\n",
       " 'trait_metadata',\n",
       " 'trait_names',\n",
       " 'trait_values',\n",
       " 'traits',\n",
       " 'unobserve',\n",
       " 'unobserve_all',\n",
       " 'widget_types',\n",
       " 'widgets']"
      ]
     },
     "execution_count": 6,
     "metadata": {},
     "output_type": "execute_result"
    }
   ],
   "source": [
    "dir(mouse_gui.sheet)"
   ]
  },
  {
   "cell_type": "code",
   "execution_count": 7,
   "id": "23fb9155",
   "metadata": {},
   "outputs": [
    {
     "ename": "AttributeError",
     "evalue": "'Sheet' object has no attribute 'column'",
     "output_type": "error",
     "traceback": [
      "\u001b[1;31m---------------------------------------------------------------------------\u001b[0m",
      "\u001b[1;31mAttributeError\u001b[0m                            Traceback (most recent call last)",
      "\u001b[1;32m~\\AppData\\Local\\Temp/ipykernel_16664/1926504571.py\u001b[0m in \u001b[0;36m<module>\u001b[1;34m\u001b[0m\n\u001b[1;32m----> 1\u001b[1;33m \u001b[0mmouse_gui\u001b[0m\u001b[1;33m.\u001b[0m\u001b[0msheet\u001b[0m\u001b[1;33m.\u001b[0m\u001b[0mcolumn\u001b[0m\u001b[1;33m\u001b[0m\u001b[1;33m\u001b[0m\u001b[0m\n\u001b[0m",
      "\u001b[1;31mAttributeError\u001b[0m: 'Sheet' object has no attribute 'column'"
     ]
    }
   ],
   "source": [
    "ipysheet.column"
   ]
  },
  {
   "cell_type": "code",
   "execution_count": 8,
   "id": "9497d860",
   "metadata": {},
   "outputs": [],
   "source": [
    "import ipysheet"
   ]
  },
  {
   "cell_type": "code",
   "execution_count": 58,
   "id": "f6d7f5f7",
   "metadata": {},
   "outputs": [
    {
     "data": {
      "text/plain": [
       "['_dom_classes',\n",
       " '_model_module',\n",
       " '_model_module_version',\n",
       " '_model_name',\n",
       " '_view_count',\n",
       " '_view_module',\n",
       " '_view_module_version',\n",
       " '_view_name',\n",
       " 'cells',\n",
       " 'column_headers',\n",
       " 'column_resizing',\n",
       " 'column_width',\n",
       " 'columns',\n",
       " 'layout',\n",
       " 'named_cells',\n",
       " 'row_headers',\n",
       " 'row_resizing',\n",
       " 'rows',\n",
       " 'search_token',\n",
       " 'stretch_headers']"
      ]
     },
     "execution_count": 58,
     "metadata": {},
     "output_type": "execute_result"
    }
   ],
   "source": [
    "mouse_gui.sheet.keys"
   ]
  },
  {
   "cell_type": "code",
   "execution_count": 57,
   "id": "4b1a0f0b",
   "metadata": {},
   "outputs": [],
   "source": [
    "dir(ipysheet)\n"
   ]
  },
  {
   "cell_type": "code",
   "execution_count": 45,
   "id": "5087d517",
   "metadata": {},
   "outputs": [
    {
     "ename": "AttributeError",
     "evalue": "module 'ipysheet' has no attribute 'value'",
     "output_type": "error",
     "traceback": [
      "\u001b[1;31m---------------------------------------------------------------------------\u001b[0m",
      "\u001b[1;31mAttributeError\u001b[0m                            Traceback (most recent call last)",
      "\u001b[1;32m~\\AppData\\Local\\Temp/ipykernel_16664/3831557628.py\u001b[0m in \u001b[0;36m<module>\u001b[1;34m\u001b[0m\n\u001b[1;32m----> 1\u001b[1;33m \u001b[0mipysheet\u001b[0m\u001b[1;33m.\u001b[0m\u001b[0mvalue\u001b[0m\u001b[1;33m(\u001b[0m\u001b[1;36m1\u001b[0m\u001b[1;33m)\u001b[0m\u001b[1;33m\u001b[0m\u001b[1;33m\u001b[0m\u001b[0m\n\u001b[0m",
      "\u001b[1;31mAttributeError\u001b[0m: module 'ipysheet' has no attribute 'value'"
     ]
    }
   ],
   "source": [
    "ipysheet.value(1)"
   ]
  },
  {
   "cell_type": "code",
   "execution_count": 5,
   "id": "053d1109",
   "metadata": {},
   "outputs": [
    {
     "data": {
      "text/plain": [
       "(Cell(column_end=9, column_start=0, row_end=9, row_start=0, squeeze_column=False, squeeze_row=False, type='text', value=[['subject', 'labshort lab name', 'earmarkaka lab_id', 'sex', 'birth_date', 'subject_description', 'line', 'user', 'project', 'protocol'], ['Rose_ROS-0001', 'Rose', '001', 'F', '2011-10-20', 'Description', 'SST-IRES-Cre', 'dmk', 'TEC', 'LANUF2'], ['Rose_ROS-0002', 'Rose', '001', 'F', '2011-10-20', 'Description', 'SST-IRES-Cre', 'dmk', 'TEC', 'LANUF2'], ['Rose_ROS-0004', 'Rose', '003', 'M', '2011-10-20', 'Description', 'SST-IRES-Cre', 'dmk', 'TEC', 'LANUF2'], ['Rose_ROS-0005', 'Rose', '003', 'M', '2011-10-20', 'Description', 'SST-IRES-Cre', 'dmk', 'TEC', 'LANUF2'], ['', '', '', '', '', '', '', '', '', ''], ['', '', '', '', '', '', '', '', '', ''], ['', '', '', '', '', '', '', '', '', ''], ['', '', '', '', '', '', '', '', '', ''], ['', '', '', '', '', '', '', '', '', '']]),)"
      ]
     },
     "execution_count": 5,
     "metadata": {},
     "output_type": "execute_result"
    }
   ],
   "source": [
    "mouse_gui.sheet.cells"
   ]
  },
  {
   "cell_type": "code",
   "execution_count": 17,
   "id": "21c29bc3",
   "metadata": {},
   "outputs": [
    {
     "ename": "NameError",
     "evalue": "name 'ipysheet' is not defined",
     "output_type": "error",
     "traceback": [
      "\u001b[1;31m---------------------------------------------------------------------------\u001b[0m",
      "\u001b[1;31mNameError\u001b[0m                                 Traceback (most recent call last)",
      "\u001b[1;32m~\\AppData\\Local\\Temp/ipykernel_13608/4886170.py\u001b[0m in \u001b[0;36m<module>\u001b[1;34m\u001b[0m\n\u001b[1;32m----> 1\u001b[1;33m \u001b[0mipysheet\u001b[0m\u001b[1;33m.\u001b[0m\u001b[0mpandas_loader\u001b[0m\u001b[1;33m.\u001b[0m\u001b[0mto_dataframe\u001b[0m\u001b[1;33m(\u001b[0m\u001b[0mipysheet\u001b[0m\u001b[1;33m.\u001b[0m\u001b[0msheet\u001b[0m\u001b[1;33m(\u001b[0m\u001b[0mkey\u001b[0m\u001b[1;33m=\u001b[0m\u001b[1;34m'main'\u001b[0m\u001b[1;33m)\u001b[0m\u001b[1;33m)\u001b[0m\u001b[1;33m\u001b[0m\u001b[1;33m\u001b[0m\u001b[0m\n\u001b[0m",
      "\u001b[1;31mNameError\u001b[0m: name 'ipysheet' is not defined"
     ]
    }
   ],
   "source": [
    "ipysheet.pandas_loader.to_dataframe(ipysheet.sheet(key='main'))"
   ]
  },
  {
   "cell_type": "code",
   "execution_count": 16,
   "id": "8932d630",
   "metadata": {},
   "outputs": [
    {
     "data": {
      "text/plain": [
       "()"
      ]
     },
     "execution_count": 16,
     "metadata": {},
     "output_type": "execute_result"
    }
   ],
   "source": [
    "ipysheet.sheet(key='main').cells"
   ]
  },
  {
   "cell_type": "code",
   "execution_count": 16,
   "id": "8a6180d1",
   "metadata": {},
   "outputs": [
    {
     "ename": "AttributeError",
     "evalue": "'Sheet' object has no attribute 'cell_range'",
     "output_type": "error",
     "traceback": [
      "\u001b[1;31m---------------------------------------------------------------------------\u001b[0m",
      "\u001b[1;31mAttributeError\u001b[0m                            Traceback (most recent call last)",
      "\u001b[1;32m~\\AppData\\Local\\Temp/ipykernel_13608/3153590468.py\u001b[0m in \u001b[0;36m<module>\u001b[1;34m\u001b[0m\n\u001b[1;32m----> 1\u001b[1;33m \u001b[0mmouse_gui\u001b[0m\u001b[1;33m.\u001b[0m\u001b[0msheet\u001b[0m\u001b[1;33m.\u001b[0m\u001b[0mcell_range\u001b[0m\u001b[1;33m\u001b[0m\u001b[1;33m\u001b[0m\u001b[0m\n\u001b[0m",
      "\u001b[1;31mAttributeError\u001b[0m: 'Sheet' object has no attribute 'cell_range'"
     ]
    }
   ],
   "source": [
    "mouse_gui.sheet.cell_range"
   ]
  },
  {
   "cell_type": "code",
   "execution_count": 29,
   "id": "1b4b5ef9",
   "metadata": {},
   "outputs": [],
   "source": [
    "my_cells = "
   ]
  },
  {
   "cell_type": "code",
   "execution_count": 19,
   "id": "1e008da2",
   "metadata": {},
   "outputs": [],
   "source": [
    "import ipysheet"
   ]
  },
  {
   "cell_type": "code",
   "execution_count": 27,
   "id": "cbfa14d7",
   "metadata": {},
   "outputs": [
    {
     "data": {
      "text/plain": [
       "[['', '', '', '', '', '', '', '', '', ''],\n",
       " ['', '', '', '', '', '', '', '', '', ''],\n",
       " ['', '', '', '', '', '', '', '', '', ''],\n",
       " ['', '', '', '', '', '', '', '', '', ''],\n",
       " ['', '', '', '', '', '', '', '', '', ''],\n",
       " ['', '', '', '', '', '', '', '', '', ''],\n",
       " ['', '', '', '', '', '', '', '', '', ''],\n",
       " ['', '', '', '', '', '', '', '', '', ''],\n",
       " ['', '', '', '', '', '', '', '', '', ''],\n",
       " ['', '', '', '', '', '', '', '', '', '']]"
      ]
     },
     "execution_count": 27,
     "metadata": {},
     "output_type": "execute_result"
    }
   ],
   "source": [
    "[['']*10]*10"
   ]
  },
  {
   "cell_type": "code",
   "execution_count": 30,
   "id": "07073ca9",
   "metadata": {},
   "outputs": [
    {
     "data": {
      "text/plain": [
       "Cell(column_end=9, column_start=0, row_end=9, row_start=0, squeeze_column=False, squeeze_row=False, type='text…"
      ]
     },
     "metadata": {},
     "output_type": "display_data"
    }
   ],
   "source": [
    "my_cells"
   ]
  },
  {
   "cell_type": "code",
   "execution_count": null,
   "id": "dda72b67",
   "metadata": {},
   "outputs": [],
   "source": []
  }
 ],
 "metadata": {
  "kernelspec": {
   "display_name": "Python 3 (ipykernel)",
   "language": "python",
   "name": "python3"
  },
  "language_info": {
   "codemirror_mode": {
    "name": "ipython",
    "version": 3
   },
   "file_extension": ".py",
   "mimetype": "text/x-python",
   "name": "python",
   "nbconvert_exporter": "python",
   "pygments_lexer": "ipython3",
   "version": "3.8.12"
  }
 },
 "nbformat": 4,
 "nbformat_minor": 5
}
