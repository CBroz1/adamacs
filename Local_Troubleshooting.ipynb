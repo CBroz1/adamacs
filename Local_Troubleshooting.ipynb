{
 "cells": [
  {
   "cell_type": "markdown",
   "id": "de898a5f",
   "metadata": {},
   "source": [
    "### Datajoint Local troubleshooting notebook"
   ]
  },
  {
   "cell_type": "code",
   "execution_count": 1,
   "id": "de163170",
   "metadata": {},
   "outputs": [],
   "source": [
    "import datajoint as dj\n",
    "from adamacs import metadata, utility"
   ]
  },
  {
   "cell_type": "markdown",
   "id": "c25ae956",
   "metadata": {},
   "source": [
    "Local datajoint database setup: https://tutorials.datajoint.io/setting-up/local-database.html"
   ]
  },
  {
   "cell_type": "code",
   "execution_count": 2,
   "id": "aba06ff4",
   "metadata": {},
   "outputs": [],
   "source": [
    "# conda env create -f environment.yml\n",
    "# docker run -p 3306:3306 -e MYSQL_ROOT_PASSWORD=tutorial datajoint/mysql"
   ]
  },
  {
   "cell_type": "code",
   "execution_count": 3,
   "id": "2f3e864f",
   "metadata": {},
   "outputs": [
    {
     "name": "stdout",
     "output_type": "stream",
     "text": [
      "Connecting root@127.0.0.1:3306\n"
     ]
    },
    {
     "data": {
      "text/plain": [
       "DataJoint connection (connected) root@127.0.0.1:3306"
      ]
     },
     "execution_count": 3,
     "metadata": {},
     "output_type": "execute_result"
    }
   ],
   "source": [
    "# Setup Local configuration\n",
    "dj.config['database.host'] = '127.0.0.1'\n",
    "dj.config['database.user'] = 'root'\n",
    "dj.config['database.password'] = 'tutorial'\n",
    "dj.conn()"
   ]
  },
  {
   "cell_type": "markdown",
   "id": "2a73b5d6",
   "metadata": {},
   "source": [
    "### Create schema and tables"
   ]
  },
  {
   "cell_type": "code",
   "execution_count": 4,
   "id": "e4c55c0d",
   "metadata": {},
   "outputs": [],
   "source": [
    "utility.activate(metadata.schema, create_schema=True, create_tables=True, schema_name='tutorial',linking_module=metadata)"
   ]
  },
  {
   "cell_type": "markdown",
   "id": "b1d8ef59",
   "metadata": {},
   "source": [
    "### Insert Data"
   ]
  },
  {
   "cell_type": "code",
   "execution_count": 11,
   "id": "7eca9896",
   "metadata": {},
   "outputs": [],
   "source": [
    "# Insert Laboratories\n",
    "lab = metadata.Lab()\n",
    "data = [\n",
    "    ('AGRose',\n",
    "    'Circuit mechanisms of behavior',\n",
    "    'Institute for Experimental Epileptology and Cognition Research',\n",
    "    'Venusberg-Campus 1, 53127, Bonn',\n",
    "    'CET'),\n",
    "    ('AGGründemann',\n",
    "    'Informationsverarbeitung neuronaler Schaltkreise',\n",
    "    'DZNE',\n",
    "    'Venusberg-Campus 1, 53127, Bonn',\n",
    "    'CET'),\n",
    "    ('AGFuhrmann',\n",
    "    'Neuroimmunologie und Bildgebung',\n",
    "    'DZNE',\n",
    "    'Venusberg-Campus 1, 53127, Bonn',\n",
    "    'CET'),\n",
    "    ('AGBeck',\n",
    "    'Experimental Epileptology and Cognition Research',\n",
    "    'Institute for Experimental Epileptology and Cognition Research',\n",
    "    'Venusberg-Campus 1, 53127, Bonn',\n",
    "    'CET')\n",
    "]\n",
    "\n",
    "lab.insert(data, skip_duplicates=True)\n",
    "\n",
    "# Insert Subjects"
   ]
  },
  {
   "cell_type": "code",
   "execution_count": null,
   "id": "9bdab22c",
   "metadata": {},
   "outputs": [],
   "source": []
  },
  {
   "cell_type": "code",
   "execution_count": 12,
   "id": "a27b119e",
   "metadata": {},
   "outputs": [
    {
     "data": {
      "text/html": [
       "\n",
       "    \n",
       "    <style type=\"text/css\">\n",
       "        .Relation{\n",
       "            border-collapse:collapse;\n",
       "        }\n",
       "        .Relation th{\n",
       "            background: #A0A0A0; color: #ffffff; padding:4px; border:#f0e0e0 1px solid;\n",
       "            font-weight: normal; font-family: monospace; font-size: 100%;\n",
       "        }\n",
       "        .Relation td{\n",
       "            padding:4px; border:#f0e0e0 1px solid; font-size:100%;\n",
       "        }\n",
       "        .Relation tr:nth-child(odd){\n",
       "            background: #ffffff;\n",
       "        }\n",
       "        .Relation tr:nth-child(even){\n",
       "            background: #f3f1ff;\n",
       "        }\n",
       "        /* Tooltip container */\n",
       "        .djtooltip {\n",
       "        }\n",
       "        /* Tooltip text */\n",
       "        .djtooltip .djtooltiptext {\n",
       "            visibility: hidden;\n",
       "            width: 120px;\n",
       "            background-color: black;\n",
       "            color: #fff;\n",
       "            text-align: center;\n",
       "            padding: 5px 0;\n",
       "            border-radius: 6px;\n",
       "            /* Position the tooltip text - see examples below! */\n",
       "            position: absolute;\n",
       "            z-index: 1;\n",
       "        }\n",
       "        #primary {\n",
       "            font-weight: bold;\n",
       "            color: black;\n",
       "        }\n",
       "        #nonprimary {\n",
       "            font-weight: normal;\n",
       "            color: white;\n",
       "        }\n",
       "\n",
       "        /* Show the tooltip text when you mouse over the tooltip container */\n",
       "        .djtooltip:hover .djtooltiptext {\n",
       "            visibility: visible;\n",
       "        }\n",
       "    </style>\n",
       "    \n",
       "    <b></b>\n",
       "        <div style=\"max-height:1000px;max-width:1500px;overflow:auto;\">\n",
       "        <table border=\"1\" class=\"Relation\">\n",
       "            <thead> <tr style=\"text-align: right;\"> <th> <div class=\"djtooltip\">\n",
       "                            <p id=\"primary\">lab</p>\n",
       "                            <span class=\"djtooltiptext\">Abbreviated lab name</span>\n",
       "                        </div></th><th><div class=\"djtooltip\">\n",
       "                            <p id=\"nonprimary\">lab_name</p>\n",
       "                            <span class=\"djtooltiptext\">full lab name</span>\n",
       "                        </div></th><th><div class=\"djtooltip\">\n",
       "                            <p id=\"nonprimary\">institution</p>\n",
       "                            <span class=\"djtooltiptext\"></span>\n",
       "                        </div></th><th><div class=\"djtooltip\">\n",
       "                            <p id=\"nonprimary\">address</p>\n",
       "                            <span class=\"djtooltiptext\"></span>\n",
       "                        </div></th><th><div class=\"djtooltip\">\n",
       "                            <p id=\"nonprimary\">time_zone</p>\n",
       "                            <span class=\"djtooltiptext\"></span>\n",
       "                        </div> </th> </tr> </thead>\n",
       "            <tbody> <tr> <td>AGBeck</td>\n",
       "<td>Neuroimmunologie und Bildgebung</td>\n",
       "<td>Institute for Experimental Epileptology and Cognition Research</td>\n",
       "<td>Venusberg-Campus 1, 53127, Bonn</td>\n",
       "<td>CET</td></tr><tr><td>AGFuhrmann</td>\n",
       "<td>Neuroimmunologie und Bildgebung</td>\n",
       "<td>DZNE</td>\n",
       "<td>Venusberg-Campus 1, 53127, Bonn</td>\n",
       "<td>CET</td></tr><tr><td>AGGründemann</td>\n",
       "<td>Informationsverarbeitung neuronaler Schaltkreise</td>\n",
       "<td>DZNE</td>\n",
       "<td>Venusberg-Campus 1, 53127, Bonn</td>\n",
       "<td>CET</td></tr><tr><td>AGRose</td>\n",
       "<td>Circuit mechanisms of behavior</td>\n",
       "<td>Institute for Experimental Epileptology and Cognition Research</td>\n",
       "<td>Venusberg-Campus 1, 53127, Bonn</td>\n",
       "<td>CET</td> </tr> </tbody>\n",
       "        </table>\n",
       "        \n",
       "        <p>Total: 4</p></div>\n",
       "        "
      ],
      "text/plain": [
       "*lab           lab_name       institution    address        time_zone    \n",
       "+------------+ +------------+ +------------+ +------------+ +-----------+\n",
       "AGBeck         Neuroimmunolog Institute for  Venusberg-Camp CET          \n",
       "AGFuhrmann     Neuroimmunolog DZNE           Venusberg-Camp CET          \n",
       "AGGründemann   Informationsve DZNE           Venusberg-Camp CET          \n",
       "AGRose         Circuit mechan Institute for  Venusberg-Camp CET          \n",
       " (Total: 4)"
      ]
     },
     "execution_count": 12,
     "metadata": {},
     "output_type": "execute_result"
    }
   ],
   "source": [
    "lab"
   ]
  },
  {
   "cell_type": "code",
   "execution_count": 5,
   "id": "09fed13b",
   "metadata": {},
   "outputs": [
    {
     "data": {
      "text/html": [
       "\n",
       "    \n",
       "    <style type=\"text/css\">\n",
       "        .Relation{\n",
       "            border-collapse:collapse;\n",
       "        }\n",
       "        .Relation th{\n",
       "            background: #A0A0A0; color: #ffffff; padding:4px; border:#f0e0e0 1px solid;\n",
       "            font-weight: normal; font-family: monospace; font-size: 100%;\n",
       "        }\n",
       "        .Relation td{\n",
       "            padding:4px; border:#f0e0e0 1px solid; font-size:100%;\n",
       "        }\n",
       "        .Relation tr:nth-child(odd){\n",
       "            background: #ffffff;\n",
       "        }\n",
       "        .Relation tr:nth-child(even){\n",
       "            background: #f3f1ff;\n",
       "        }\n",
       "        /* Tooltip container */\n",
       "        .djtooltip {\n",
       "        }\n",
       "        /* Tooltip text */\n",
       "        .djtooltip .djtooltiptext {\n",
       "            visibility: hidden;\n",
       "            width: 120px;\n",
       "            background-color: black;\n",
       "            color: #fff;\n",
       "            text-align: center;\n",
       "            padding: 5px 0;\n",
       "            border-radius: 6px;\n",
       "            /* Position the tooltip text - see examples below! */\n",
       "            position: absolute;\n",
       "            z-index: 1;\n",
       "        }\n",
       "        #primary {\n",
       "            font-weight: bold;\n",
       "            color: black;\n",
       "        }\n",
       "        #nonprimary {\n",
       "            font-weight: normal;\n",
       "            color: white;\n",
       "        }\n",
       "\n",
       "        /* Show the tooltip text when you mouse over the tooltip container */\n",
       "        .djtooltip:hover .djtooltiptext {\n",
       "            visibility: visible;\n",
       "        }\n",
       "    </style>\n",
       "    \n",
       "    <b></b>\n",
       "        <div style=\"max-height:1000px;max-width:1500px;overflow:auto;\">\n",
       "        <table border=\"1\" class=\"Relation\">\n",
       "            <thead> <tr style=\"text-align: right;\"> <th> <div class=\"djtooltip\">\n",
       "                            <p id=\"primary\">subject</p>\n",
       "                            <span class=\"djtooltiptext\"></span>\n",
       "                        </div></th><th><div class=\"djtooltip\">\n",
       "                            <p id=\"nonprimary\">sex</p>\n",
       "                            <span class=\"djtooltiptext\"></span>\n",
       "                        </div></th><th><div class=\"djtooltip\">\n",
       "                            <p id=\"nonprimary\">subject_birth_date</p>\n",
       "                            <span class=\"djtooltiptext\"></span>\n",
       "                        </div></th><th><div class=\"djtooltip\">\n",
       "                            <p id=\"nonprimary\">subject_description</p>\n",
       "                            <span class=\"djtooltiptext\"></span>\n",
       "                        </div> </th> </tr> </thead>\n",
       "            <tbody> <tr>  </tr> </tbody>\n",
       "        </table>\n",
       "        \n",
       "        <p>Total: 0</p></div>\n",
       "        "
      ],
      "text/plain": [
       "*subject    sex     subject_birth_ subject_descri\n",
       "+---------+ +-----+ +------------+ +------------+\n",
       "\n",
       " (Total: 0)"
      ]
     },
     "execution_count": 5,
     "metadata": {},
     "output_type": "execute_result"
    }
   ],
   "source": [
    "subject"
   ]
  },
  {
   "cell_type": "code",
   "execution_count": null,
   "id": "b46f1aa2",
   "metadata": {},
   "outputs": [],
   "source": []
  }
 ],
 "metadata": {
  "kernelspec": {
   "display_name": "Python 3 (ipykernel)",
   "language": "python",
   "name": "python3"
  },
  "language_info": {
   "codemirror_mode": {
    "name": "ipython",
    "version": 3
   },
   "file_extension": ".py",
   "mimetype": "text/x-python",
   "name": "python",
   "nbconvert_exporter": "python",
   "pygments_lexer": "ipython3",
   "version": "3.8.11"
  }
 },
 "nbformat": 4,
 "nbformat_minor": 5
}
