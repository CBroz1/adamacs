{
 "cells": [
  {
   "cell_type": "markdown",
   "id": "d1aa3e29-e39c-44a9-b29d-d37b73aab85d",
   "metadata": {},
   "source": [
    "# PyRAT subject ingestion"
   ]
  },
  {
   "cell_type": "markdown",
   "id": "6e95a682-afac-4834-b6e5-0dd4886467f9",
   "metadata": {},
   "source": [
    "\\* minor outstanding issue - confirmation message shows duplicate mutations\n",
    "\n",
    "---\n",
    "\n",
    "First, change to directory with config file:"
   ]
  },
  {
   "cell_type": "code",
   "execution_count": 1,
   "id": "016819d5-3623-4dce-9e8c-0410579ac69b",
   "metadata": {},
   "outputs": [
    {
     "name": "stdout",
     "output_type": "stream",
     "text": [
      "Connecting cbroz@dss-db.datajoint.io:3306\n"
     ]
    }
   ],
   "source": [
    "import os\n",
    "# change to the upper level folder to detect dj_local_conf.json\n",
    "if os.path.basename(os.getcwd())=='notebooks': os.chdir('..')\n",
    "assert os.path.basename(os.getcwd())=='adamacs', (\"Please move to the main directory\")\n",
    "from adamacs.pipeline import subject"
   ]
  },
  {
   "cell_type": "markdown",
   "id": "4c258e07-6165-4116-bec7-edc764e2170c",
   "metadata": {},
   "source": [
    "Checking length before run"
   ]
  },
  {
   "cell_type": "code",
   "execution_count": 2,
   "id": "75bb3517-f2f9-47ac-84fe-15c5aa1530e0",
   "metadata": {},
   "outputs": [
    {
     "name": "stdout",
     "output_type": "stream",
     "text": [
      "User 0\n",
      "Protocol 0\n",
      "Line 0\n",
      "Mutation 0\n",
      "Subject 0\n",
      "SubjectGenotype 0\n"
     ]
    }
   ],
   "source": [
    "# subject.User.delete(); subject.Protocol.delete()\n",
    "# subject.Line.delete(); subject.Subject.delete()\n",
    "print('User', len(subject.User()))\n",
    "print('Protocol', len(subject.Protocol()))\n",
    "print('Line', len(subject.Line()))\n",
    "print('Mutation', len(subject.Mutation()))\n",
    "print('Subject', len(subject.Subject()))\n",
    "print('SubjectGenotype', len(subject.SubjectGenotype()))"
   ]
  },
  {
   "cell_type": "code",
   "execution_count": 3,
   "id": "cc50c2bb-a03f-46b7-83f5-492d63fa0081",
   "metadata": {},
   "outputs": [],
   "source": [
    "from adamacs.ingest.pyrat import PyratIngestion"
   ]
  },
  {
   "cell_type": "code",
   "execution_count": 4,
   "id": "d8410737-51f6-495d-ae0c-d25fddca3503",
   "metadata": {},
   "outputs": [
    {
     "name": "stdout",
     "output_type": "stream",
     "text": [
      "Connected\n",
      "Gathering users...\n",
      "Gathering protocols...\n",
      "Gathering lines/mutations...\n",
      "Gathering subjects...\n",
      "--- PyRAT items to be inserted ---\n",
      "User(s):  ['Schorle Hubert', 'Egert Angela'] \n",
      "\n",
      "Protocol(s):  [] \n",
      "\n",
      "Line(s):  ['B6-R26RLacZ', '129-Sox2-Cre', '129-Blimp1Venus', '129SV/S2', 'B6-Eomes-GFP', 'C57BL6/J', 'PSA-Cre', '129-TNAP-Cre N12', '129-Vasa-Cre'] \n",
      "\n",
      "Mutation(s):  ['Reporter', 'Sox2-Cre', 'Reporter', 'PSA-Cre', 'Vasa-Cre'] \n",
      "\n",
      "Subjects:  ['HSC-0101', 'HSC-0102', 'HSC-0103', 'HSC-0104', 'HSC-0106', 'HSC-0113', 'HSC-0114', 'HSC-0115', 'HSC-0116', 'HSC-0118', 'HSC-0119', 'HSC-0120', 'HSC-0121', 'HSC-0129', 'HSC-0130', 'HSC-0131', 'HSC-0142', 'HSC-0143', 'HSC-0149', 'HSC-0158', 'HSC-0159', 'HSC-0168', 'HSC-0171', 'HSC-0172', 'HSC-0199'] \n",
      "\n"
     ]
    },
    {
     "name": "stdin",
     "output_type": "stream",
     "text": [
      "Proceed with new subject schema insert? [yes, no]:  yes\n"
     ]
    }
   ],
   "source": [
    "# PyratIngestion().get_animal(\"HSC-01*\")\n",
    "PyratIngestion().get_animal(\"HSC-01*\")"
   ]
  },
  {
   "cell_type": "code",
   "execution_count": 5,
   "id": "c73859df-74c8-4335-8002-dcc44a1eaa9d",
   "metadata": {},
   "outputs": [
    {
     "name": "stdout",
     "output_type": "stream",
     "text": [
      "User 2\n",
      "Protocol 0\n",
      "Line 9\n",
      "Mutation 5\n",
      "Subject 25\n",
      "SubjectGenotype 14\n"
     ]
    }
   ],
   "source": [
    "print('User', len(subject.User()))\n",
    "print('Protocol', len(subject.Protocol()))\n",
    "print('Line', len(subject.Line()))\n",
    "print('Mutation', len(subject.Mutation()))\n",
    "print('Subject', len(subject.Subject()))\n",
    "print('SubjectGenotype', len(subject.SubjectGenotype()))"
   ]
  },
  {
   "cell_type": "code",
   "execution_count": 6,
   "id": "9e19a41b-aefb-49ee-8ec5-06c8ff93124e",
   "metadata": {},
   "outputs": [
    {
     "name": "stdout",
     "output_type": "stream",
     "text": [
      "Connected\n",
      "Gathering users...\n",
      "Gathering protocols...\n",
      "Gathering lines/mutations...\n",
      "Gathering subjects...\n",
      "--- PyRAT items to be inserted ---\n",
      "User(s):  ['Schneider Simon'] \n",
      "\n",
      "Protocol(s):  [] \n",
      "\n",
      "Line(s):  ['129-Nanos3-Cre', 'B6-Prm1 del #9992', 'B6-Prm1/2 del #9991', 'B6-Prm1/2 del #9994', 'B6-Prm1/2 del #9995'] \n",
      "\n",
      "Mutation(s):  ['Nanos3-Cre', 'K.O.', 'K.O.', 'K.O.', 'K.O.'] \n",
      "\n",
      "Subjects:  ['HSC-0200', 'HSC-0205', 'HSC-0206', 'HSC-0207', 'HSC-0208', 'HSC-0209', 'HSC-0217', 'HSC-0218', 'HSC-0219', 'HSC-0220', 'HSC-0221', 'HSC-0222', 'HSC-0223', 'HSC-0224', 'HSC-0225', 'HSC-0227', 'HSC-0228', 'HSC-0229', 'HSC-0230', 'HSC-0231', 'HSC-0232', 'HSC-0233', 'HSC-0234', 'HSC-0235', 'HSC-0236', 'HSC-0237', 'HSC-0238', 'HSC-0239', 'HSC-0240', 'HSC-0241', 'HSC-0242', 'HSC-0243', 'HSC-0244', 'HSC-0245', 'HSC-0246', 'HSC-0247', 'HSC-0248', 'HSC-0249', 'HSC-0250', 'HSC-0251', 'HSC-0252', 'HSC-0254', 'HSC-0255', 'HSC-0256', 'HSC-0257', 'HSC-0258', 'HSC-0259', 'HSC-0260', 'HSC-0261', 'HSC-0262', 'HSC-0263', 'HSC-0264', 'HSC-0267', 'HSC-0271', 'HSC-0272', 'HSC-0273', 'HSC-0274', 'HSC-0275', 'HSC-0276', 'HSC-0277', 'HSC-0278', 'HSC-0279', 'HSC-0280', 'HSC-0281', 'HSC-0282', 'HSC-0283', 'HSC-0286', 'HSC-0287', 'HSC-0288', 'HSC-0289', 'HSC-0290', 'HSC-0291', 'HSC-0292', 'HSC-0293', 'HSC-0294', 'HSC-0295', 'HSC-0296', 'HSC-0297'] \n",
      "\n"
     ]
    },
    {
     "name": "stdin",
     "output_type": "stream",
     "text": [
      "Proceed with new subject schema insert? [yes, no]:  yes\n"
     ]
    }
   ],
   "source": [
    "PyratIngestion().get_animal(\"HSC-02*\")"
   ]
  },
  {
   "cell_type": "code",
   "execution_count": 7,
   "id": "a0d7be9c-e166-41cf-a04f-99cea903378d",
   "metadata": {},
   "outputs": [
    {
     "name": "stdout",
     "output_type": "stream",
     "text": [
      "User 3\n",
      "Protocol 0\n",
      "Line 14\n",
      "Mutation 10\n",
      "Subject 103\n",
      "SubjectGenotype 48\n"
     ]
    }
   ],
   "source": [
    "print('User', len(subject.User()))\n",
    "print('Protocol', len(subject.Protocol()))\n",
    "print('Line', len(subject.Line()))\n",
    "print('Mutation', len(subject.Mutation()))\n",
    "print('Subject', len(subject.Subject()))\n",
    "print('SubjectGenotype', len(subject.SubjectGenotype()))"
   ]
  },
  {
   "cell_type": "code",
   "execution_count": null,
   "id": "aa23ced4-e503-401a-8f2f-1a52149e709e",
   "metadata": {},
   "outputs": [],
   "source": []
  }
 ],
 "metadata": {
  "jupytext": {
   "formats": "ipynb,py"
  },
  "kernelspec": {
   "display_name": "bonn",
   "language": "python",
   "name": "bonn"
  },
  "language_info": {
   "codemirror_mode": {
    "name": "ipython",
    "version": 3
   },
   "file_extension": ".py",
   "mimetype": "text/x-python",
   "name": "python",
   "nbconvert_exporter": "python",
   "pygments_lexer": "ipython3",
   "version": "3.9.10"
  }
 },
 "nbformat": 4,
 "nbformat_minor": 5
}
