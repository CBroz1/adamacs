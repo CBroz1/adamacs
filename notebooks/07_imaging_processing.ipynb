{
 "cells": [
  {
   "cell_type": "markdown",
   "id": "46f28eb7-1fcc-4b9a-803e-097202fd899d",
   "metadata": {},
   "source": [
    "# Scanning Session Ingestion"
   ]
  },
  {
   "cell_type": "markdown",
   "id": "bba759c2-4cc1-45ee-9212-422a604c32a4",
   "metadata": {},
   "source": [
    "## Setup"
   ]
  },
  {
   "cell_type": "markdown",
   "id": "0da9aa77-afbf-43b2-ad19-e497e05e8627",
   "metadata": {},
   "source": [
    "### Connect to the database"
   ]
  },
  {
   "cell_type": "markdown",
   "id": "bd1468c3-3915-49e6-89a9-10c7940017fd",
   "metadata": {},
   "source": [
    "If you are don't have your login information, contact the administrator.\n",
    "\n",
    "Using local config file (see [01_pipeline](./01_pipeline.ipynb)):"
   ]
  },
  {
   "cell_type": "code",
   "execution_count": 1,
   "id": "301f9675-53e0-4ff6-bf3d-baba6589d6e3",
   "metadata": {},
   "outputs": [
    {
     "name": "stdout",
     "output_type": "stream",
     "text": [
      "Connecting root@172.26.128.53:3306\n"
     ]
    },
    {
     "data": {
      "text/plain": [
       "DataJoint connection (connected) root@172.26.128.53:3306"
      ]
     },
     "execution_count": 1,
     "metadata": {},
     "output_type": "execute_result"
    }
   ],
   "source": [
    "import os\n",
    "# change to the upper level folder to detect dj_local_conf.json\n",
    "if os.path.basename(os.getcwd())=='notebooks': os.chdir('..')\n",
    "assert os.path.basename(os.getcwd())=='adamacs', (\"Please move to the main directory\")\n",
    "import datajoint as dj; dj.conn()\n",
    "\n",
    "from adamacs.pipeline import subject, session, surgery, scan, event, trial, imaging\n",
    "from adamacs import utility\n",
    "from adamacs.ingest import behavior as ibe\n",
    "import numpy as np"
   ]
  },
  {
   "cell_type": "markdown",
   "id": "7a2e2ccf-01d6-4d31-932b-aa12f8cd05a8",
   "metadata": {},
   "source": [
    "Manual entry:"
   ]
  },
  {
   "cell_type": "code",
   "execution_count": null,
   "id": "333074dc-2962-4c3f-ae66-d4164d6ceac9",
   "metadata": {},
   "outputs": [],
   "source": [
    "# Manual Entry\n",
    "import datajoint as dj; import getpass\n",
    "dj.config['database.host'] = '172.26.128.53'        # Put the server name between these apostrophe\n",
    "dj.config['database.user'] = 'root'             # Put your user name between these apostrophe\n",
    "dj.config['database.password'] = getpass.getpass()  # Put your password in the prompt\n",
    "dj.conn()\n",
    "\n",
    "from adamacs.pipeline import subject, session, surgery, scan, event, trial, imaging\n",
    "from adamacs import utility\n",
    "from adamacs.ingest import behavior as ibe\n",
    "import numpy as np"
   ]
  },
  {
   "cell_type": "markdown",
   "id": "bb115bfc-2abb-45c9-bcba-c5c9e73b8990",
   "metadata": {},
   "source": [
    "### Creating a Parameter Set"
   ]
  },
  {
   "cell_type": "markdown",
   "id": "a3824b13",
   "metadata": {},
   "source": [
    "What exactly happens during processing dependso on the parameter set. This is an example of a parameter set and its insert:"
   ]
  },
  {
   "cell_type": "code",
   "execution_count": 3,
   "id": "681d737d-721e-4f3a-8386-c1c55968f0ff",
   "metadata": {},
   "outputs": [],
   "source": [
    "# Insert the param_set\n",
    "params_suite2p = {'look_one_level_down': 0.0,\n",
    "                  'fast_disk': [],\n",
    "                  'delete_bin': False,\n",
    "                  'mesoscan': False,\n",
    "                  'h5py': [],\n",
    "                  'h5py_key': 'data',\n",
    "                  'save_path0': [],\n",
    "                  'subfolders': [],\n",
    "                  'nplanes': 1,\n",
    "                  'nchannels': 1,\n",
    "                  'functional_chan': 1,\n",
    "                  'tau': 1.0,\n",
    "                  'fs': 10.0,\n",
    "                  'force_sktiff': False,\n",
    "                  'preclassify': 0.0,\n",
    "                  'save_mat': False,\n",
    "                  'combined': True,\n",
    "                  'aspect': 1.0,\n",
    "                  'do_bidiphase': False,\n",
    "                  'bidiphase': 0.0,\n",
    "                  'do_registration': True,\n",
    "                  'keep_movie_raw': False,\n",
    "                  'nimg_init': 300,\n",
    "                  'batch_size': 500,\n",
    "                  'maxregshift': 0.1,\n",
    "                  'align_by_chan': 1,\n",
    "                  'reg_tif': False,\n",
    "                  'reg_tif_chan2': False,\n",
    "                  'subpixel': 10,\n",
    "                  'smooth_sigma': 1.15,\n",
    "                  'th_badframes': 1.0,\n",
    "                  'pad_fft': False,\n",
    "                  'nonrigid': True,\n",
    "                  'block_size': [128, 128],\n",
    "                  'snr_thresh': 1.2,\n",
    "                  'maxregshiftNR': 5.0,\n",
    "                  '1Preg': False,\n",
    "                  'spatial_hp': 50.0,\n",
    "                  'pre_smooth': 2.0,\n",
    "                  'spatial_taper': 50.0,\n",
    "                  'roidetect': True,\n",
    "                  'sparse_mode': False,\n",
    "                  'diameter': 12,\n",
    "                  'spatial_scale': 0,\n",
    "                  'connected': True,\n",
    "                  'nbinned': 5000,\n",
    "                  'max_iterations': 20,\n",
    "                  'threshold_scaling': 1.0,\n",
    "                  'max_overlap': 0.75,\n",
    "                  'high_pass': 100.0,\n",
    "                  'inner_neuropil_radius': 2,\n",
    "                  'min_neuropil_pixels': 350,\n",
    "                  'allow_overlap': False,\n",
    "                  'chan2_thres': 0.65,\n",
    "                  'baseline': 'maximin',\n",
    "                  'win_baseline': 60.0,\n",
    "                  'sig_baseline': 10.0,\n",
    "                  'prctile_baseline': 8.0,\n",
    "                  'neucoeff': 0.7,\n",
    "                  'xrange': np.array([0, 0]),\n",
    "                  'yrange': np.array([0, 0])}\n",
    "\n",
    "imaging.ProcessingParamSet.insert_new_params('suite2p', 1, 'basic params', params_suite2p)"
   ]
  },
  {
   "cell_type": "markdown",
   "id": "92fc5cf3",
   "metadata": {},
   "source": [
    "### Create and Run a Processing Task"
   ]
  },
  {
   "cell_type": "code",
   "execution_count": 4,
   "id": "c89ee0c7",
   "metadata": {},
   "outputs": [],
   "source": [
    "imaging.ProcessingTask.insert1(('sessJ49456FR',\n",
    "                                'scan7954564G',\n",
    "                                1,\n",
    "                                'DB_Testmouse1_2021-08-09_scan7954564G_sessJ49456FR',\n",
    "                                'trigger'))"
   ]
  },
  {
   "cell_type": "markdown",
   "id": "568cf5a8",
   "metadata": {},
   "source": [
    "To run all unprocessed processing task we call populate on processing:"
   ]
  },
  {
   "cell_type": "code",
   "execution_count": 3,
   "id": "c4c8bb54-ae93-4974-9ff7-ac74dfa2baa0",
   "metadata": {
    "scrolled": true
   },
   "outputs": [
    {
     "name": "stderr",
     "output_type": "stream",
     "text": [
      "Processing:   0%|                                                                                | 0/1 [00:00<?, ?it/s]C:\\Programs\\envs\\datajoint3\\lib\\site-packages\\tqdm\\auto.py:22: TqdmWarning: IProgress not found. Please update jupyter and ipywidgets. See https://ipywidgets.readthedocs.io/en/stable/user_install.html\n",
      "  from .autonotebook import tqdm as notebook_tqdm\n"
     ]
    },
    {
     "name": "stdout",
     "output_type": "stream",
     "text": [
      "Warning: cellpose did not import\n",
      "No module named 'cellpose'\n",
      "cannot use anatomical mode, but otherwise suite2p will run normally\n",
      "{'data_path': ['D:/datajoint/DB_Testmouse1_2021-08-09_scan7954564G_sessJ49456FR'], 'tiff_list': ['D:/datajoint/DB_Testmouse1_2021-08-09_scan7954564G_sessJ49456FR/exp65533_AN_00001_headfixed.tif']}\n",
      "tif\n",
      "** Found 1 tifs - converting to binary **\n",
      "2000 frames of binary, time 23.99 sec.\n",
      "4000 frames of binary, time 38.05 sec.\n",
      "time 42.20 sec. Wrote 4600 frames per binary for 1 planes\n",
      ">>>>>>>>>>>>>>>>>>>>> PLANE 0 <<<<<<<<<<<<<<<<<<<<<<\n",
      "NOTE: not registered / registration forced with ops['do_registration']>1\n",
      "      (no previous offsets to delete)\n",
      "----------- REGISTRATION\n",
      "registering 4600 frames\n",
      "Reference frame, 13.79 sec.\n",
      "Registered 2000/4600 in 73.82s\n",
      "Registered 4000/4600 in 146.47s\n",
      "added enhanced mean image\n",
      "----------- Total 190.75 sec\n",
      "Registration metrics, 19.08 sec.\n",
      "NOTE: Applying builtin classifier at C:\\Programs\\envs\\datajoint3\\Lib\\site-packages\\suite2p\\classifiers\\classifier.npy\n",
      "----------- ROI DETECTION\n",
      "Binning movie in chunks of length 08\n",
      "Binned movie [516,416,416] in 3.96 sec.\n",
      "ROIs: 200, cost: 0.5272, time: 7.8010\n",
      "ROIs: 400, cost: 0.5130, time: 13.4306\n",
      "ROIs: 525, cost: 0.5043, time: 18.4729\n",
      "ROIs: 540, cost: 0.5029, time: 21.8385\n",
      "ROIs: 540, cost: 0.5325, time: 23.6151\n",
      "ROIs: 540, cost: 0.5260, time: 27.2072\n",
      "ROIs: 540, cost: 0.5248, time: 29.6723\n",
      "Detected 540 ROIs, 38.36 sec\n",
      "After removing overlaps, 540 ROIs remain\n",
      "----------- Total 43.78 sec.\n",
      "----------- EXTRACTION\n",
      "Masks created, 1.86 sec.\n",
      "Extracted fluorescence from 540 ROIs in 4600 frames, 11.45 sec.\n",
      "----------- Total 13.95 sec.\n",
      "----------- CLASSIFICATION\n",
      "['skew', 'npix_norm', 'compact']\n",
      "----------- Total 0.03 sec.\n",
      "----------- SPIKE DECONVOLUTION\n",
      "----------- Total 0.13 sec.\n",
      "Plane 0 processed in 268.01 sec (can open in GUI).\n",
      "total = 310.45 sec.\n",
      "TOTAL RUNTIME 310.45 sec\n"
     ]
    },
    {
     "name": "stderr",
     "output_type": "stream",
     "text": [
      "Processing: 100%|███████████████████████████████████████████████████████████████████████| 1/1 [05:17<00:00, 317.90s/it]\n"
     ]
    }
   ],
   "source": [
    "imaging.Processing.populate(display_progress=True)"
   ]
  }
 ],
 "metadata": {
  "jupytext": {
   "formats": "ipynb,py"
  },
  "kernelspec": {
   "display_name": "Python 3 (ipykernel)",
   "language": "python",
   "name": "python3"
  },
  "language_info": {
   "codemirror_mode": {
    "name": "ipython",
    "version": 3
   },
   "file_extension": ".py",
   "mimetype": "text/x-python",
   "name": "python",
   "nbconvert_exporter": "python",
   "pygments_lexer": "ipython3",
   "version": "3.8.13"
  }
 },
 "nbformat": 4,
 "nbformat_minor": 5
}
