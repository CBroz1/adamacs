{
 "cells": [
  {
   "cell_type": "markdown",
   "id": "211fb11c-9578-4d06-82a9-4269c293b599",
   "metadata": {},
   "source": [
    "# Pipeline Activation"
   ]
  },
  {
   "cell_type": "markdown",
   "id": "c152098b-b7ec-4d17-93b6-d0d8320cc90a",
   "metadata": {},
   "source": [
    "## Setup"
   ]
  },
  {
   "cell_type": "markdown",
   "id": "31465ce8-abfe-4dff-9948-9afd2c7a1253",
   "metadata": {},
   "source": [
    "First, login information. If you are don't have your login information, contact the administrator. To set this information, you can\n",
    "1. One can either change to a directory with a local config file `dj_local_conf.json`, example below.\n",
    "2. Set these permissions on a machine globally (see [documentation](https://docs.datajoint.org/python/v0.13/setup/01-Install-and-Connect.html))\n",
    "3. Set these values for each session.\n",
    "\n",
    "Example local config:\n",
    "```json\n",
    "{\n",
    "    \"database.host\": \"host\",\n",
    "    \"database.password\": \"pass\",\n",
    "    \"database.user\": \"USER\",\n",
    "    \"database.port\": 3306,\n",
    "    \"database.reconnect\": true,\n",
    "    \"connection.init_function\": null,\n",
    "    \"connection.charset\": \"\",\n",
    "    \"loglevel\": \"INFO\",\n",
    "    \"safemode\": true,\n",
    "    \"fetch_format\": \"array\",\n",
    "    \"display.limit\": 12,\n",
    "    \"display.width\": 14,\n",
    "    \"display.show_tuple_count\": true,\n",
    "    \"database.use_tls\": null,\n",
    "    \"enable_python_native_blobs\": true,\n",
    "    \"database.ingest_filename_short\": \"\",\n",
    "    \"database.ingest_filename_full\": \"\",\n",
    "    \"custom\": {\n",
    "        \"database.prefix\": \"adamacs_\",\n",
    "        \"dlc_root_data_dir\": [\n",
    "            \"/My/Local/Dir1\",\n",
    "            \"/My/Local/Dir2\"\n",
    "        ],\n",
    "        \"dlc_output_dir\": \"/My/Local/Dir3/optional\",\n",
    "        \"imaging_root_data_dir\" : [\n",
    "            \"/My/Local/Dir4\",\n",
    "            \"/My/Local/Dir5\",\n",
    "        ],\n",
    "        \"pyrat_user_token\": \"token\",\n",
    "        \"pyrat_client_token\": \"token\"\n",
    "    }\n",
    "}\n",
    "\n",
    "```"
   ]
  },
  {
   "cell_type": "markdown",
   "id": "08538e7a-074a-46d7-96b5-7f4d77375da9",
   "metadata": {},
   "source": [
    "Move to detect local config:"
   ]
  },
  {
   "cell_type": "code",
   "execution_count": 1,
   "id": "f0ecb75f",
   "metadata": {},
   "outputs": [],
   "source": [
    "import datajoint as dj\n",
    "# dj.config"
   ]
  },
  {
   "cell_type": "code",
   "execution_count": 1,
   "id": "3bae565c-0450-4a6a-b9c1-11eb72c1dbc8",
   "metadata": {},
   "outputs": [
    {
     "name": "stdout",
     "output_type": "stream",
     "text": [
      "Connecting root@172.26.128.53:3306\n"
     ]
    },
    {
     "data": {
      "text/plain": [
       "DataJoint connection (connected) root@172.26.128.53:3306"
      ]
     },
     "execution_count": 1,
     "metadata": {},
     "output_type": "execute_result"
    }
   ],
   "source": [
    "import os\n",
    "if os.path.basename(os.getcwd())=='notebooks': os.chdir('..')\n",
    "assert os.path.basename(os.getcwd())=='adamacs', (\"Please move to the main directory\")\n",
    "import datajoint as dj; dj.conn()"
   ]
  },
  {
   "cell_type": "markdown",
   "id": "ed77c1c0-8341-4dbe-8be6-5f20f152cb24",
   "metadata": {},
   "source": [
    "Alternatively, set login information during this session:"
   ]
  },
  {
   "cell_type": "code",
   "execution_count": 2,
   "id": "b44e65cd-b898-4ca8-9017-0985e38ad6de",
   "metadata": {},
   "outputs": [
    {
     "name": "stdout",
     "output_type": "stream",
     "text": [
      "········\n"
     ]
    },
    {
     "data": {
      "text/plain": [
       "DataJoint connection (connected) root@172.26.128.53:3306"
      ]
     },
     "execution_count": 2,
     "metadata": {},
     "output_type": "execute_result"
    }
   ],
   "source": [
    "import datajoint as dj; import getpass\n",
    "dj.config['database.host'] = '172.26.128.53'\n",
    "dj.config['database.user'] = 'danielmk'\n",
    "dj.config['database.password'] = getpass.getpass() # enter the password securily\n",
    "dj.conn()"
   ]
  },
  {
   "cell_type": "markdown",
   "id": "4f1c49c5-22aa-41e4-863c-23bb1d104333",
   "metadata": {},
   "source": [
    "## Activation"
   ]
  },
  {
   "cell_type": "markdown",
   "id": "a74f3d80-8744-47cc-a705-a6c2445ae58c",
   "metadata": {},
   "source": [
    "Next, activate the schema. \n",
    "\n",
    "`adamacs/pipeline.py` includes all the pieces required to activate the whole pipeline via import."
   ]
  },
  {
   "cell_type": "code",
   "execution_count": 2,
   "id": "a271fd94-f9de-4832-acef-48634209ef04",
   "metadata": {},
   "outputs": [],
   "source": [
    "import datajoint as dj\n",
    "from adamacs.pipeline import subject, session, surgery, session, behavior, equipment, \\\n",
    "                             imaging, scan, train, model"
   ]
  },
  {
   "cell_type": "markdown",
   "id": "4b7eb9ea-41ec-4957-9046-c7fcf4c35990",
   "metadata": {},
   "source": [
    "To visualize the pipeline, we can generate diagrams for any combination of schemas."
   ]
  },
  {
   "cell_type": "code",
   "execution_count": 6,
   "id": "0eaf4bb3-0572-43fc-8f33-993e5088003c",
   "metadata": {},
   "outputs": [
    {
     "data": {
      "text/html": [
       "\n",
       "    \n",
       "    <style type=\"text/css\">\n",
       "        .Relation{\n",
       "            border-collapse:collapse;\n",
       "        }\n",
       "        .Relation th{\n",
       "            background: #A0A0A0; color: #ffffff; padding:4px; border:#f0e0e0 1px solid;\n",
       "            font-weight: normal; font-family: monospace; font-size: 100%;\n",
       "        }\n",
       "        .Relation td{\n",
       "            padding:4px; border:#f0e0e0 1px solid; font-size:100%;\n",
       "        }\n",
       "        .Relation tr:nth-child(odd){\n",
       "            background: #ffffff;\n",
       "        }\n",
       "        .Relation tr:nth-child(even){\n",
       "            background: #f3f1ff;\n",
       "        }\n",
       "        /* Tooltip container */\n",
       "        .djtooltip {\n",
       "        }\n",
       "        /* Tooltip text */\n",
       "        .djtooltip .djtooltiptext {\n",
       "            visibility: hidden;\n",
       "            width: 120px;\n",
       "            background-color: black;\n",
       "            color: #fff;\n",
       "            text-align: center;\n",
       "            padding: 5px 0;\n",
       "            border-radius: 6px;\n",
       "            /* Position the tooltip text - see examples below! */\n",
       "            position: absolute;\n",
       "            z-index: 1;\n",
       "        }\n",
       "        #primary {\n",
       "            font-weight: bold;\n",
       "            color: black;\n",
       "        }\n",
       "        #nonprimary {\n",
       "            font-weight: normal;\n",
       "            color: white;\n",
       "        }\n",
       "\n",
       "        /* Show the tooltip text when you mouse over the tooltip container */\n",
       "        .djtooltip:hover .djtooltiptext {\n",
       "            visibility: visible;\n",
       "        }\n",
       "    </style>\n",
       "    \n",
       "    <b>Animal Subject</b>\n",
       "        <div style=\"max-height:1000px;max-width:1500px;overflow:auto;\">\n",
       "        <table border=\"1\" class=\"Relation\">\n",
       "            <thead> <tr style=\"text-align: right;\"> <th> <div class=\"djtooltip\">\n",
       "                            <p id=\"primary\">subject</p>\n",
       "                            <span class=\"djtooltiptext\">ID</span>\n",
       "                        </div></th><th><div class=\"djtooltip\">\n",
       "                            <p id=\"nonprimary\">lab</p>\n",
       "                            <span class=\"djtooltiptext\">short lab name</span>\n",
       "                        </div></th><th><div class=\"djtooltip\">\n",
       "                            <p id=\"nonprimary\">earmark</p>\n",
       "                            <span class=\"djtooltiptext\">aka lab_id</span>\n",
       "                        </div></th><th><div class=\"djtooltip\">\n",
       "                            <p id=\"nonprimary\">sex</p>\n",
       "                            <span class=\"djtooltiptext\">Geschlecht</span>\n",
       "                        </div></th><th><div class=\"djtooltip\">\n",
       "                            <p id=\"nonprimary\">birth_date</p>\n",
       "                            <span class=\"djtooltiptext\">Geb.</span>\n",
       "                        </div></th><th><div class=\"djtooltip\">\n",
       "                            <p id=\"nonprimary\">subject_description</p>\n",
       "                            <span class=\"djtooltiptext\"></span>\n",
       "                        </div></th><th><div class=\"djtooltip\">\n",
       "                            <p id=\"nonprimary\">generation</p>\n",
       "                            <span class=\"djtooltiptext\">Generation (F2 in example sheet)</span>\n",
       "                        </div></th><th><div class=\"djtooltip\">\n",
       "                            <p id=\"nonprimary\">owner</p>\n",
       "                            <span class=\"djtooltiptext\">Besitzer</span>\n",
       "                        </div></th><th><div class=\"djtooltip\">\n",
       "                            <p id=\"nonprimary\">responsible</p>\n",
       "                            <span class=\"djtooltiptext\">Verantwortlicher</span>\n",
       "                        </div></th><th><div class=\"djtooltip\">\n",
       "                            <p id=\"nonprimary\">line</p>\n",
       "                            <span class=\"djtooltiptext\"></span>\n",
       "                        </div></th><th><div class=\"djtooltip\">\n",
       "                            <p id=\"nonprimary\">user</p>\n",
       "                            <span class=\"djtooltiptext\"></span>\n",
       "                        </div></th><th><div class=\"djtooltip\">\n",
       "                            <p id=\"nonprimary\">project</p>\n",
       "                            <span class=\"djtooltiptext\"></span>\n",
       "                        </div></th><th><div class=\"djtooltip\">\n",
       "                            <p id=\"nonprimary\">protocol</p>\n",
       "                            <span class=\"djtooltiptext\"></span>\n",
       "                        </div> </th> </tr> </thead>\n",
       "            <tbody> <tr>  </tr> </tbody>\n",
       "        </table>\n",
       "        \n",
       "        <p>Total: 0</p></div>\n",
       "        "
      ],
      "text/plain": [
       "*subject    lab     earmark     sex     birth_date     subject_descri generation     owner     responsible    line     user     project     protocol    \n",
       "+---------+ +-----+ +---------+ +-----+ +------------+ +------------+ +------------+ +-------+ +------------+ +------+ +------+ +---------+ +----------+\n",
       "\n",
       " (Total: 0)"
      ]
     },
     "execution_count": 6,
     "metadata": {},
     "output_type": "execute_result"
    }
   ],
   "source": [
    "\"\"\"Run this cell to insert a single laboratory into the database.\n",
    "USE ONLY IF YOU KNOW WHAT YOU ARE DOING!\n",
    "Insert the data of the laboratory you want to enter into the following 4 lines.\n",
    "\"\"\"\n",
    "lab_key = 'Rose'  # Short, unique identifier for the lab. Maximum 8 characters. Example: 'Rose'.\n",
    "lab_name = 'Neuronal input-output computation during cognition'  # A longer, more descriptive name for the laboratory.\n",
    "institution = 'Institute for Experimental Epileptology and Cognition Research'  # The institution the laboratory belongs to.\n",
    "address = 'Venusberg-Campus 1, 53127 Bonn'  # The postal address of the laboratory.\n",
    "\n",
    "subject.Lab.insert1((lab_key, lab_name, institution, address), skip_duplicates=True)\n",
    "\n",
    "\"\"\"Run this cell to insert a single protocol into the database.\n",
    "USE ONLY IF YOU KNOW WHAT YOU ARE DOING!\n",
    "Insert the data of the protocol you want to enter into the following 2 lines.\n",
    "\"\"\"\n",
    "protocol_key = 'LANUF1'  # Short, unique identifier for the protocol. Maximum 16 characters.\n",
    "protocol_description = 'Another dummy protocol ID for testing purposes'  # Description of the protocol.\n",
    "\n",
    "protocol.insert1((protocol_key, protocol_description), skip_duplicates=True)\n",
    "\n",
    "\"\"\"Run this cell to insert a single user into the database.\n",
    "Note that this user refers to the user that handles a subject, not necessarily as database user.\n",
    "USE ONLY IF YOU KNOW WHAT YOU ARE DOING!\n",
    "Insert the data of the laboratory you want to enter into the following 2 lines.\"\"\"\n",
    "user_key = '1'\n",
    "name = 'DB'\n",
    "lab_key = 'Rose'\n",
    "\n",
    "user.insert1((user_key, name, lab_key), skip_duplicates=True)\n",
    "\"\"\"Run this cell to insert a single line into the database.\n",
    "USE ONLY IF YOU KNOW WHAT YOU ARE DOING!\n",
    "Insert the data of the laboratory you want to enter into the following 4 lines.\"\"\"\n",
    "line_key = 1  # Short, unique identifier for the line.\n",
    "line_description = 'Gcamp6-ThyC57BL/6J-Tg(Thy1-GCaMP6s)GP4.12Dkim/J'  # Description of the line.\n",
    "is_active = 1  # The target phenotype of the line.\n",
    "\n",
    "line.insert1((line_key, line_description, is_active), skip_duplicates=True)\n",
    "\n",
    "\"\"\"Run this cell to insert a single project into the database.\n",
    "USE ONLY IF YOU KNOW WHAT YOU ARE DOING!\n",
    "Insert the data of the laboratory you want to enter into the following 2 lines.\"\"\"\n",
    "project_key = 'TEC'\n",
    "project_description = 'Trace Eyeblink Conditioning'\n",
    "\n",
    "project.insert1((project_key, project_description), skip_duplicates=True)\n",
    "\n",
    "# ROS-0019\tRose\tG155\tM\t2010-08-20\tBasic Mouse\tSST-IRES-Cre\tdanielmk\tTEC\tLANUF1\n",
    "sub.insert1(('WEZ-8701', 'G155', 'M', '2010-08-20', \"Raw data ingestion test mouse\", 'F2', None, 1, 1, 1, 'LANUF1'))"
   ]
  },
  {
   "cell_type": "code",
   "execution_count": null,
   "id": "fc64b50b",
   "metadata": {},
   "outputs": [],
   "source": []
  }
 ],
 "metadata": {
  "jupytext": {
   "formats": "ipynb,py"
  },
  "kernelspec": {
   "display_name": "Python 3 (ipykernel)",
   "language": "python",
   "name": "python3"
  },
  "language_info": {
   "codemirror_mode": {
    "name": "ipython",
    "version": 3
   },
   "file_extension": ".py",
   "mimetype": "text/x-python",
   "name": "python",
   "nbconvert_exporter": "python",
   "pygments_lexer": "ipython3",
   "version": "3.8.13"
  }
 },
 "nbformat": 4,
 "nbformat_minor": 5
}
