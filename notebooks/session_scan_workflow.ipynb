{
 "cells": [
  {
   "cell_type": "code",
   "execution_count": 1,
   "id": "67d55cbc",
   "metadata": {},
   "outputs": [
    {
     "name": "stdout",
     "output_type": "stream",
     "text": [
      "Connecting danielmk@172.26.128.53:3306\n"
     ]
    }
   ],
   "source": [
    "from adamacs.schemas import subject, surgery, equipment\n",
    "from adamacs import utility, nbgui\n",
    "from element_session import session_with_id\n",
    "\n",
    "\n",
    "import datajoint as dj\n",
    "\n",
    "\"\"\"If you are don't have your login information, contact the administrator.\"\"\"\n",
    "dj.config['database.host'] = '172.26.128.53'  # Put the server name between these apostrophe\n",
    "dj.config['database.user'] = 'danielmk'  # Put your user name between these apostrophe\n",
    "dj.config['database.password'] = 'thor13Phoenix%'  # Put your password between these apostrophe\n",
    "dj.conn()\n",
    "utility.activate_many(name='tutorial')\n",
    "sub, lab, protocol, line, mutation, user, project, subject_genotype, subject_death = (\n",
    "    subject.Subject(), subject.Lab(), subject.Protocol(), subject.Line(), subject.Mutation(), subject.User(),\n",
    "    subject.Project(), subject.SubjectGenotype(), subject.SubjectDeath()\n",
    "    )\n",
    "session_with_id.activate('tutorial', create_schema=True, create_tables=True,\n",
    "             linking_module=subject)"
   ]
  },
  {
   "cell_type": "code",
   "execution_count": 2,
   "id": "878c5a4d",
   "metadata": {},
   "outputs": [],
   "source": [
    "from adamacs.ingest import session as isess"
   ]
  },
  {
   "cell_type": "code",
   "execution_count": 3,
   "id": "e04adcf4",
   "metadata": {},
   "outputs": [
    {
     "name": "stdout",
     "output_type": "stream",
     "text": [
      "[['scan9FB2LFT0']]\n",
      "['DB_WEZ-8701_2022-03-18_scan9FB2LFT0_sess9FB2LFT0']\n"
     ]
    },
    {
     "name": "stderr",
     "output_type": "stream",
     "text": [
      "c:\\users\\daniel\\repos\\adamacs\\adamacs\\ingest\\session.py:68: UserWarning: Session row ('sess9FB2LFT0', 'WEZ-8701', '2022-03-18') already inserted. Skipped!\n",
      "  warnings.warn(f'Session row {session_key, subject, date} already inserted. Skipped!')\n",
      "c:\\users\\daniel\\repos\\adamacs\\adamacs\\ingest\\session.py:73: UserWarning: SessionDirectory ('sess9FB2LFT0', 'C:\\\\datajoint', 'DB') already inserted. Skipped!\n",
      "  warnings.warn(f'SessionDirectory {session_key, session_path, user} already inserted. Skipped!')\n",
      "c:\\users\\daniel\\repos\\adamacs\\adamacs\\ingest\\session.py:78: UserWarning: SessionUser ('sess9FB2LFT0', 'DB') already inserted. Skipped!\n",
      "  warnings.warn(f'SessionUser {session_key, user} already inserted. Skipped!')\n"
     ]
    }
   ],
   "source": [
    "isess.ingest_session('sess9FB2LFT0')"
   ]
  },
  {
   "cell_type": "code",
   "execution_count": 6,
   "id": "00754a0e",
   "metadata": {},
   "outputs": [],
   "source": [
    "test = ('sess9FB2LFT0', 'WEZ-8701', '2022-03-18')"
   ]
  },
  {
   "cell_type": "code",
   "execution_count": 8,
   "id": "eaa40127",
   "metadata": {},
   "outputs": [
    {
     "ename": "DataJointError",
     "evalue": "Invalid insert argument. Incorrect number of attributes: 3 given; 2 expected",
     "output_type": "error",
     "traceback": [
      "\u001b[1;31m---------------------------------------------------------------------------\u001b[0m",
      "\u001b[1;31mDataJointError\u001b[0m                            Traceback (most recent call last)",
      "Input \u001b[1;32mIn [8]\u001b[0m, in \u001b[0;36m<cell line: 1>\u001b[1;34m()\u001b[0m\n\u001b[1;32m----> 1\u001b[0m \u001b[43msession_with_id\u001b[49m\u001b[38;5;241;43m.\u001b[39;49m\u001b[43mSession\u001b[49m\u001b[43m(\u001b[49m\u001b[43m)\u001b[49m\u001b[38;5;241;43m.\u001b[39;49m\u001b[43minsert1\u001b[49m\u001b[43m(\u001b[49m\u001b[43mtest\u001b[49m\u001b[43m)\u001b[49m\n",
      "File \u001b[1;32m~\\anaconda3\\envs\\datajoint3\\lib\\site-packages\\datajoint\\table.py:325\u001b[0m, in \u001b[0;36mTable.insert1\u001b[1;34m(self, row, **kwargs)\u001b[0m\n\u001b[0;32m    318\u001b[0m \u001b[38;5;28;01mdef\u001b[39;00m \u001b[38;5;21minsert1\u001b[39m(\u001b[38;5;28mself\u001b[39m, row, \u001b[38;5;241m*\u001b[39m\u001b[38;5;241m*\u001b[39mkwargs):\n\u001b[0;32m    319\u001b[0m     \u001b[38;5;124;03m\"\"\"\u001b[39;00m\n\u001b[0;32m    320\u001b[0m \u001b[38;5;124;03m    Insert one data record into the table. For ``kwargs``, see ``insert()``.\u001b[39;00m\n\u001b[0;32m    321\u001b[0m \n\u001b[0;32m    322\u001b[0m \u001b[38;5;124;03m    :param row: a numpy record, a dict-like object, or an ordered sequence to be inserted\u001b[39;00m\n\u001b[0;32m    323\u001b[0m \u001b[38;5;124;03m    as one row.\u001b[39;00m\n\u001b[0;32m    324\u001b[0m \u001b[38;5;124;03m    \"\"\"\u001b[39;00m\n\u001b[1;32m--> 325\u001b[0m     \u001b[38;5;28;43mself\u001b[39;49m\u001b[38;5;241;43m.\u001b[39;49m\u001b[43minsert\u001b[49m\u001b[43m(\u001b[49m\u001b[43m(\u001b[49m\u001b[43mrow\u001b[49m\u001b[43m,\u001b[49m\u001b[43m)\u001b[49m\u001b[43m,\u001b[49m\u001b[43m \u001b[49m\u001b[38;5;241;43m*\u001b[39;49m\u001b[38;5;241;43m*\u001b[39;49m\u001b[43mkwargs\u001b[49m\u001b[43m)\u001b[49m\n",
      "File \u001b[1;32m~\\anaconda3\\envs\\datajoint3\\lib\\site-packages\\datajoint\\table.py:397\u001b[0m, in \u001b[0;36mTable.insert\u001b[1;34m(self, rows, replace, skip_duplicates, ignore_extra_fields, allow_direct_insert)\u001b[0m\n\u001b[0;32m    394\u001b[0m     \u001b[38;5;28;01mreturn\u001b[39;00m\n\u001b[0;32m    396\u001b[0m field_list \u001b[38;5;241m=\u001b[39m []  \u001b[38;5;66;03m# collects the field list from first row (passed by reference)\u001b[39;00m\n\u001b[1;32m--> 397\u001b[0m rows \u001b[38;5;241m=\u001b[39m \u001b[38;5;28;43mlist\u001b[39;49m\u001b[43m(\u001b[49m\n\u001b[0;32m    398\u001b[0m \u001b[43m    \u001b[49m\u001b[38;5;28;43mself\u001b[39;49m\u001b[38;5;241;43m.\u001b[39;49m\u001b[43m__make_row_to_insert\u001b[49m\u001b[43m(\u001b[49m\u001b[43mrow\u001b[49m\u001b[43m,\u001b[49m\u001b[43m \u001b[49m\u001b[43mfield_list\u001b[49m\u001b[43m,\u001b[49m\u001b[43m \u001b[49m\u001b[43mignore_extra_fields\u001b[49m\u001b[43m)\u001b[49m\n\u001b[0;32m    399\u001b[0m \u001b[43m    \u001b[49m\u001b[38;5;28;43;01mfor\u001b[39;49;00m\u001b[43m \u001b[49m\u001b[43mrow\u001b[49m\u001b[43m \u001b[49m\u001b[38;5;129;43;01min\u001b[39;49;00m\u001b[43m \u001b[49m\u001b[43mrows\u001b[49m\n\u001b[0;32m    400\u001b[0m \u001b[43m\u001b[49m\u001b[43m)\u001b[49m\n\u001b[0;32m    401\u001b[0m \u001b[38;5;28;01mif\u001b[39;00m rows:\n\u001b[0;32m    402\u001b[0m     \u001b[38;5;28;01mtry\u001b[39;00m:\n",
      "File \u001b[1;32m~\\anaconda3\\envs\\datajoint3\\lib\\site-packages\\datajoint\\table.py:398\u001b[0m, in \u001b[0;36m<genexpr>\u001b[1;34m(.0)\u001b[0m\n\u001b[0;32m    394\u001b[0m     \u001b[38;5;28;01mreturn\u001b[39;00m\n\u001b[0;32m    396\u001b[0m field_list \u001b[38;5;241m=\u001b[39m []  \u001b[38;5;66;03m# collects the field list from first row (passed by reference)\u001b[39;00m\n\u001b[0;32m    397\u001b[0m rows \u001b[38;5;241m=\u001b[39m \u001b[38;5;28mlist\u001b[39m(\n\u001b[1;32m--> 398\u001b[0m     \u001b[38;5;28;43mself\u001b[39;49m\u001b[38;5;241;43m.\u001b[39;49m\u001b[43m__make_row_to_insert\u001b[49m\u001b[43m(\u001b[49m\u001b[43mrow\u001b[49m\u001b[43m,\u001b[49m\u001b[43m \u001b[49m\u001b[43mfield_list\u001b[49m\u001b[43m,\u001b[49m\u001b[43m \u001b[49m\u001b[43mignore_extra_fields\u001b[49m\u001b[43m)\u001b[49m\n\u001b[0;32m    399\u001b[0m     \u001b[38;5;28;01mfor\u001b[39;00m row \u001b[38;5;129;01min\u001b[39;00m rows\n\u001b[0;32m    400\u001b[0m )\n\u001b[0;32m    401\u001b[0m \u001b[38;5;28;01mif\u001b[39;00m rows:\n\u001b[0;32m    402\u001b[0m     \u001b[38;5;28;01mtry\u001b[39;00m:\n",
      "File \u001b[1;32m~\\anaconda3\\envs\\datajoint3\\lib\\site-packages\\datajoint\\table.py:891\u001b[0m, in \u001b[0;36mTable.__make_row_to_insert\u001b[1;34m(self, row, field_list, ignore_extra_fields)\u001b[0m\n\u001b[0;32m    889\u001b[0m \u001b[38;5;28;01mtry\u001b[39;00m:\n\u001b[0;32m    890\u001b[0m     \u001b[38;5;28;01mif\u001b[39;00m \u001b[38;5;28mlen\u001b[39m(row) \u001b[38;5;241m!=\u001b[39m \u001b[38;5;28mlen\u001b[39m(\u001b[38;5;28mself\u001b[39m\u001b[38;5;241m.\u001b[39mheading):\n\u001b[1;32m--> 891\u001b[0m         \u001b[38;5;28;01mraise\u001b[39;00m DataJointError(\n\u001b[0;32m    892\u001b[0m             \u001b[38;5;124m\"\u001b[39m\u001b[38;5;124mInvalid insert argument. Incorrect number of attributes: \u001b[39m\u001b[38;5;124m\"\u001b[39m\n\u001b[0;32m    893\u001b[0m             \u001b[38;5;124m\"\u001b[39m\u001b[38;5;132;01m{given}\u001b[39;00m\u001b[38;5;124m given; \u001b[39m\u001b[38;5;132;01m{expected}\u001b[39;00m\u001b[38;5;124m expected\u001b[39m\u001b[38;5;124m\"\u001b[39m\u001b[38;5;241m.\u001b[39mformat(\n\u001b[0;32m    894\u001b[0m                 given\u001b[38;5;241m=\u001b[39m\u001b[38;5;28mlen\u001b[39m(row), expected\u001b[38;5;241m=\u001b[39m\u001b[38;5;28mlen\u001b[39m(\u001b[38;5;28mself\u001b[39m\u001b[38;5;241m.\u001b[39mheading)\n\u001b[0;32m    895\u001b[0m             )\n\u001b[0;32m    896\u001b[0m         )\n\u001b[0;32m    897\u001b[0m \u001b[38;5;28;01mexcept\u001b[39;00m \u001b[38;5;167;01mTypeError\u001b[39;00m:\n\u001b[0;32m    898\u001b[0m     \u001b[38;5;28;01mraise\u001b[39;00m DataJointError(\u001b[38;5;124m\"\u001b[39m\u001b[38;5;124mDatatype \u001b[39m\u001b[38;5;132;01m%s\u001b[39;00m\u001b[38;5;124m cannot be inserted\u001b[39m\u001b[38;5;124m\"\u001b[39m \u001b[38;5;241m%\u001b[39m \u001b[38;5;28mtype\u001b[39m(row))\n",
      "\u001b[1;31mDataJointError\u001b[0m: Invalid insert argument. Incorrect number of attributes: 3 given; 2 expected"
     ]
    }
   ],
   "source": [
    "session_with_id.Session().insert1(test)"
   ]
  },
  {
   "cell_type": "code",
   "execution_count": 5,
   "id": "315d82b9",
   "metadata": {},
   "outputs": [
    {
     "data": {
      "text/html": [
       "\n",
       "    \n",
       "    <style type=\"text/css\">\n",
       "        .Relation{\n",
       "            border-collapse:collapse;\n",
       "        }\n",
       "        .Relation th{\n",
       "            background: #A0A0A0; color: #ffffff; padding:4px; border:#f0e0e0 1px solid;\n",
       "            font-weight: normal; font-family: monospace; font-size: 100%;\n",
       "        }\n",
       "        .Relation td{\n",
       "            padding:4px; border:#f0e0e0 1px solid; font-size:100%;\n",
       "        }\n",
       "        .Relation tr:nth-child(odd){\n",
       "            background: #ffffff;\n",
       "        }\n",
       "        .Relation tr:nth-child(even){\n",
       "            background: #f3f1ff;\n",
       "        }\n",
       "        /* Tooltip container */\n",
       "        .djtooltip {\n",
       "        }\n",
       "        /* Tooltip text */\n",
       "        .djtooltip .djtooltiptext {\n",
       "            visibility: hidden;\n",
       "            width: 120px;\n",
       "            background-color: black;\n",
       "            color: #fff;\n",
       "            text-align: center;\n",
       "            padding: 5px 0;\n",
       "            border-radius: 6px;\n",
       "            /* Position the tooltip text - see examples below! */\n",
       "            position: absolute;\n",
       "            z-index: 1;\n",
       "        }\n",
       "        #primary {\n",
       "            font-weight: bold;\n",
       "            color: black;\n",
       "        }\n",
       "        #nonprimary {\n",
       "            font-weight: normal;\n",
       "            color: white;\n",
       "        }\n",
       "\n",
       "        /* Show the tooltip text when you mouse over the tooltip container */\n",
       "        .djtooltip:hover .djtooltiptext {\n",
       "            visibility: visible;\n",
       "        }\n",
       "    </style>\n",
       "    \n",
       "    <b>Individual(s) conducting the session</b>\n",
       "        <div style=\"max-height:1000px;max-width:1500px;overflow:auto;\">\n",
       "        <table border=\"1\" class=\"Relation\">\n",
       "            <thead> <tr style=\"text-align: right;\"> <th> <div class=\"djtooltip\">\n",
       "                            <p id=\"primary\">session_id</p>\n",
       "                            <span class=\"djtooltiptext\"></span>\n",
       "                        </div></th><th><div class=\"djtooltip\">\n",
       "                            <p id=\"primary\">user</p>\n",
       "                            <span class=\"djtooltiptext\"></span>\n",
       "                        </div> </th> </tr> </thead>\n",
       "            <tbody> <tr> <td>sess9FB2LFT0</td>\n",
       "<td>DB</td> </tr> </tbody>\n",
       "        </table>\n",
       "        \n",
       "        <p>Total: 1</p></div>\n",
       "        "
      ],
      "text/plain": [
       "*session_id    *user   \n",
       "+------------+ +------+\n",
       "sess9FB2LFT0   DB      \n",
       " (Total: 1)"
      ]
     },
     "execution_count": 5,
     "metadata": {},
     "output_type": "execute_result"
    }
   ],
   "source": [
    "session_with_id.SessionUser()"
   ]
  },
  {
   "cell_type": "code",
   "execution_count": 8,
   "id": "1d5f66eb",
   "metadata": {},
   "outputs": [
    {
     "name": "stdout",
     "output_type": "stream",
     "text": [
      "`tutorial`.`session` (0 tuples)\n",
      "`tutorial`.`session_note` (0 tuples)\n",
      "`tutorial`.`_event` (0 tuples)\n",
      "`tutorial`.`session_user` (0 tuples)\n",
      "`tutorial`.`recording_bpod` (0 tuples)\n",
      "`tutorial`.`scan` (0 tuples)\n",
      "`tutorial`.`_trial` (0 tuples)\n",
      "`tutorial`.`session_directory` (0 tuples)\n",
      "`tutorial`.`project_session` (0 tuples)\n",
      "`tutorial`.`_scan_info` (0 tuples)\n",
      "`tutorial`.`_scan_info__field` (0 tuples)\n",
      "`tutorial`.`_scan_info__scan_file` (0 tuples)\n",
      "`tutorial`.`processing_task` (0 tuples)\n",
      "`tutorial`.`scan_location` (0 tuples)\n",
      "`tutorial`.`_behavior_trial` (0 tuples)\n",
      "`tutorial`.`_behavior_trial__trial_variable` (0 tuples)\n",
      "`tutorial`.`_trial_event` (0 tuples)\n",
      "`tutorial`.`__processing` (0 tuples)\n",
      "`tutorial`.`curation` (0 tuples)\n",
      "`tutorial`.`__segmentation` (0 tuples)\n",
      "`tutorial`.`__segmentation__mask` (0 tuples)\n",
      "`tutorial`.`_motion_correction` (0 tuples)\n",
      "`tutorial`.`_motion_correction__non_rigid_motion_correction` (0 tuples)\n",
      "`tutorial`.`_motion_correction__rigid_motion_correction` (0 tuples)\n",
      "`tutorial`.`_motion_correction__summary` (0 tuples)\n",
      "`tutorial`.`_motion_correction__block` (0 tuples)\n",
      "`tutorial`.`__fluorescence` (0 tuples)\n",
      "`tutorial`.`__fluorescence__trace` (0 tuples)\n",
      "`tutorial`.`__mask_classification` (0 tuples)\n",
      "`tutorial`.`__mask_classification__mask_type` (0 tuples)\n",
      "`tutorial`.`__activity` (0 tuples)\n",
      "`tutorial`.`__activity__trace` (0 tuples)\n",
      "Proceed? [yes, No]: yes\n",
      "Tables dropped.  Restart kernel.\n"
     ]
    }
   ],
   "source": [
    "session_with_id.Session.drop()"
   ]
  },
  {
   "cell_type": "code",
   "execution_count": null,
   "id": "a5f89587",
   "metadata": {},
   "outputs": [],
   "source": []
  }
 ],
 "metadata": {
  "kernelspec": {
   "display_name": "Python 3 (ipykernel)",
   "language": "python",
   "name": "python3"
  },
  "language_info": {
   "codemirror_mode": {
    "name": "ipython",
    "version": 3
   },
   "file_extension": ".py",
   "mimetype": "text/x-python",
   "name": "python",
   "nbconvert_exporter": "python",
   "pygments_lexer": "ipython3",
   "version": "3.8.13"
  }
 },
 "nbformat": 4,
 "nbformat_minor": 5
}
