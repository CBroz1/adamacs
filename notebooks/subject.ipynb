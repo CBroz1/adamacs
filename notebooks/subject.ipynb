{
 "cells": [
  {
   "cell_type": "markdown",
   "id": "7225c769",
   "metadata": {},
   "source": [
    "# Subject Related Data"
   ]
  },
  {
   "cell_type": "markdown",
   "id": "bd2108b4",
   "metadata": {},
   "source": [
    "## Login"
   ]
  },
  {
   "cell_type": "code",
   "execution_count": 1,
   "id": "132cf444",
   "metadata": {},
   "outputs": [
    {
     "ename": "NameError",
     "evalue": "name 'getpass' is not defined",
     "output_type": "error",
     "traceback": [
      "\u001b[1;31m---------------------------------------------------------------------------\u001b[0m",
      "\u001b[1;31mNameError\u001b[0m                                 Traceback (most recent call last)",
      "Input \u001b[1;32mIn [1]\u001b[0m, in \u001b[0;36m<cell line: 8>\u001b[1;34m()\u001b[0m\n\u001b[0;32m      6\u001b[0m dj\u001b[38;5;241m.\u001b[39mconfig[\u001b[38;5;124m'\u001b[39m\u001b[38;5;124mdatabase.host\u001b[39m\u001b[38;5;124m'\u001b[39m] \u001b[38;5;241m=\u001b[39m \u001b[38;5;124m'\u001b[39m\u001b[38;5;124m172.26.128.53\u001b[39m\u001b[38;5;124m'\u001b[39m  \u001b[38;5;66;03m# Put the server name between these apostrophe\u001b[39;00m\n\u001b[0;32m      7\u001b[0m dj\u001b[38;5;241m.\u001b[39mconfig[\u001b[38;5;124m'\u001b[39m\u001b[38;5;124mdatabase.user\u001b[39m\u001b[38;5;124m'\u001b[39m] \u001b[38;5;241m=\u001b[39m \u001b[38;5;124m'\u001b[39m\u001b[38;5;124mdanielmk\u001b[39m\u001b[38;5;124m'\u001b[39m  \u001b[38;5;66;03m# Put your user name between these apostrophe\u001b[39;00m\n\u001b[1;32m----> 8\u001b[0m dj\u001b[38;5;241m.\u001b[39mconfig[\u001b[38;5;124m'\u001b[39m\u001b[38;5;124mdatabase.password\u001b[39m\u001b[38;5;124m'\u001b[39m] \u001b[38;5;241m=\u001b[39m \u001b[43mgetpass\u001b[49m\u001b[38;5;241m.\u001b[39mgetpass(prompt\u001b[38;5;241m=\u001b[39m\u001b[38;5;124m'\u001b[39m\u001b[38;5;124mDatabase password:\u001b[39m\u001b[38;5;124m'\u001b[39m)  \u001b[38;5;66;03m# Put your password between these apostrophe\u001b[39;00m\n\u001b[0;32m      9\u001b[0m dj\u001b[38;5;241m.\u001b[39mconn()\n\u001b[0;32m     10\u001b[0m utility\u001b[38;5;241m.\u001b[39mactivate_many(name\u001b[38;5;241m=\u001b[39m\u001b[38;5;124m'\u001b[39m\u001b[38;5;124mtutorial_two\u001b[39m\u001b[38;5;124m'\u001b[39m)\n",
      "\u001b[1;31mNameError\u001b[0m: name 'getpass' is not defined"
     ]
    }
   ],
   "source": [
    "from adamacs import utility, nbgui\n",
    "from adamacs.schemas import subject\n",
    "import datajoint as dj\n",
    "import getpass\n",
    "\n",
    "\"\"\"If you are don't have your login information, contact the administrator.\"\"\"\n",
    "dj.config['database.host'] = '172.26.128.53'  # Put the server name between these apostrophe\n",
    "dj.config['database.user'] = 'danielmk'  # Put your user name between these apostrophe\n",
    "dj.config['database.password'] = getpass.getpass(prompt='Database password:')  # Put your password between these apostrophe\n",
    "dj.conn()\n",
    "utility.activate_many(name='tutorial_two')\n",
    "sub, lab, protocol, line, mutation, user, project, subject_genotype, subject_death = (\n",
    "    subject.Subject(), subject.Lab(), subject.Protocol(), subject.Line(), subject.Mutation(), subject.User(),\n",
    "    subject.Project(), subject.SubjectGenotype(), subject.SubjectDeath()\n",
    "    )"
   ]
  },
  {
   "cell_type": "markdown",
   "id": "7aa77e1a",
   "metadata": {},
   "source": [
    "## Subject Entry Sheet"
   ]
  },
  {
   "cell_type": "code",
   "execution_count": 3,
   "id": "0561d2fb",
   "metadata": {},
   "outputs": [
    {
     "data": {
      "application/vnd.jupyter.widget-view+json": {
       "model_id": "479f3074b9b148e69408642896710340",
       "version_major": 2,
       "version_minor": 0
      },
      "text/plain": [
       "VBox(children=(Sheet(column_headers=['subject', 'lab', 'earmark', 'sex', 'birth_date', 'subject_description', …"
      ]
     },
     "metadata": {},
     "output_type": "display_data"
    }
   ],
   "source": [
    "\"\"\"Run this cell to load the subject entry sheet.\"\"\"\n",
    "mouse_gui = nbgui.MouseEntrySheet()\n",
    "mouse_gui.app"
   ]
  },
  {
   "cell_type": "markdown",
   "id": "883ef954",
   "metadata": {},
   "source": [
    "## Lab Entry"
   ]
  },
  {
   "cell_type": "code",
   "execution_count": 2,
   "id": "b03e1536",
   "metadata": {},
   "outputs": [],
   "source": [
    "\"\"\"Run this cell to insert a single laboratory into the database.\n",
    "USE ONLY IF YOU KNOW WHAT YOU ARE DOING!\n",
    "Insert the data of the laboratory you want to enter into the following 4 lines.\n",
    "\"\"\"\n",
    "lab_key = 'Rose'  # Short, unique identifier for the lab. Maximum 8 characters. Example: 'Rose'.\n",
    "lab_name = 'Neuronal input-output computation during cognition'  # A longer, more descriptive name for the laboratory.\n",
    "institution = 'Institute for Experimental Epileptology and Cognition Research'  # The institution the laboratory belongs to.\n",
    "address = 'Venusberg-Campus 1, 53127 Bonn'  # The postal address of the laboratory.\n",
    "\n",
    "lab.insert1((lab_key, lab_name, institution, address))"
   ]
  },
  {
   "cell_type": "markdown",
   "id": "bcab35a7",
   "metadata": {},
   "source": [
    "## Protocol Entry"
   ]
  },
  {
   "cell_type": "code",
   "execution_count": 4,
   "id": "352ef703",
   "metadata": {},
   "outputs": [
    {
     "ename": "DuplicateError",
     "evalue": "(\"Duplicate entry 'LANUF1' for key 'PRIMARY'\", 'To ignore duplicate entries in insert, set skip_duplicates=True')",
     "output_type": "error",
     "traceback": [
      "\u001b[1;31m---------------------------------------------------------------------------\u001b[0m",
      "\u001b[1;31mDuplicateError\u001b[0m                            Traceback (most recent call last)",
      "Input \u001b[1;32mIn [4]\u001b[0m, in \u001b[0;36m<cell line: 8>\u001b[1;34m()\u001b[0m\n\u001b[0;32m      5\u001b[0m protocol_key \u001b[38;5;241m=\u001b[39m \u001b[38;5;124m'\u001b[39m\u001b[38;5;124mLANUF1\u001b[39m\u001b[38;5;124m'\u001b[39m  \u001b[38;5;66;03m# Short, unique identifier for the protocol. Maximum 16 characters.\u001b[39;00m\n\u001b[0;32m      6\u001b[0m protocol_description \u001b[38;5;241m=\u001b[39m \u001b[38;5;124m'\u001b[39m\u001b[38;5;124mAnother dummy protocol ID for testing purposes\u001b[39m\u001b[38;5;124m'\u001b[39m  \u001b[38;5;66;03m# Description of the protocol.\u001b[39;00m\n\u001b[1;32m----> 8\u001b[0m \u001b[43mprotocol\u001b[49m\u001b[38;5;241;43m.\u001b[39;49m\u001b[43minsert1\u001b[49m\u001b[43m(\u001b[49m\u001b[43m(\u001b[49m\u001b[43mprotocol_key\u001b[49m\u001b[43m,\u001b[49m\u001b[43m \u001b[49m\u001b[43mprotocol_description\u001b[49m\u001b[43m)\u001b[49m\u001b[43m)\u001b[49m\n",
      "File \u001b[1;32m~\\anaconda3\\envs\\datajoint12\\lib\\site-packages\\datajoint\\table.py:325\u001b[0m, in \u001b[0;36mTable.insert1\u001b[1;34m(self, row, **kwargs)\u001b[0m\n\u001b[0;32m    318\u001b[0m \u001b[38;5;28;01mdef\u001b[39;00m \u001b[38;5;21minsert1\u001b[39m(\u001b[38;5;28mself\u001b[39m, row, \u001b[38;5;241m*\u001b[39m\u001b[38;5;241m*\u001b[39mkwargs):\n\u001b[0;32m    319\u001b[0m     \u001b[38;5;124;03m\"\"\"\u001b[39;00m\n\u001b[0;32m    320\u001b[0m \u001b[38;5;124;03m    Insert one data record into the table. For ``kwargs``, see ``insert()``.\u001b[39;00m\n\u001b[0;32m    321\u001b[0m \n\u001b[0;32m    322\u001b[0m \u001b[38;5;124;03m    :param row: a numpy record, a dict-like object, or an ordered sequence to be inserted\u001b[39;00m\n\u001b[0;32m    323\u001b[0m \u001b[38;5;124;03m    as one row.\u001b[39;00m\n\u001b[0;32m    324\u001b[0m \u001b[38;5;124;03m    \"\"\"\u001b[39;00m\n\u001b[1;32m--> 325\u001b[0m     \u001b[38;5;28;43mself\u001b[39;49m\u001b[38;5;241;43m.\u001b[39;49m\u001b[43minsert\u001b[49m\u001b[43m(\u001b[49m\u001b[43m(\u001b[49m\u001b[43mrow\u001b[49m\u001b[43m,\u001b[49m\u001b[43m)\u001b[49m\u001b[43m,\u001b[49m\u001b[43m \u001b[49m\u001b[38;5;241;43m*\u001b[39;49m\u001b[38;5;241;43m*\u001b[39;49m\u001b[43mkwargs\u001b[49m\u001b[43m)\u001b[49m\n",
      "File \u001b[1;32m~\\anaconda3\\envs\\datajoint12\\lib\\site-packages\\datajoint\\table.py:431\u001b[0m, in \u001b[0;36mTable.insert\u001b[1;34m(self, rows, replace, skip_duplicates, ignore_extra_fields, allow_direct_insert)\u001b[0m\n\u001b[0;32m    427\u001b[0m     \u001b[38;5;28;01mraise\u001b[39;00m err\u001b[38;5;241m.\u001b[39msuggest(\n\u001b[0;32m    428\u001b[0m         \u001b[38;5;124m\"\u001b[39m\u001b[38;5;124mTo ignore extra fields in insert, set ignore_extra_fields=True\u001b[39m\u001b[38;5;124m\"\u001b[39m\n\u001b[0;32m    429\u001b[0m     )\n\u001b[0;32m    430\u001b[0m \u001b[38;5;28;01mexcept\u001b[39;00m DuplicateError \u001b[38;5;28;01mas\u001b[39;00m err:\n\u001b[1;32m--> 431\u001b[0m     \u001b[38;5;28;01mraise\u001b[39;00m err\u001b[38;5;241m.\u001b[39msuggest(\n\u001b[0;32m    432\u001b[0m         \u001b[38;5;124m\"\u001b[39m\u001b[38;5;124mTo ignore duplicate entries in insert, set skip_duplicates=True\u001b[39m\u001b[38;5;124m\"\u001b[39m\n\u001b[0;32m    433\u001b[0m     )\n",
      "\u001b[1;31mDuplicateError\u001b[0m: (\"Duplicate entry 'LANUF1' for key 'PRIMARY'\", 'To ignore duplicate entries in insert, set skip_duplicates=True')"
     ]
    }
   ],
   "source": [
    "\"\"\"Run this cell to insert a single protocol into the database.\n",
    "USE ONLY IF YOU KNOW WHAT YOU ARE DOING!\n",
    "Insert the data of the protocol you want to enter into the following 2 lines.\n",
    "\"\"\"\n",
    "protocol_key = 'LANUF1'  # Short, unique identifier for the protocol. Maximum 16 characters.\n",
    "protocol_description = 'Another dummy protocol ID for testing purposes'  # Description of the protocol.\n",
    "\n",
    "protocol.insert1((protocol_key, protocol_description))"
   ]
  },
  {
   "cell_type": "markdown",
   "id": "e03829fd",
   "metadata": {},
   "source": [
    "## Line Entry"
   ]
  },
  {
   "cell_type": "code",
   "execution_count": 9,
   "id": "2bbe332a",
   "metadata": {},
   "outputs": [],
   "source": [
    "\"\"\"Run this cell to insert a single line into the database.\n",
    "USE ONLY IF YOU KNOW WHAT YOU ARE DOING!\n",
    "Insert the data of the laboratory you want to enter into the following 4 lines.\"\"\"\n",
    "line_key = 1  # Short, unique identifier for the line.\n",
    "line_description = 'Gcamp6-ThyC57BL/6J-Tg(Thy1-GCaMP6s)GP4.12Dkim/J'  # Description of the line.\n",
    "is_active = 1  # The target phenotype of the line.\n",
    "\n",
    "line.insert1((line_key, line_description, is_active))"
   ]
  },
  {
   "cell_type": "markdown",
   "id": "2cea0c11",
   "metadata": {},
   "source": [
    "## Mutation Entry"
   ]
  },
  {
   "cell_type": "code",
   "execution_count": 10,
   "id": "1b9fc5dd",
   "metadata": {},
   "outputs": [],
   "source": [
    "\"\"\"Run this cell to insert a single mutation into the database.\n",
    "USE ONLY IF YOU KNOW WHAT YOU ARE DOING!\n",
    "Insert the data of the laboratory you want to enter into the following 3 lines.\"\"\"\n",
    "line_key = 'Thy1-Gcamp6'  # The mouse line that has the mutation.\n",
    "mutation_key = 'Thy1-Gcamp6'  # An identifying name for the mutation.\n",
    "description = 'Tg(Thy1-GCaMP6s)GP4.12Dkim'  # A description of the mutation.\n",
    "\n",
    "mutation.insert1((line_key, mutation_key, description))"
   ]
  },
  {
   "cell_type": "markdown",
   "id": "3bc1723c",
   "metadata": {},
   "source": [
    "## User Entry"
   ]
  },
  {
   "cell_type": "code",
   "execution_count": 13,
   "id": "14933f75",
   "metadata": {},
   "outputs": [],
   "source": [
    "\"\"\"Run this cell to insert a single user into the database.\n",
    "Note that this user refers to the user that handles a subject, not necessarily as database user.\n",
    "USE ONLY IF YOU KNOW WHAT YOU ARE DOING!\n",
    "Insert the data of the laboratory you want to enter into the following 2 lines.\"\"\"\n",
    "user_key = '1'\n",
    "name = 'DB'\n",
    "lab_key = 'Rose'\n",
    "\n",
    "user.insert1((user_key, name, lab_key))"
   ]
  },
  {
   "cell_type": "markdown",
   "id": "40f6f927",
   "metadata": {},
   "source": [
    "## Project Entry"
   ]
  },
  {
   "cell_type": "code",
   "execution_count": 17,
   "id": "c1c00646",
   "metadata": {},
   "outputs": [
    {
     "ename": "DuplicateError",
     "evalue": "(\"Duplicate entry 'TEC' for key 'PRIMARY'\", 'To ignore duplicate entries in insert, set skip_duplicates=True')",
     "output_type": "error",
     "traceback": [
      "\u001b[1;31m---------------------------------------------------------------------------\u001b[0m",
      "\u001b[1;31mDuplicateError\u001b[0m                            Traceback (most recent call last)",
      "\u001b[1;32m~\\AppData\\Local\\Temp/ipykernel_12344/2125557566.py\u001b[0m in \u001b[0;36m<module>\u001b[1;34m\u001b[0m\n\u001b[0;32m      5\u001b[0m \u001b[0mproject_description\u001b[0m \u001b[1;33m=\u001b[0m \u001b[1;34m'Trace Eyeblink Conditioning'\u001b[0m\u001b[1;33m\u001b[0m\u001b[1;33m\u001b[0m\u001b[0m\n\u001b[0;32m      6\u001b[0m \u001b[1;33m\u001b[0m\u001b[0m\n\u001b[1;32m----> 7\u001b[1;33m \u001b[0mproject\u001b[0m\u001b[1;33m.\u001b[0m\u001b[0minsert1\u001b[0m\u001b[1;33m(\u001b[0m\u001b[1;33m(\u001b[0m\u001b[0mproject_key\u001b[0m\u001b[1;33m,\u001b[0m \u001b[0mproject_description\u001b[0m\u001b[1;33m)\u001b[0m\u001b[1;33m)\u001b[0m\u001b[1;33m\u001b[0m\u001b[1;33m\u001b[0m\u001b[0m\n\u001b[0m",
      "\u001b[1;32m~\\anaconda3\\envs\\datajoint\\lib\\site-packages\\datajoint\\table.py\u001b[0m in \u001b[0;36minsert1\u001b[1;34m(self, row, **kwargs)\u001b[0m\n\u001b[0;32m    264\u001b[0m         \u001b[0mFor\u001b[0m \u001b[0mkwargs\u001b[0m\u001b[1;33m,\u001b[0m \u001b[0msee\u001b[0m \u001b[0minsert\u001b[0m\u001b[1;33m(\u001b[0m\u001b[1;33m)\u001b[0m\u001b[1;33m\u001b[0m\u001b[1;33m\u001b[0m\u001b[0m\n\u001b[0;32m    265\u001b[0m         \"\"\"\n\u001b[1;32m--> 266\u001b[1;33m         \u001b[0mself\u001b[0m\u001b[1;33m.\u001b[0m\u001b[0minsert\u001b[0m\u001b[1;33m(\u001b[0m\u001b[1;33m(\u001b[0m\u001b[0mrow\u001b[0m\u001b[1;33m,\u001b[0m\u001b[1;33m)\u001b[0m\u001b[1;33m,\u001b[0m \u001b[1;33m**\u001b[0m\u001b[0mkwargs\u001b[0m\u001b[1;33m)\u001b[0m\u001b[1;33m\u001b[0m\u001b[1;33m\u001b[0m\u001b[0m\n\u001b[0m\u001b[0;32m    267\u001b[0m \u001b[1;33m\u001b[0m\u001b[0m\n\u001b[0;32m    268\u001b[0m     \u001b[1;32mdef\u001b[0m \u001b[0minsert\u001b[0m\u001b[1;33m(\u001b[0m\u001b[0mself\u001b[0m\u001b[1;33m,\u001b[0m \u001b[0mrows\u001b[0m\u001b[1;33m,\u001b[0m \u001b[0mreplace\u001b[0m\u001b[1;33m=\u001b[0m\u001b[1;32mFalse\u001b[0m\u001b[1;33m,\u001b[0m \u001b[0mskip_duplicates\u001b[0m\u001b[1;33m=\u001b[0m\u001b[1;32mFalse\u001b[0m\u001b[1;33m,\u001b[0m \u001b[0mignore_extra_fields\u001b[0m\u001b[1;33m=\u001b[0m\u001b[1;32mFalse\u001b[0m\u001b[1;33m,\u001b[0m \u001b[0mallow_direct_insert\u001b[0m\u001b[1;33m=\u001b[0m\u001b[1;32mNone\u001b[0m\u001b[1;33m)\u001b[0m\u001b[1;33m:\u001b[0m\u001b[1;33m\u001b[0m\u001b[1;33m\u001b[0m\u001b[0m\n",
      "\u001b[1;32m~\\anaconda3\\envs\\datajoint\\lib\\site-packages\\datajoint\\table.py\u001b[0m in \u001b[0;36minsert\u001b[1;34m(self, rows, replace, skip_duplicates, ignore_extra_fields, allow_direct_insert)\u001b[0m\n\u001b[0;32m    335\u001b[0m                     'To ignore extra fields in insert, set ignore_extra_fields=True')\n\u001b[0;32m    336\u001b[0m             \u001b[1;32mexcept\u001b[0m \u001b[0mDuplicateError\u001b[0m \u001b[1;32mas\u001b[0m \u001b[0merr\u001b[0m\u001b[1;33m:\u001b[0m\u001b[1;33m\u001b[0m\u001b[1;33m\u001b[0m\u001b[0m\n\u001b[1;32m--> 337\u001b[1;33m                 raise err.suggest(\n\u001b[0m\u001b[0;32m    338\u001b[0m                     'To ignore duplicate entries in insert, set skip_duplicates=True')\n\u001b[0;32m    339\u001b[0m \u001b[1;33m\u001b[0m\u001b[0m\n",
      "\u001b[1;31mDuplicateError\u001b[0m: (\"Duplicate entry 'TEC' for key 'PRIMARY'\", 'To ignore duplicate entries in insert, set skip_duplicates=True')"
     ]
    }
   ],
   "source": [
    "\"\"\"Run this cell to insert a single project into the database.\n",
    "USE ONLY IF YOU KNOW WHAT YOU ARE DOING!\n",
    "Insert the data of the laboratory you want to enter into the following 2 lines.\"\"\"\n",
    "project_key = 'TEC'\n",
    "project_description = 'Trace Eyeblink Conditioning'\n",
    "\n",
    "project.insert1((project_key, project_description))"
   ]
  },
  {
   "cell_type": "markdown",
   "id": "17726636",
   "metadata": {},
   "source": [
    "## Subject Genotype Entry"
   ]
  },
  {
   "cell_type": "code",
   "execution_count": null,
   "id": "76744b90",
   "metadata": {},
   "outputs": [],
   "source": [
    "\"\"\"Run this cell to assign a genotype to the mutation of a subject.\n",
    "USE ONLY IF YOU KNOW WHAT YOU ARE DOING!\n",
    "Insert the data of the laboratory you want to enter into the following 4 lines.\"\"\" \n",
    "subject_key = ''\n",
    "line_key = ''\n",
    "mutation_key = ''\n",
    "genotype = ''\n",
    "\n",
    "subject_genotype.insert1((subject_key, line_key, mutation_key, genotype))"
   ]
  },
  {
   "cell_type": "markdown",
   "id": "1d6cbc6b",
   "metadata": {},
   "source": [
    "## Subject Death Entry"
   ]
  },
  {
   "cell_type": "code",
   "execution_count": null,
   "id": "364fd35e",
   "metadata": {},
   "outputs": [],
   "source": [
    "\"\"\"Run this cell to assign a death date to a subject.\n",
    "USE ONLY IF YOU KNOW WHAT YOU ARE DOING!\n",
    "Insert the data of the laboratory you want to enter into the following 4 lines.\"\"\" \n",
    "subject_key = ''\n",
    "death_date = ''\n",
    "case = ''\n",
    "\n",
    "subject_death.insert1((subject_key, death_date, case))"
   ]
  },
  {
   "cell_type": "markdown",
   "id": "a5abac1e",
   "metadata": {},
   "source": [
    "## Fetch"
   ]
  },
  {
   "cell_type": "code",
   "execution_count": 3,
   "id": "477cf5c6",
   "metadata": {},
   "outputs": [
    {
     "data": {
      "text/html": [
       "\n",
       "    \n",
       "    <style type=\"text/css\">\n",
       "        .Relation{\n",
       "            border-collapse:collapse;\n",
       "        }\n",
       "        .Relation th{\n",
       "            background: #A0A0A0; color: #ffffff; padding:4px; border:#f0e0e0 1px solid;\n",
       "            font-weight: normal; font-family: monospace; font-size: 100%;\n",
       "        }\n",
       "        .Relation td{\n",
       "            padding:4px; border:#f0e0e0 1px solid; font-size:100%;\n",
       "        }\n",
       "        .Relation tr:nth-child(odd){\n",
       "            background: #ffffff;\n",
       "        }\n",
       "        .Relation tr:nth-child(even){\n",
       "            background: #f3f1ff;\n",
       "        }\n",
       "        /* Tooltip container */\n",
       "        .djtooltip {\n",
       "        }\n",
       "        /* Tooltip text */\n",
       "        .djtooltip .djtooltiptext {\n",
       "            visibility: hidden;\n",
       "            width: 120px;\n",
       "            background-color: black;\n",
       "            color: #fff;\n",
       "            text-align: center;\n",
       "            padding: 5px 0;\n",
       "            border-radius: 6px;\n",
       "            /* Position the tooltip text - see examples below! */\n",
       "            position: absolute;\n",
       "            z-index: 1;\n",
       "        }\n",
       "        #primary {\n",
       "            font-weight: bold;\n",
       "            color: black;\n",
       "        }\n",
       "        #nonprimary {\n",
       "            font-weight: normal;\n",
       "            color: white;\n",
       "        }\n",
       "\n",
       "        /* Show the tooltip text when you mouse over the tooltip container */\n",
       "        .djtooltip:hover .djtooltiptext {\n",
       "            visibility: visible;\n",
       "        }\n",
       "    </style>\n",
       "    \n",
       "    <b>Animal Subject</b>\n",
       "        <div style=\"max-height:1000px;max-width:1500px;overflow:auto;\">\n",
       "        <table border=\"1\" class=\"Relation\">\n",
       "            <thead> <tr style=\"text-align: right;\"> <th> <div class=\"djtooltip\">\n",
       "                            <p id=\"primary\">subject</p>\n",
       "                            <span class=\"djtooltiptext\"></span>\n",
       "                        </div></th><th><div class=\"djtooltip\">\n",
       "                            <p id=\"nonprimary\">lab</p>\n",
       "                            <span class=\"djtooltiptext\">short lab name</span>\n",
       "                        </div></th><th><div class=\"djtooltip\">\n",
       "                            <p id=\"nonprimary\">earmark</p>\n",
       "                            <span class=\"djtooltiptext\">aka lab_id</span>\n",
       "                        </div></th><th><div class=\"djtooltip\">\n",
       "                            <p id=\"nonprimary\">sex</p>\n",
       "                            <span class=\"djtooltiptext\"></span>\n",
       "                        </div></th><th><div class=\"djtooltip\">\n",
       "                            <p id=\"nonprimary\">birth_date</p>\n",
       "                            <span class=\"djtooltiptext\"></span>\n",
       "                        </div></th><th><div class=\"djtooltip\">\n",
       "                            <p id=\"nonprimary\">subject_description</p>\n",
       "                            <span class=\"djtooltiptext\"></span>\n",
       "                        </div></th><th><div class=\"djtooltip\">\n",
       "                            <p id=\"nonprimary\">line</p>\n",
       "                            <span class=\"djtooltiptext\"></span>\n",
       "                        </div></th><th><div class=\"djtooltip\">\n",
       "                            <p id=\"nonprimary\">user</p>\n",
       "                            <span class=\"djtooltiptext\"></span>\n",
       "                        </div></th><th><div class=\"djtooltip\">\n",
       "                            <p id=\"nonprimary\">project</p>\n",
       "                            <span class=\"djtooltiptext\"></span>\n",
       "                        </div></th><th><div class=\"djtooltip\">\n",
       "                            <p id=\"nonprimary\">protocol</p>\n",
       "                            <span class=\"djtooltiptext\"></span>\n",
       "                        </div> </th> </tr> </thead>\n",
       "            <tbody> <tr> <td>Rose_ROS-0019</td>\n",
       "<td>Rose</td>\n",
       "<td>G155</td>\n",
       "<td>M</td>\n",
       "<td>2010-08-20</td>\n",
       "<td>Basic Mouse</td>\n",
       "<td>SST-IRES-Cre</td>\n",
       "<td>danielmk</td>\n",
       "<td>TEC</td>\n",
       "<td>LANUF1</td></tr><tr><td>Rose_ROS-0020</td>\n",
       "<td>Rose</td>\n",
       "<td>G156</td>\n",
       "<td>M</td>\n",
       "<td>2011-07-20</td>\n",
       "<td> </td>\n",
       "<td>SST-IRES-Cre</td>\n",
       "<td>danielmk</td>\n",
       "<td>TEC</td>\n",
       "<td>LANUF2</td></tr><tr><td>Rose_ROS-0021</td>\n",
       "<td>Rose</td>\n",
       "<td>G166</td>\n",
       "<td>M</td>\n",
       "<td>2011-07-20</td>\n",
       "<td> </td>\n",
       "<td>SST-IRES-Cre</td>\n",
       "<td>danielmk</td>\n",
       "<td>TEC</td>\n",
       "<td>LANUF2</td></tr><tr><td>Rose_ROS-0022</td>\n",
       "<td>Beck</td>\n",
       "<td>G159</td>\n",
       "<td>M</td>\n",
       "<td>2020-08-20</td>\n",
       "<td>Basic Mouse</td>\n",
       "<td>SST-IRES-Cre</td>\n",
       "<td>danielmk</td>\n",
       "<td>TEC</td>\n",
       "<td>LANUF1</td></tr><tr><td>Rose_ROS-0043</td>\n",
       "<td>Rose</td>\n",
       "<td>G186</td>\n",
       "<td>M</td>\n",
       "<td>2010-08-20</td>\n",
       "<td>Basic Mouse</td>\n",
       "<td>SST-IRES-Cre</td>\n",
       "<td>danielmk</td>\n",
       "<td>TEC</td>\n",
       "<td>LANUF1</td> </tr> </tbody>\n",
       "        </table>\n",
       "        \n",
       "        <p>Total: 5</p></div>\n",
       "        "
      ],
      "text/plain": [
       "*subject       lab      earmark     sex     birth_date     subject_descri line           user         project     protocol    \n",
       "+------------+ +------+ +---------+ +-----+ +------------+ +------------+ +------------+ +----------+ +---------+ +----------+\n",
       "Rose_ROS-0019  Rose     G155        M       2010-08-20     Basic Mouse    SST-IRES-Cre   danielmk     TEC         LANUF1      \n",
       "Rose_ROS-0020  Rose     G156        M       2011-07-20                    SST-IRES-Cre   danielmk     TEC         LANUF2      \n",
       "Rose_ROS-0021  Rose     G166        M       2011-07-20                    SST-IRES-Cre   danielmk     TEC         LANUF2      \n",
       "Rose_ROS-0022  Beck     G159        M       2020-08-20     Basic Mouse    SST-IRES-Cre   danielmk     TEC         LANUF1      \n",
       "Rose_ROS-0043  Rose     G186        M       2010-08-20     Basic Mouse    SST-IRES-Cre   danielmk     TEC         LANUF1      \n",
       " (Total: 5)"
      ]
     },
     "execution_count": 3,
     "metadata": {},
     "output_type": "execute_result"
    }
   ],
   "source": [
    "sub"
   ]
  },
  {
   "cell_type": "code",
   "execution_count": 4,
   "id": "e386c541",
   "metadata": {},
   "outputs": [
    {
     "data": {
      "text/plain": [
       "[Cell(column_end=9, column_start=0, row_end=0, row_start=0, squeeze_column=False, type='text', value=['', '', '', '', '', '', '', '', '', '']),\n",
       " Cell(column_end=9, column_start=0, row_end=1, row_start=1, squeeze_column=False, type='text', value=['', '', '', '', '', '', '', '', '', '']),\n",
       " Cell(column_end=9, column_start=0, row_end=2, row_start=2, squeeze_column=False, type='text', value=['', '', '', '', '', '', '', '', '', '']),\n",
       " Cell(column_end=9, column_start=0, squeeze_column=False, type='text', value=['', '', '', '', '', '', '', '', '', '']),\n",
       " Cell(column_end=9, column_start=0, row_end=4, row_start=4, squeeze_column=False, type='text', value=['', '', '', '', '', '', '', '', '', '']),\n",
       " Cell(column_end=9, column_start=0, row_end=5, row_start=5, squeeze_column=False, type='text', value=['', '', '', '', '', '', '', '', '', '']),\n",
       " Cell(column_end=9, column_start=0, row_end=6, row_start=6, squeeze_column=False, type='text', value=['', '', '', '', '', '', '', '', '', '']),\n",
       " Cell(column_end=9, column_start=0, row_end=7, row_start=7, squeeze_column=False, type='text', value=['', '', '', '', '', '', '', '', '', '']),\n",
       " Cell(column_end=9, column_start=0, row_end=8, row_start=8, squeeze_column=False, type='text', value=['', '', '', '', '', '', '', '', '', '']),\n",
       " Cell(column_end=9, column_start=0, row_end=9, row_start=9, squeeze_column=False, type='text', value=['', '', '', '', '', '', '', '', '', ''])]"
      ]
     },
     "execution_count": 4,
     "metadata": {},
     "output_type": "execute_result"
    }
   ],
   "source": [
    "mouse_gui.rows"
   ]
  },
  {
   "cell_type": "code",
   "execution_count": 2,
   "id": "1c0f55ee",
   "metadata": {},
   "outputs": [
    {
     "data": {
      "text/html": [
       "\n",
       "    \n",
       "    <style type=\"text/css\">\n",
       "        .Relation{\n",
       "            border-collapse:collapse;\n",
       "        }\n",
       "        .Relation th{\n",
       "            background: #A0A0A0; color: #ffffff; padding:4px; border:#f0e0e0 1px solid;\n",
       "            font-weight: normal; font-family: monospace; font-size: 100%;\n",
       "        }\n",
       "        .Relation td{\n",
       "            padding:4px; border:#f0e0e0 1px solid; font-size:100%;\n",
       "        }\n",
       "        .Relation tr:nth-child(odd){\n",
       "            background: #ffffff;\n",
       "        }\n",
       "        .Relation tr:nth-child(even){\n",
       "            background: #f3f1ff;\n",
       "        }\n",
       "        /* Tooltip container */\n",
       "        .djtooltip {\n",
       "        }\n",
       "        /* Tooltip text */\n",
       "        .djtooltip .djtooltiptext {\n",
       "            visibility: hidden;\n",
       "            width: 120px;\n",
       "            background-color: black;\n",
       "            color: #fff;\n",
       "            text-align: center;\n",
       "            padding: 5px 0;\n",
       "            border-radius: 6px;\n",
       "            /* Position the tooltip text - see examples below! */\n",
       "            position: absolute;\n",
       "            z-index: 1;\n",
       "        }\n",
       "        #primary {\n",
       "            font-weight: bold;\n",
       "            color: black;\n",
       "        }\n",
       "        #nonprimary {\n",
       "            font-weight: normal;\n",
       "            color: white;\n",
       "        }\n",
       "\n",
       "        /* Show the tooltip text when you mouse over the tooltip container */\n",
       "        .djtooltip:hover .djtooltiptext {\n",
       "            visibility: visible;\n",
       "        }\n",
       "    </style>\n",
       "    \n",
       "    <b>Animal Subject</b>\n",
       "        <div style=\"max-height:1000px;max-width:1500px;overflow:auto;\">\n",
       "        <table border=\"1\" class=\"Relation\">\n",
       "            <thead> <tr style=\"text-align: right;\"> <th> <div class=\"djtooltip\">\n",
       "                            <p id=\"primary\">subject</p>\n",
       "                            <span class=\"djtooltiptext\">PyRat import uses this for earmark value</span>\n",
       "                        </div></th><th><div class=\"djtooltip\">\n",
       "                            <p id=\"nonprimary\">earmark</p>\n",
       "                            <span class=\"djtooltiptext\"></span>\n",
       "                        </div></th><th><div class=\"djtooltip\">\n",
       "                            <p id=\"nonprimary\">sex</p>\n",
       "                            <span class=\"djtooltiptext\">Geschlecht</span>\n",
       "                        </div></th><th><div class=\"djtooltip\">\n",
       "                            <p id=\"nonprimary\">birth_date</p>\n",
       "                            <span class=\"djtooltiptext\">date  # Geb.</span>\n",
       "                        </div></th><th><div class=\"djtooltip\">\n",
       "                            <p id=\"nonprimary\">subject_description</p>\n",
       "                            <span class=\"djtooltiptext\"></span>\n",
       "                        </div></th><th><div class=\"djtooltip\">\n",
       "                            <p id=\"nonprimary\">generation</p>\n",
       "                            <span class=\"djtooltiptext\">Generation (F2 in example sheet)</span>\n",
       "                        </div></th><th><div class=\"djtooltip\">\n",
       "                            <p id=\"nonprimary\">parent_ids</p>\n",
       "                            <span class=\"djtooltiptext\">dict of parent_sex: parent_eartag</span>\n",
       "                        </div></th><th><div class=\"djtooltip\">\n",
       "                            <p id=\"nonprimary\">owner_id</p>\n",
       "                            <span class=\"djtooltiptext\"></span>\n",
       "                        </div></th><th><div class=\"djtooltip\">\n",
       "                            <p id=\"nonprimary\">responsible_id</p>\n",
       "                            <span class=\"djtooltiptext\"></span>\n",
       "                        </div></th><th><div class=\"djtooltip\">\n",
       "                            <p id=\"nonprimary\">line</p>\n",
       "                            <span class=\"djtooltiptext\"></span>\n",
       "                        </div></th><th><div class=\"djtooltip\">\n",
       "                            <p id=\"nonprimary\">protocol</p>\n",
       "                            <span class=\"djtooltiptext\"></span>\n",
       "                        </div> </th> </tr> </thead>\n",
       "            <tbody> <tr>  </tr> </tbody>\n",
       "        </table>\n",
       "        \n",
       "        <p>Total: 0</p></div>\n",
       "        "
      ],
      "text/plain": [
       "*subject    earmark     sex     birth_date     subject_descri generation     parent_ids owner_id     responsible_id line     protocol    \n",
       "+---------+ +---------+ +-----+ +------------+ +------------+ +------------+ +--------+ +----------+ +------------+ +------+ +----------+\n",
       "\n",
       " (Total: 0)"
      ]
     },
     "execution_count": 2,
     "metadata": {},
     "output_type": "execute_result"
    }
   ],
   "source": [
    "sub"
   ]
  },
  {
   "cell_type": "code",
   "execution_count": null,
   "id": "3ec1542e",
   "metadata": {},
   "outputs": [],
   "source": []
  }
 ],
 "metadata": {
  "jupytext": {
   "formats": "ipynb,py"
  },
  "kernelspec": {
   "display_name": "Python 3 (ipykernel)",
   "language": "python",
   "name": "python3"
  },
  "language_info": {
   "codemirror_mode": {
    "name": "ipython",
    "version": 3
   },
   "file_extension": ".py",
   "mimetype": "text/x-python",
   "name": "python",
   "nbconvert_exporter": "python",
   "pygments_lexer": "ipython3",
   "version": "3.8.13"
  }
 },
 "nbformat": 4,
 "nbformat_minor": 5
}
