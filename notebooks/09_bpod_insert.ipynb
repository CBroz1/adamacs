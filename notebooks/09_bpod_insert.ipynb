{
 "cells": [
  {
   "cell_type": "markdown",
   "id": "d1aa3e29-e39c-44a9-b29d-d37b73aab85d",
   "metadata": {},
   "source": [
    "# PyRAT subject ingestion"
   ]
  },
  {
   "cell_type": "markdown",
   "id": "ed2651bb-ce83-4b87-a268-98169a69309d",
   "metadata": {},
   "source": [
    "## Setup"
   ]
  },
  {
   "cell_type": "markdown",
   "id": "6e95a682-afac-4834-b6e5-0dd4886467f9",
   "metadata": {},
   "source": [
    "Using local config file (see [01_pipeline](./01_pipeline.ipynb))"
   ]
  },
  {
   "cell_type": "code",
   "execution_count": 1,
   "id": "016819d5-3623-4dce-9e8c-0410579ac69b",
   "metadata": {},
   "outputs": [
    {
     "name": "stdout",
     "output_type": "stream",
     "text": [
      "Connecting cbroz@dss-db.datajoint.io:3306\n"
     ]
    }
   ],
   "source": [
    "import os\n",
    "# change to the upper level folder to detect dj_local_conf.json\n",
    "if os.path.basename(os.getcwd())=='notebooks': os.chdir('..')\n",
    "assert os.path.basename(os.getcwd())=='adamacs', (\"Please move to the main directory\")\n",
    "from adamacs.pipeline import subject"
   ]
  },
  {
   "cell_type": "markdown",
   "id": "5dd49a4c-d391-4f0e-bfe9-0930ed744e93",
   "metadata": {},
   "source": [
    "Manual entry"
   ]
  },
  {
   "cell_type": "code",
   "execution_count": null,
   "id": "183003b5-f45c-4851-80c5-34c30e808816",
   "metadata": {},
   "outputs": [],
   "source": [
    "# Manual Entry\n",
    "import datajoint as dj; import getpass\n",
    "dj.config['database.host'] = '172.26.128.53'        # Put the server name between these apostrophe\n",
    "dj.config['database.user'] = 'danielmk'             # Put your user name between these apostrophe\n",
    "dj.config['database.password'] = getpass.getpass(prompt='Database password:')\n",
    "dj.conn()"
   ]
  },
  {
   "cell_type": "markdown",
   "id": "10119159",
   "metadata": {},
   "source": [
    "## Imports and Root Path Setup"
   ]
  },
  {
   "cell_type": "markdown",
   "id": "63589f12",
   "metadata": {},
   "source": [
    "Your `dj.config` file should have a section for your BPod root directory under `custom`: `exp_root_data_dir`. This is a list of one or more paths where the ingestion tool will look for the relative paths it is given."
   ]
  },
  {
   "cell_type": "code",
   "execution_count": null,
   "id": "e25b9d62",
   "metadata": {},
   "outputs": [],
   "source": [
    "import datajoint as dj\n",
    "from element_interface.utils import find_full_path\n",
    "from adamacs.pipeline import session, event, trial\n",
    "from adamacs.ingest.bpod import Bpodfile\n",
    "from adamacs.paths import get_experiment_root_data_dir\n",
    "\n",
    "bpod_path = \"scan9FB2LN5C_WEZ-8701_StimArenaMaster_20220318_165447.mat\"\n",
    "root_dirs = dj.config[\"custom\"][\"exp_root_data_dir\"]\n",
    "bpod_path_full = find_full_path(get_experiment_root_data_dir(),bpod_path)\n",
    "\n",
    "print(f\"Root: {root_dirs}\\nFull: {bpod_path_full}\")"
   ]
  },
  {
   "cell_type": "markdown",
   "id": "4c258e07-6165-4116-bec7-edc764e2170c",
   "metadata": {},
   "source": [
    "## Initial check of tables"
   ]
  },
  {
   "cell_type": "code",
   "execution_count": 3,
   "id": "75bb3517-f2f9-47ac-84fe-15c5aa1530e0",
   "metadata": {},
   "outputs": [
    {
     "name": "stdout",
     "output_type": "stream",
     "text": [
      "Deleting 0 rows from `bonn_session`.`session`\n",
      "Nothing to delete.\n",
      "Sessions: 0\n",
      "Trials  : 0\n",
      "Events  : 0\n"
     ]
    }
   ],
   "source": [
    "from adamacs.pipeline import session, event, trial\n",
    "\n",
    "session.Session.delete()\n",
    "print('Sessions:', len(session.Session()))\n",
    "print('Trials  :', len(trial.Trial()))\n",
    "print('Events  :', len(event.Event()))"
   ]
  },
  {
   "cell_type": "markdown",
   "id": "c10761a2-0304-4ea3-9af3-bb6981aae83f",
   "metadata": {},
   "source": [
    "## Automated ingestion"
   ]
  },
  {
   "cell_type": "markdown",
   "id": "b44bbdd6-536d-41e5-87b5-1820a631f1bf",
   "metadata": {},
   "source": [
    "The function is designed ask for a confirmation before entered into the schema."
   ]
  },
  {
   "cell_type": "code",
   "execution_count": 4,
   "id": "cb20488b",
   "metadata": {},
   "outputs": [
    {
     "name": "stdout",
     "output_type": "stream",
     "text": [
      "BPod items to be inserted:\n",
      "\tSubject : WEZ-8701\n",
      "\tTime    : 2022-03-18 16:59:48\n",
      "\tN Trials: 6\n",
      "\tN Events: 22\n"
     ]
    }
   ],
   "source": [
    "bpod_path = \"scan9FB2LN5C_WEZ-8701_StimArenaMaster_20220318_165447.mat\"\n",
    "bpod_object = Bpodfile(bpod_path)\n",
    "bpod_object.ingest()"
   ]
  },
  {
   "cell_type": "markdown",
   "id": "6d2acedb",
   "metadata": {},
   "source": [
    "Check that insertion worked:"
   ]
  },
  {
   "cell_type": "code",
   "execution_count": 7,
   "id": "9b074d80",
   "metadata": {},
   "outputs": [
    {
     "data": {
      "text/html": [
       "\n",
       "    \n",
       "    <style type=\"text/css\">\n",
       "        .Relation{\n",
       "            border-collapse:collapse;\n",
       "        }\n",
       "        .Relation th{\n",
       "            background: #A0A0A0; color: #ffffff; padding:4px; border:#f0e0e0 1px solid;\n",
       "            font-weight: normal; font-family: monospace; font-size: 100%;\n",
       "        }\n",
       "        .Relation td{\n",
       "            padding:4px; border:#f0e0e0 1px solid; font-size:100%;\n",
       "        }\n",
       "        .Relation tr:nth-child(odd){\n",
       "            background: #ffffff;\n",
       "        }\n",
       "        .Relation tr:nth-child(even){\n",
       "            background: #f3f1ff;\n",
       "        }\n",
       "        /* Tooltip container */\n",
       "        .djtooltip {\n",
       "        }\n",
       "        /* Tooltip text */\n",
       "        .djtooltip .djtooltiptext {\n",
       "            visibility: hidden;\n",
       "            width: 120px;\n",
       "            background-color: black;\n",
       "            color: #fff;\n",
       "            text-align: center;\n",
       "            padding: 5px 0;\n",
       "            border-radius: 6px;\n",
       "            /* Position the tooltip text - see examples below! */\n",
       "            position: absolute;\n",
       "            z-index: 1;\n",
       "        }\n",
       "        #primary {\n",
       "            font-weight: bold;\n",
       "            color: black;\n",
       "        }\n",
       "        #nonprimary {\n",
       "            font-weight: normal;\n",
       "            color: white;\n",
       "        }\n",
       "\n",
       "        /* Show the tooltip text when you mouse over the tooltip container */\n",
       "        .djtooltip:hover .djtooltiptext {\n",
       "            visibility: visible;\n",
       "        }\n",
       "    </style>\n",
       "    \n",
       "    <b></b>\n",
       "        <div style=\"max-height:1000px;max-width:1500px;overflow:auto;\">\n",
       "        <table border=\"1\" class=\"Relation\">\n",
       "            <thead> <tr style=\"text-align: right;\"> <th> <div class=\"djtooltip\">\n",
       "                            <p id=\"primary\">session_id</p>\n",
       "                            <span class=\"djtooltiptext\"></span>\n",
       "                        </div></th><th><div class=\"djtooltip\">\n",
       "                            <p id=\"primary\">trial_id</p>\n",
       "                            <span class=\"djtooltiptext\">trial number (1-based indexing)</span>\n",
       "                        </div></th><th><div class=\"djtooltip\">\n",
       "                            <p id=\"primary\">event_type</p>\n",
       "                            <span class=\"djtooltiptext\"></span>\n",
       "                        </div></th><th><div class=\"djtooltip\">\n",
       "                            <p id=\"primary\">event_start_time</p>\n",
       "                            <span class=\"djtooltiptext\">(second) relative to recording start</span>\n",
       "                        </div> </th> </tr> </thead>\n",
       "            <tbody> <tr> <td>1</td>\n",
       "<td>1</td>\n",
       "<td>at_port</td>\n",
       "<td>47.8766</td></tr><tr><td>1</td>\n",
       "<td>1</td>\n",
       "<td>at_target</td>\n",
       "<td>42.0123</td></tr><tr><td>1</td>\n",
       "<td>1</td>\n",
       "<td>cue</td>\n",
       "<td>42.0023</td></tr><tr><td>1</td>\n",
       "<td>1</td>\n",
       "<td>drinking</td>\n",
       "<td>49.3201</td></tr><tr><td>1</td>\n",
       "<td>1</td>\n",
       "<td>in_port</td>\n",
       "<td>49.1511</td></tr><tr><td>1</td>\n",
       "<td>1</td>\n",
       "<td>reward</td>\n",
       "<td>47.9766</td> </tr> </tbody>\n",
       "        </table>\n",
       "        \n",
       "        <p>Total: 6</p></div>\n",
       "        "
      ],
      "text/plain": [
       "*session_id    *trial_id    *event_type    *event_start_t\n",
       "+------------+ +----------+ +------------+ +------------+\n",
       "1              1            at_port        47.8766       \n",
       "1              1            at_target      42.0123       \n",
       "1              1            cue            42.0023       \n",
       "1              1            drinking       49.3201       \n",
       "1              1            in_port        49.1511       \n",
       "1              1            reward         47.9766       \n",
       " (Total: 6)"
      ]
     },
     "execution_count": 7,
     "metadata": {},
     "output_type": "execute_result"
    }
   ],
   "source": [
    "trial.TrialEvent & 'trial_id=1'"
   ]
  },
  {
   "cell_type": "markdown",
   "id": "3472ae04",
   "metadata": {},
   "source": [
    "We can also interact with bpod objects. For example:"
   ]
  },
  {
   "cell_type": "code",
   "execution_count": 9,
   "id": "695cdf7c",
   "metadata": {},
   "outputs": [
    {
     "data": {
      "text/plain": [
       "{'port_num': '2', 'error': False, 'timeout': False}"
      ]
     },
     "execution_count": 9,
     "metadata": {},
     "output_type": "execute_result"
    }
   ],
   "source": [
    "bpod_object.trial(1).attributes"
   ]
  },
  {
   "cell_type": "code",
   "execution_count": 10,
   "id": "5625ab41",
   "metadata": {},
   "outputs": [
    {
     "data": {
      "text/plain": [
       "{'cue': 1.2645,\n",
       " 'at_target': 1.2745,\n",
       " 'at_port': 7.1388,\n",
       " 'reward': 7.2387999999999995,\n",
       " 'in_port': 8.4133,\n",
       " 'drinking': 8.5823}"
      ]
     },
     "execution_count": 10,
     "metadata": {},
     "output_type": "execute_result"
    }
   ],
   "source": [
    "bpod_object.trial(1).events"
   ]
  },
  {
   "cell_type": "code",
   "execution_count": null,
   "id": "0d7e7ddf",
   "metadata": {},
   "outputs": [],
   "source": []
  }
 ],
 "metadata": {
  "interpreter": {
   "hash": "e03316d7406bfb98090c8573fede251cd5a78124d7abd2c3856cf1ca706a834d"
  },
  "jupytext": {
   "formats": "ipynb,py"
  },
  "kernelspec": {
   "display_name": "Python 3.8.2 ('bonn')",
   "language": "python",
   "name": "python3"
  },
  "language_info": {
   "codemirror_mode": {
    "name": "ipython",
    "version": 3
   },
   "file_extension": ".py",
   "mimetype": "text/x-python",
   "name": "python",
   "nbconvert_exporter": "python",
   "pygments_lexer": "ipython3",
   "version": "3.8.2"
  }
 },
 "nbformat": 4,
 "nbformat_minor": 5
}
