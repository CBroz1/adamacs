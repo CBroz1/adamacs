{
 "cells": [
  {
   "cell_type": "markdown",
   "id": "7225c769",
   "metadata": {},
   "source": [
    "# Subject Related Data"
   ]
  },
  {
   "cell_type": "markdown",
   "id": "bd2108b4",
   "metadata": {},
   "source": [
    "## Login"
   ]
  },
  {
   "cell_type": "code",
   "execution_count": 1,
   "id": "132cf444",
   "metadata": {},
   "outputs": [
    {
     "name": "stdout",
     "output_type": "stream",
     "text": [
      "Connecting root@172.26.128.53:3306\n"
     ]
    }
   ],
   "source": [
    "from adamacs import utility, nbgui, subject\n",
    "import datajoint as dj\n",
    "\n",
    "\"\"\"If you are don't have your login information, contact the administrator.\"\"\"\n",
    "dj.config['database.host'] = ''  # Put the server name between these apostrophe\n",
    "dj.config['database.user'] = ''  # Put your user name between these apostrophe\n",
    "dj.config['database.password'] = ''  # Put your password between these apostrophe\n",
    "dj.conn()\n",
    "utility.activate_many(name='tutorial')\n",
    "sub, lab, protocol, line, mutation, user, project, subject_genotype, subject_death = (\n",
    "    subject.Subject(), subject.Lab(), subject.Protocol(), subject.Line(), subject.Mutation(), subject.User(),\n",
    "    subject.Project(), subject.SubjectGenotype(), subject.SubjectDeath()\n",
    "    )"
   ]
  },
  {
   "cell_type": "markdown",
   "id": "7aa77e1a",
   "metadata": {},
   "source": [
    "## Subject Entry Sheet"
   ]
  },
  {
   "cell_type": "code",
   "execution_count": 2,
   "id": "0561d2fb",
   "metadata": {
    "scrolled": false
   },
   "outputs": [
    {
     "data": {
      "application/vnd.jupyter.widget-view+json": {
       "model_id": "d1308ff308f14e1ea905ca2bc3ebe6a7",
       "version_major": 2,
       "version_minor": 0
      },
      "text/plain": [
       "VBox(children=(Sheet(cells=(Cell(column_end=9, column_start=0, row_end=0, row_start=0, squeeze_column=False, t…"
      ]
     },
     "metadata": {},
     "output_type": "display_data"
    }
   ],
   "source": [
    "\"\"\"Run this cell to load the subject entry sheet.\"\"\"\n",
    "mouse_gui = nbgui.MouseEntrySheet()\n",
    "mouse_gui.app"
   ]
  },
  {
   "cell_type": "markdown",
   "id": "883ef954",
   "metadata": {},
   "source": [
    "## Lab Entry"
   ]
  },
  {
   "cell_type": "code",
   "execution_count": 4,
   "id": "b03e1536",
   "metadata": {},
   "outputs": [],
   "source": [
    "\"\"\"Run this cell to insert a single laboratory into the database.\n",
    "USE ONLY IF YOU KNOW WHAT YOU ARE DOING!\n",
    "Insert the data of the laboratory you want to enter into the following 4 lines.\n",
    "\"\"\"\n",
    "lab_key = 'Beck'  # Short, unique identifier for the lab. Maximum 8 characters. Example: 'Rose'.\n",
    "lab_name = 'Neuronal input-output computation during cognition'  # A longer, more descriptive name for the laboratory.\n",
    "institution = 'Institute for Experimental Epileptology and Cognition Research'  # The institution the laboratory belongs to.\n",
    "address = 'Venusberg-Campus 1, 53127 Bonn'  # The postal address of the laboratory.\n",
    "\n",
    "lab.insert1((lab_key, lab_name, institution, address))"
   ]
  },
  {
   "cell_type": "markdown",
   "id": "bcab35a7",
   "metadata": {},
   "source": [
    "## Protocol Entry"
   ]
  },
  {
   "cell_type": "code",
   "execution_count": 7,
   "id": "352ef703",
   "metadata": {},
   "outputs": [],
   "source": [
    "\"\"\"Run this cell to insert a single protocol into the database.\n",
    "USE ONLY IF YOU KNOW WHAT YOU ARE DOING!\n",
    "Insert the data of the protocol you want to enter into the following 2 lines.\n",
    "\"\"\"\n",
    "protocol_key = 'LANUF3'  # Short, unique identifier for the protocol. Maximum 16 characters.\n",
    "protocol_description = 'Another dummy protocol ID for testing purposes'  # Description of the protocol.\n",
    "\n",
    "protocol.insert1((protocol_key, protocol_description))"
   ]
  },
  {
   "cell_type": "markdown",
   "id": "e03829fd",
   "metadata": {},
   "source": [
    "## Line Entry"
   ]
  },
  {
   "cell_type": "code",
   "execution_count": 9,
   "id": "2bbe332a",
   "metadata": {},
   "outputs": [],
   "source": [
    "\"\"\"Run this cell to insert a single line into the database.\n",
    "USE ONLY IF YOU KNOW WHAT YOU ARE DOING!\n",
    "Insert the data of the laboratory you want to enter into the following 4 lines.\"\"\"\n",
    "line_key = 'Thy1-Gcamp6'  # Short, unique identifier for the line.\n",
    "line_description = 'Gcamp6-ThyC57BL/6J-Tg(Thy1-GCaMP6s)GP4.12Dkim/J'  # Description of the line.\n",
    "target_phenotype = 'wt/tg'  # The target phenotype of the line.\n",
    "is_active = True  # Whether or not the line is actively breeding.\n",
    "\n",
    "line.insert1((line_key, line_description, target_phenotype, is_active))"
   ]
  },
  {
   "cell_type": "markdown",
   "id": "2cea0c11",
   "metadata": {},
   "source": [
    "## Mutation Entry"
   ]
  },
  {
   "cell_type": "code",
   "execution_count": 10,
   "id": "1b9fc5dd",
   "metadata": {},
   "outputs": [],
   "source": [
    "\"\"\"Run this cell to insert a single mutation into the database.\n",
    "USE ONLY IF YOU KNOW WHAT YOU ARE DOING!\n",
    "Insert the data of the laboratory you want to enter into the following 3 lines.\"\"\"\n",
    "line_key = 'Thy1-Gcamp6'  # The mouse line that has the mutation.\n",
    "mutation_key = 'Thy1-Gcamp6'  # An identifying name for the mutation.\n",
    "description = 'Tg(Thy1-GCaMP6s)GP4.12Dkim'  # A description of the mutation.\n",
    "\n",
    "mutation.insert1((line_key, mutation_key, description))"
   ]
  },
  {
   "cell_type": "markdown",
   "id": "3bc1723c",
   "metadata": {},
   "source": [
    "## User Entry"
   ]
  },
  {
   "cell_type": "code",
   "execution_count": 16,
   "id": "14933f75",
   "metadata": {},
   "outputs": [],
   "source": [
    "\"\"\"Run this cell to insert a single user into the database.\n",
    "Note that this user refers to the user that handles a subject, not necessarily as database user.\n",
    "USE ONLY IF YOU KNOW WHAT YOU ARE DOING!\n",
    "Insert the data of the laboratory you want to enter into the following 2 lines.\"\"\"\n",
    "user_key = 'natashak'\n",
    "lab_key = 'Rose'\n",
    "\n",
    "user.insert1((user_key, lab_key))"
   ]
  },
  {
   "cell_type": "markdown",
   "id": "40f6f927",
   "metadata": {},
   "source": [
    "## Project Entry"
   ]
  },
  {
   "cell_type": "code",
   "execution_count": 17,
   "id": "c1c00646",
   "metadata": {},
   "outputs": [
    {
     "ename": "DuplicateError",
     "evalue": "(\"Duplicate entry 'TEC' for key 'PRIMARY'\", 'To ignore duplicate entries in insert, set skip_duplicates=True')",
     "output_type": "error",
     "traceback": [
      "\u001b[1;31m---------------------------------------------------------------------------\u001b[0m",
      "\u001b[1;31mDuplicateError\u001b[0m                            Traceback (most recent call last)",
      "\u001b[1;32m~\\AppData\\Local\\Temp/ipykernel_12344/2125557566.py\u001b[0m in \u001b[0;36m<module>\u001b[1;34m\u001b[0m\n\u001b[0;32m      5\u001b[0m \u001b[0mproject_description\u001b[0m \u001b[1;33m=\u001b[0m \u001b[1;34m'Trace Eyeblink Conditioning'\u001b[0m\u001b[1;33m\u001b[0m\u001b[1;33m\u001b[0m\u001b[0m\n\u001b[0;32m      6\u001b[0m \u001b[1;33m\u001b[0m\u001b[0m\n\u001b[1;32m----> 7\u001b[1;33m \u001b[0mproject\u001b[0m\u001b[1;33m.\u001b[0m\u001b[0minsert1\u001b[0m\u001b[1;33m(\u001b[0m\u001b[1;33m(\u001b[0m\u001b[0mproject_key\u001b[0m\u001b[1;33m,\u001b[0m \u001b[0mproject_description\u001b[0m\u001b[1;33m)\u001b[0m\u001b[1;33m)\u001b[0m\u001b[1;33m\u001b[0m\u001b[1;33m\u001b[0m\u001b[0m\n\u001b[0m",
      "\u001b[1;32m~\\anaconda3\\envs\\datajoint\\lib\\site-packages\\datajoint\\table.py\u001b[0m in \u001b[0;36minsert1\u001b[1;34m(self, row, **kwargs)\u001b[0m\n\u001b[0;32m    264\u001b[0m         \u001b[0mFor\u001b[0m \u001b[0mkwargs\u001b[0m\u001b[1;33m,\u001b[0m \u001b[0msee\u001b[0m \u001b[0minsert\u001b[0m\u001b[1;33m(\u001b[0m\u001b[1;33m)\u001b[0m\u001b[1;33m\u001b[0m\u001b[1;33m\u001b[0m\u001b[0m\n\u001b[0;32m    265\u001b[0m         \"\"\"\n\u001b[1;32m--> 266\u001b[1;33m         \u001b[0mself\u001b[0m\u001b[1;33m.\u001b[0m\u001b[0minsert\u001b[0m\u001b[1;33m(\u001b[0m\u001b[1;33m(\u001b[0m\u001b[0mrow\u001b[0m\u001b[1;33m,\u001b[0m\u001b[1;33m)\u001b[0m\u001b[1;33m,\u001b[0m \u001b[1;33m**\u001b[0m\u001b[0mkwargs\u001b[0m\u001b[1;33m)\u001b[0m\u001b[1;33m\u001b[0m\u001b[1;33m\u001b[0m\u001b[0m\n\u001b[0m\u001b[0;32m    267\u001b[0m \u001b[1;33m\u001b[0m\u001b[0m\n\u001b[0;32m    268\u001b[0m     \u001b[1;32mdef\u001b[0m \u001b[0minsert\u001b[0m\u001b[1;33m(\u001b[0m\u001b[0mself\u001b[0m\u001b[1;33m,\u001b[0m \u001b[0mrows\u001b[0m\u001b[1;33m,\u001b[0m \u001b[0mreplace\u001b[0m\u001b[1;33m=\u001b[0m\u001b[1;32mFalse\u001b[0m\u001b[1;33m,\u001b[0m \u001b[0mskip_duplicates\u001b[0m\u001b[1;33m=\u001b[0m\u001b[1;32mFalse\u001b[0m\u001b[1;33m,\u001b[0m \u001b[0mignore_extra_fields\u001b[0m\u001b[1;33m=\u001b[0m\u001b[1;32mFalse\u001b[0m\u001b[1;33m,\u001b[0m \u001b[0mallow_direct_insert\u001b[0m\u001b[1;33m=\u001b[0m\u001b[1;32mNone\u001b[0m\u001b[1;33m)\u001b[0m\u001b[1;33m:\u001b[0m\u001b[1;33m\u001b[0m\u001b[1;33m\u001b[0m\u001b[0m\n",
      "\u001b[1;32m~\\anaconda3\\envs\\datajoint\\lib\\site-packages\\datajoint\\table.py\u001b[0m in \u001b[0;36minsert\u001b[1;34m(self, rows, replace, skip_duplicates, ignore_extra_fields, allow_direct_insert)\u001b[0m\n\u001b[0;32m    335\u001b[0m                     'To ignore extra fields in insert, set ignore_extra_fields=True')\n\u001b[0;32m    336\u001b[0m             \u001b[1;32mexcept\u001b[0m \u001b[0mDuplicateError\u001b[0m \u001b[1;32mas\u001b[0m \u001b[0merr\u001b[0m\u001b[1;33m:\u001b[0m\u001b[1;33m\u001b[0m\u001b[1;33m\u001b[0m\u001b[0m\n\u001b[1;32m--> 337\u001b[1;33m                 raise err.suggest(\n\u001b[0m\u001b[0;32m    338\u001b[0m                     'To ignore duplicate entries in insert, set skip_duplicates=True')\n\u001b[0;32m    339\u001b[0m \u001b[1;33m\u001b[0m\u001b[0m\n",
      "\u001b[1;31mDuplicateError\u001b[0m: (\"Duplicate entry 'TEC' for key 'PRIMARY'\", 'To ignore duplicate entries in insert, set skip_duplicates=True')"
     ]
    }
   ],
   "source": [
    "\"\"\"Run this cell to insert a single project into the database.\n",
    "USE ONLY IF YOU KNOW WHAT YOU ARE DOING!\n",
    "Insert the data of the laboratory you want to enter into the following 2 lines.\"\"\"\n",
    "project_key = 'TEC'\n",
    "project_description = 'Trace Eyeblink Conditioning'\n",
    "\n",
    "project.insert1((project_key, project_description))"
   ]
  },
  {
   "cell_type": "markdown",
   "id": "17726636",
   "metadata": {},
   "source": [
    "## Subject Genotype Entry"
   ]
  },
  {
   "cell_type": "code",
   "execution_count": null,
   "id": "76744b90",
   "metadata": {},
   "outputs": [],
   "source": [
    "\"\"\"Run this cell to assign a genotype to the mutation of a subject.\n",
    "USE ONLY IF YOU KNOW WHAT YOU ARE DOING!\n",
    "Insert the data of the laboratory you want to enter into the following 4 lines.\"\"\" \n",
    "subject_key = ''\n",
    "line_key = ''\n",
    "mutation_key = ''\n",
    "genotype = ''\n",
    "\n",
    "subject_genotype.insert1((subject_key, line_key, mutation_key, genotype))"
   ]
  },
  {
   "cell_type": "markdown",
   "id": "1d6cbc6b",
   "metadata": {},
   "source": [
    "## Subject Death Entry"
   ]
  },
  {
   "cell_type": "code",
   "execution_count": null,
   "id": "364fd35e",
   "metadata": {},
   "outputs": [],
   "source": [
    "\"\"\"Run this cell to assign a death date to a subject.\n",
    "USE ONLY IF YOU KNOW WHAT YOU ARE DOING!\n",
    "Insert the data of the laboratory you want to enter into the following 4 lines.\"\"\" \n",
    "subject_key = ''\n",
    "death_date = ''\n",
    "case = ''\n",
    "\n",
    "subject_death.insert1((subject_key, death_date, case))"
   ]
  },
  {
   "cell_type": "markdown",
   "id": "a5abac1e",
   "metadata": {},
   "source": [
    "## Fetch"
   ]
  },
  {
   "cell_type": "code",
   "execution_count": 3,
   "id": "477cf5c6",
   "metadata": {},
   "outputs": [
    {
     "data": {
      "text/html": [
       "\n",
       "    \n",
       "    <style type=\"text/css\">\n",
       "        .Relation{\n",
       "            border-collapse:collapse;\n",
       "        }\n",
       "        .Relation th{\n",
       "            background: #A0A0A0; color: #ffffff; padding:4px; border:#f0e0e0 1px solid;\n",
       "            font-weight: normal; font-family: monospace; font-size: 100%;\n",
       "        }\n",
       "        .Relation td{\n",
       "            padding:4px; border:#f0e0e0 1px solid; font-size:100%;\n",
       "        }\n",
       "        .Relation tr:nth-child(odd){\n",
       "            background: #ffffff;\n",
       "        }\n",
       "        .Relation tr:nth-child(even){\n",
       "            background: #f3f1ff;\n",
       "        }\n",
       "        /* Tooltip container */\n",
       "        .djtooltip {\n",
       "        }\n",
       "        /* Tooltip text */\n",
       "        .djtooltip .djtooltiptext {\n",
       "            visibility: hidden;\n",
       "            width: 120px;\n",
       "            background-color: black;\n",
       "            color: #fff;\n",
       "            text-align: center;\n",
       "            padding: 5px 0;\n",
       "            border-radius: 6px;\n",
       "            /* Position the tooltip text - see examples below! */\n",
       "            position: absolute;\n",
       "            z-index: 1;\n",
       "        }\n",
       "        #primary {\n",
       "            font-weight: bold;\n",
       "            color: black;\n",
       "        }\n",
       "        #nonprimary {\n",
       "            font-weight: normal;\n",
       "            color: white;\n",
       "        }\n",
       "\n",
       "        /* Show the tooltip text when you mouse over the tooltip container */\n",
       "        .djtooltip:hover .djtooltiptext {\n",
       "            visibility: visible;\n",
       "        }\n",
       "    </style>\n",
       "    \n",
       "    <b>Animal Subject</b>\n",
       "        <div style=\"max-height:1000px;max-width:1500px;overflow:auto;\">\n",
       "        <table border=\"1\" class=\"Relation\">\n",
       "            <thead> <tr style=\"text-align: right;\"> <th> <div class=\"djtooltip\">\n",
       "                            <p id=\"primary\">subject</p>\n",
       "                            <span class=\"djtooltiptext\"></span>\n",
       "                        </div></th><th><div class=\"djtooltip\">\n",
       "                            <p id=\"nonprimary\">lab</p>\n",
       "                            <span class=\"djtooltiptext\">short lab name</span>\n",
       "                        </div></th><th><div class=\"djtooltip\">\n",
       "                            <p id=\"nonprimary\">earmark</p>\n",
       "                            <span class=\"djtooltiptext\">aka lab_id</span>\n",
       "                        </div></th><th><div class=\"djtooltip\">\n",
       "                            <p id=\"nonprimary\">sex</p>\n",
       "                            <span class=\"djtooltiptext\"></span>\n",
       "                        </div></th><th><div class=\"djtooltip\">\n",
       "                            <p id=\"nonprimary\">birth_date</p>\n",
       "                            <span class=\"djtooltiptext\"></span>\n",
       "                        </div></th><th><div class=\"djtooltip\">\n",
       "                            <p id=\"nonprimary\">subject_description</p>\n",
       "                            <span class=\"djtooltiptext\"></span>\n",
       "                        </div></th><th><div class=\"djtooltip\">\n",
       "                            <p id=\"nonprimary\">line</p>\n",
       "                            <span class=\"djtooltiptext\"></span>\n",
       "                        </div></th><th><div class=\"djtooltip\">\n",
       "                            <p id=\"nonprimary\">user</p>\n",
       "                            <span class=\"djtooltiptext\"></span>\n",
       "                        </div></th><th><div class=\"djtooltip\">\n",
       "                            <p id=\"nonprimary\">project</p>\n",
       "                            <span class=\"djtooltiptext\"></span>\n",
       "                        </div></th><th><div class=\"djtooltip\">\n",
       "                            <p id=\"nonprimary\">protocol</p>\n",
       "                            <span class=\"djtooltiptext\"></span>\n",
       "                        </div> </th> </tr> </thead>\n",
       "            <tbody> <tr> <td>Rose_ROS-0019</td>\n",
       "<td>Rose</td>\n",
       "<td>G155</td>\n",
       "<td>M</td>\n",
       "<td>2010-08-20</td>\n",
       "<td>Basic Mouse</td>\n",
       "<td>SST-IRES-Cre</td>\n",
       "<td>danielmk</td>\n",
       "<td>TEC</td>\n",
       "<td>LANUF1</td></tr><tr><td>Rose_ROS-0020</td>\n",
       "<td>Rose</td>\n",
       "<td>G156</td>\n",
       "<td>M</td>\n",
       "<td>2011-07-20</td>\n",
       "<td> </td>\n",
       "<td>SST-IRES-Cre</td>\n",
       "<td>danielmk</td>\n",
       "<td>TEC</td>\n",
       "<td>LANUF2</td></tr><tr><td>Rose_ROS-0021</td>\n",
       "<td>Rose</td>\n",
       "<td>G166</td>\n",
       "<td>M</td>\n",
       "<td>2011-07-20</td>\n",
       "<td> </td>\n",
       "<td>SST-IRES-Cre</td>\n",
       "<td>danielmk</td>\n",
       "<td>TEC</td>\n",
       "<td>LANUF2</td> </tr> </tbody>\n",
       "        </table>\n",
       "        \n",
       "        <p>Total: 3</p></div>\n",
       "        "
      ],
      "text/plain": [
       "*subject       lab      earmark     sex     birth_date     subject_descri line           user         project     protocol    \n",
       "+------------+ +------+ +---------+ +-----+ +------------+ +------------+ +------------+ +----------+ +---------+ +----------+\n",
       "Rose_ROS-0019  Rose     G155        M       2010-08-20     Basic Mouse    SST-IRES-Cre   danielmk     TEC         LANUF1      \n",
       "Rose_ROS-0020  Rose     G156        M       2011-07-20                    SST-IRES-Cre   danielmk     TEC         LANUF2      \n",
       "Rose_ROS-0021  Rose     G166        M       2011-07-20                    SST-IRES-Cre   danielmk     TEC         LANUF2      \n",
       " (Total: 3)"
      ]
     },
     "execution_count": 3,
     "metadata": {},
     "output_type": "execute_result"
    }
   ],
   "source": [
    "sub"
   ]
  },
  {
   "cell_type": "code",
   "execution_count": null,
   "id": "e386c541",
   "metadata": {},
   "outputs": [],
   "source": []
  }
 ],
 "metadata": {
  "kernelspec": {
   "display_name": "Python 3",
   "language": "python",
   "name": "python3"
  },
  "language_info": {
   "codemirror_mode": {
    "name": "ipython",
    "version": 3
   },
   "file_extension": ".py",
   "mimetype": "text/x-python",
   "name": "python",
   "nbconvert_exporter": "python",
   "pygments_lexer": "ipython3",
   "version": "3.8.8"
  }
 },
 "nbformat": 4,
 "nbformat_minor": 5
}
