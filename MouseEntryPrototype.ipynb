{
 "cells": [
  {
   "cell_type": "markdown",
   "id": "f69ca4c9",
   "metadata": {},
   "source": [
    "# Enter Mouse (Prototype)\n",
    "\n",
    "This notebook leads you through the steps to enter a mouse into the adamacs database. First, connnect to the database."
   ]
  },
  {
   "cell_type": "code",
   "execution_count": 8,
   "id": "2f763e74",
   "metadata": {},
   "outputs": [],
   "source": [
    "import datajoint as dj\n",
    "from adamacs import subject, surgery, session, behavior, nbgui\n",
    "from adamacs import utility\n",
    "\n",
    "# User data\n",
    "dj.config['database.host'] = '127.0.0.1'\n",
    "dj.config['database.user'] = 'root'\n",
    "dj.config['database.password'] = 'tutorial'\n",
    "dj.conn()\n",
    "\n",
    "utility.activate(subject.schema, create_schema=True, create_tables=True, schema_name='tutorial', linking_module=subject)\n",
    "utility.activate(surgery.schema, create_schema=True, create_tables=True, schema_name='tutorial', linking_module=surgery)\n",
    "utility.activate(session.schema, create_schema=True, create_tables=True, schema_name='tutorial', linking_module=session)"
   ]
  },
  {
   "cell_type": "markdown",
   "id": "ef9a7c78",
   "metadata": {},
   "source": [
    "Next we need to setup some dummy data. This is only necessary for local testing."
   ]
  },
  {
   "cell_type": "code",
   "execution_count": 9,
   "id": "33c6a72b",
   "metadata": {},
   "outputs": [
    {
     "ename": "DuplicateError",
     "evalue": "(\"Duplicate entry 'dmk' for key 'PRIMARY'\", 'To ignore duplicate entries in insert, set skip_duplicates=True')",
     "output_type": "error",
     "traceback": [
      "\u001b[1;31m---------------------------------------------------------------------------\u001b[0m",
      "\u001b[1;31mDuplicateError\u001b[0m                            Traceback (most recent call last)",
      "\u001b[1;32m~\\AppData\\Local\\Temp/ipykernel_10144/3191020181.py\u001b[0m in \u001b[0;36m<module>\u001b[1;34m\u001b[0m\n\u001b[0;32m     37\u001b[0m \u001b[1;31m# Insert users\u001b[0m\u001b[1;33m\u001b[0m\u001b[1;33m\u001b[0m\u001b[1;33m\u001b[0m\u001b[0m\n\u001b[0;32m     38\u001b[0m \u001b[0muser\u001b[0m \u001b[1;33m=\u001b[0m \u001b[0msubject\u001b[0m\u001b[1;33m.\u001b[0m\u001b[0mUser\u001b[0m\u001b[1;33m(\u001b[0m\u001b[1;33m)\u001b[0m\u001b[1;33m\u001b[0m\u001b[1;33m\u001b[0m\u001b[0m\n\u001b[1;32m---> 39\u001b[1;33m user.insert1((\"dmk\",\n\u001b[0m\u001b[0;32m     40\u001b[0m              \"Rose\"))\n\u001b[0;32m     41\u001b[0m \u001b[1;33m\u001b[0m\u001b[0m\n",
      "\u001b[1;32m~\\anaconda3\\envs\\datajoint\\lib\\site-packages\\datajoint\\table.py\u001b[0m in \u001b[0;36minsert1\u001b[1;34m(self, row, **kwargs)\u001b[0m\n\u001b[0;32m    264\u001b[0m         \u001b[0mFor\u001b[0m \u001b[0mkwargs\u001b[0m\u001b[1;33m,\u001b[0m \u001b[0msee\u001b[0m \u001b[0minsert\u001b[0m\u001b[1;33m(\u001b[0m\u001b[1;33m)\u001b[0m\u001b[1;33m\u001b[0m\u001b[1;33m\u001b[0m\u001b[0m\n\u001b[0;32m    265\u001b[0m         \"\"\"\n\u001b[1;32m--> 266\u001b[1;33m         \u001b[0mself\u001b[0m\u001b[1;33m.\u001b[0m\u001b[0minsert\u001b[0m\u001b[1;33m(\u001b[0m\u001b[1;33m(\u001b[0m\u001b[0mrow\u001b[0m\u001b[1;33m,\u001b[0m\u001b[1;33m)\u001b[0m\u001b[1;33m,\u001b[0m \u001b[1;33m**\u001b[0m\u001b[0mkwargs\u001b[0m\u001b[1;33m)\u001b[0m\u001b[1;33m\u001b[0m\u001b[1;33m\u001b[0m\u001b[0m\n\u001b[0m\u001b[0;32m    267\u001b[0m \u001b[1;33m\u001b[0m\u001b[0m\n\u001b[0;32m    268\u001b[0m     \u001b[1;32mdef\u001b[0m \u001b[0minsert\u001b[0m\u001b[1;33m(\u001b[0m\u001b[0mself\u001b[0m\u001b[1;33m,\u001b[0m \u001b[0mrows\u001b[0m\u001b[1;33m,\u001b[0m \u001b[0mreplace\u001b[0m\u001b[1;33m=\u001b[0m\u001b[1;32mFalse\u001b[0m\u001b[1;33m,\u001b[0m \u001b[0mskip_duplicates\u001b[0m\u001b[1;33m=\u001b[0m\u001b[1;32mFalse\u001b[0m\u001b[1;33m,\u001b[0m \u001b[0mignore_extra_fields\u001b[0m\u001b[1;33m=\u001b[0m\u001b[1;32mFalse\u001b[0m\u001b[1;33m,\u001b[0m \u001b[0mallow_direct_insert\u001b[0m\u001b[1;33m=\u001b[0m\u001b[1;32mNone\u001b[0m\u001b[1;33m)\u001b[0m\u001b[1;33m:\u001b[0m\u001b[1;33m\u001b[0m\u001b[1;33m\u001b[0m\u001b[0m\n",
      "\u001b[1;32m~\\anaconda3\\envs\\datajoint\\lib\\site-packages\\datajoint\\table.py\u001b[0m in \u001b[0;36minsert\u001b[1;34m(self, rows, replace, skip_duplicates, ignore_extra_fields, allow_direct_insert)\u001b[0m\n\u001b[0;32m    335\u001b[0m                     'To ignore extra fields in insert, set ignore_extra_fields=True')\n\u001b[0;32m    336\u001b[0m             \u001b[1;32mexcept\u001b[0m \u001b[0mDuplicateError\u001b[0m \u001b[1;32mas\u001b[0m \u001b[0merr\u001b[0m\u001b[1;33m:\u001b[0m\u001b[1;33m\u001b[0m\u001b[1;33m\u001b[0m\u001b[0m\n\u001b[1;32m--> 337\u001b[1;33m                 raise err.suggest(\n\u001b[0m\u001b[0;32m    338\u001b[0m                     'To ignore duplicate entries in insert, set skip_duplicates=True')\n\u001b[0;32m    339\u001b[0m \u001b[1;33m\u001b[0m\u001b[0m\n",
      "\u001b[1;31mDuplicateError\u001b[0m: (\"Duplicate entry 'dmk' for key 'PRIMARY'\", 'To ignore duplicate entries in insert, set skip_duplicates=True')"
     ]
    }
   ],
   "source": [
    "# Insert Laboratories\n",
    "lab = subject.Lab()\n",
    "lab_data = [\n",
    "    ('Rose',\n",
    "    'AG Rose, Circuit mechanisms of behavior',\n",
    "    'Institute for Experimental Epileptology and Cognition Research',\n",
    "    'Venusberg-Campus 1, 53127, Bonn',\n",
    "    'CET'),\n",
    "    ('Gm',\n",
    "    'AG Gründemann, Informationsverarbeitung neuronaler Schaltkreise',\n",
    "    'DZNE',\n",
    "    'Venusberg-Campus 1, 53127, Bonn',\n",
    "    'CET'),\n",
    "    ('Fm',\n",
    "    'AG Fuhrmann, Neuroimmunologie und Bildgebung',\n",
    "    'DZNE',\n",
    "    'Venusberg-Campus 1, 53127, Bonn',\n",
    "    'CET'),\n",
    "    ('Beck',\n",
    "    'AG Beck, Experimental Epileptology and Cognition Research',\n",
    "    'Institute for Experimental Epileptology and Cognition Research',\n",
    "    'Venusberg-Campus 1, 53127, Bonn',\n",
    "    'CET')\n",
    "]\n",
    "\n",
    "lab.insert(lab_data, skip_duplicates=True)\n",
    "\n",
    "# Insert lines\n",
    "line = subject.Line()\n",
    "line_data = [(\"SST-IRES-Cre\", \"The SST-IRES-Cre Mouse Line is Daniels favorite mouse line\", \"wt/tg\", True),\n",
    "             (\"VGluT3-Cre\", \"\", \"tg/tg\", True),\n",
    "             (\"VGluT2-Cre\", \"\", \"\", True),\n",
    "             (\"SST-IRES-Cre/VGluT3-Cre\", \"\", \"\", True)\n",
    "             ]\n",
    "line.insert(line_data, skip_duplicates=True)\n",
    "\n",
    "# Insert users\n",
    "user = subject.User()\n",
    "user.insert1((\"dmk\",\n",
    "             \"Rose\"))\n",
    "\n",
    "# Insert Protocols\n",
    "protocol = subject.Protocol()\n",
    "protocol.insert1((\"LANUF2\",\n",
    "                 \"Basic Animal Protocol\"))\n",
    "\n",
    "# Insert Project\n",
    "project = subject.Project()\n",
    "project.insert1((\"TEC\",\n",
    "                 \"FM\"))"
   ]
  },
  {
   "cell_type": "markdown",
   "id": "1eb59639",
   "metadata": {},
   "source": [
    "Now enter the data of the mouse you want to save into the database."
   ]
  },
  {
   "cell_type": "code",
   "execution_count": null,
   "id": "e331685e",
   "metadata": {},
   "outputs": [],
   "source": [
    "sub = subject.Subject()\n",
    "\n",
    "subject_id = ''\n",
    "lab = ''\n",
    "lab_id = ''\n",
    "sex = ''\n",
    "birth_date = ''\n",
    "subject_description = ''\n",
    "line = ''\n",
    "user = ''\n",
    "project = ''\n",
    "protocol = ''\n",
    "\n",
    "sub.insert1((subject_id, lab, lab_id, sex, birth_date, subject_description, line, user, project, protocol))"
   ]
  },
  {
   "cell_type": "markdown",
   "id": "cdadf752",
   "metadata": {},
   "source": [
    "Here is some example data:"
   ]
  },
  {
   "cell_type": "code",
   "execution_count": 11,
   "id": "81679949",
   "metadata": {
    "tags": [
     "hide-input"
    ]
   },
   "outputs": [
    {
     "ename": "DuplicateError",
     "evalue": "(\"Duplicate entry 'Rose_ROS-0001' for key 'PRIMARY'\", 'To ignore duplicate entries in insert, set skip_duplicates=True')",
     "output_type": "error",
     "traceback": [
      "\u001b[1;31m---------------------------------------------------------------------------\u001b[0m",
      "\u001b[1;31mDuplicateError\u001b[0m                            Traceback (most recent call last)",
      "\u001b[1;32m~\\AppData\\Local\\Temp/ipykernel_15512/4117316459.py\u001b[0m in \u001b[0;36m<module>\u001b[1;34m\u001b[0m\n\u001b[0;32m     12\u001b[0m \u001b[0mprotocol\u001b[0m \u001b[1;33m=\u001b[0m \u001b[1;34m'LANUF2'\u001b[0m\u001b[1;33m\u001b[0m\u001b[1;33m\u001b[0m\u001b[0m\n\u001b[0;32m     13\u001b[0m \u001b[1;33m\u001b[0m\u001b[0m\n\u001b[1;32m---> 14\u001b[1;33m \u001b[0msub\u001b[0m\u001b[1;33m.\u001b[0m\u001b[0minsert1\u001b[0m\u001b[1;33m(\u001b[0m\u001b[1;33m(\u001b[0m\u001b[0msubject_id\u001b[0m\u001b[1;33m,\u001b[0m \u001b[0mlab\u001b[0m\u001b[1;33m,\u001b[0m \u001b[0mlab_id\u001b[0m\u001b[1;33m,\u001b[0m \u001b[0msex\u001b[0m\u001b[1;33m,\u001b[0m \u001b[0mbirth_date\u001b[0m\u001b[1;33m,\u001b[0m \u001b[0msubject_description\u001b[0m\u001b[1;33m,\u001b[0m \u001b[0mline\u001b[0m\u001b[1;33m,\u001b[0m \u001b[0muser\u001b[0m\u001b[1;33m,\u001b[0m \u001b[0mproject\u001b[0m\u001b[1;33m,\u001b[0m \u001b[0mprotocol\u001b[0m\u001b[1;33m)\u001b[0m\u001b[1;33m)\u001b[0m\u001b[1;33m\u001b[0m\u001b[1;33m\u001b[0m\u001b[0m\n\u001b[0m",
      "\u001b[1;32m~\\anaconda3\\envs\\datajoint\\lib\\site-packages\\datajoint\\table.py\u001b[0m in \u001b[0;36minsert1\u001b[1;34m(self, row, **kwargs)\u001b[0m\n\u001b[0;32m    264\u001b[0m         \u001b[0mFor\u001b[0m \u001b[0mkwargs\u001b[0m\u001b[1;33m,\u001b[0m \u001b[0msee\u001b[0m \u001b[0minsert\u001b[0m\u001b[1;33m(\u001b[0m\u001b[1;33m)\u001b[0m\u001b[1;33m\u001b[0m\u001b[1;33m\u001b[0m\u001b[0m\n\u001b[0;32m    265\u001b[0m         \"\"\"\n\u001b[1;32m--> 266\u001b[1;33m         \u001b[0mself\u001b[0m\u001b[1;33m.\u001b[0m\u001b[0minsert\u001b[0m\u001b[1;33m(\u001b[0m\u001b[1;33m(\u001b[0m\u001b[0mrow\u001b[0m\u001b[1;33m,\u001b[0m\u001b[1;33m)\u001b[0m\u001b[1;33m,\u001b[0m \u001b[1;33m**\u001b[0m\u001b[0mkwargs\u001b[0m\u001b[1;33m)\u001b[0m\u001b[1;33m\u001b[0m\u001b[1;33m\u001b[0m\u001b[0m\n\u001b[0m\u001b[0;32m    267\u001b[0m \u001b[1;33m\u001b[0m\u001b[0m\n\u001b[0;32m    268\u001b[0m     \u001b[1;32mdef\u001b[0m \u001b[0minsert\u001b[0m\u001b[1;33m(\u001b[0m\u001b[0mself\u001b[0m\u001b[1;33m,\u001b[0m \u001b[0mrows\u001b[0m\u001b[1;33m,\u001b[0m \u001b[0mreplace\u001b[0m\u001b[1;33m=\u001b[0m\u001b[1;32mFalse\u001b[0m\u001b[1;33m,\u001b[0m \u001b[0mskip_duplicates\u001b[0m\u001b[1;33m=\u001b[0m\u001b[1;32mFalse\u001b[0m\u001b[1;33m,\u001b[0m \u001b[0mignore_extra_fields\u001b[0m\u001b[1;33m=\u001b[0m\u001b[1;32mFalse\u001b[0m\u001b[1;33m,\u001b[0m \u001b[0mallow_direct_insert\u001b[0m\u001b[1;33m=\u001b[0m\u001b[1;32mNone\u001b[0m\u001b[1;33m)\u001b[0m\u001b[1;33m:\u001b[0m\u001b[1;33m\u001b[0m\u001b[1;33m\u001b[0m\u001b[0m\n",
      "\u001b[1;32m~\\anaconda3\\envs\\datajoint\\lib\\site-packages\\datajoint\\table.py\u001b[0m in \u001b[0;36minsert\u001b[1;34m(self, rows, replace, skip_duplicates, ignore_extra_fields, allow_direct_insert)\u001b[0m\n\u001b[0;32m    335\u001b[0m                     'To ignore extra fields in insert, set ignore_extra_fields=True')\n\u001b[0;32m    336\u001b[0m             \u001b[1;32mexcept\u001b[0m \u001b[0mDuplicateError\u001b[0m \u001b[1;32mas\u001b[0m \u001b[0merr\u001b[0m\u001b[1;33m:\u001b[0m\u001b[1;33m\u001b[0m\u001b[1;33m\u001b[0m\u001b[0m\n\u001b[1;32m--> 337\u001b[1;33m                 raise err.suggest(\n\u001b[0m\u001b[0;32m    338\u001b[0m                     'To ignore duplicate entries in insert, set skip_duplicates=True')\n\u001b[0;32m    339\u001b[0m \u001b[1;33m\u001b[0m\u001b[0m\n",
      "\u001b[1;31mDuplicateError\u001b[0m: (\"Duplicate entry 'Rose_ROS-0001' for key 'PRIMARY'\", 'To ignore duplicate entries in insert, set skip_duplicates=True')"
     ]
    }
   ],
   "source": [
    "sub = subject.Subject()\n",
    "\n",
    "subject_id = 'Rose_ROS-0001'\n",
    "lab = 'Rose'\n",
    "lab_id = 'G114'\n",
    "sex = 'M'\n",
    "birth_date = '2021-07-11'\n",
    "subject_description = ''\n",
    "line = 'SST-IRES-Cre'\n",
    "user = 'dmk'\n",
    "project = 'TEC'\n",
    "protocol = 'LANUF2'\n",
    "\n",
    "sub.insert1((subject_id, lab, lab_id, sex, birth_date, subject_description, line, user, project, protocol))"
   ]
  },
  {
   "cell_type": "markdown",
   "id": "0907cfb0",
   "metadata": {},
   "source": [
    "Running the following line shows you the mice in the database."
   ]
  },
  {
   "cell_type": "code",
   "execution_count": 5,
   "id": "2bad6ef6",
   "metadata": {},
   "outputs": [
    {
     "data": {
      "text/html": [
       "\n",
       "    \n",
       "    <style type=\"text/css\">\n",
       "        .Relation{\n",
       "            border-collapse:collapse;\n",
       "        }\n",
       "        .Relation th{\n",
       "            background: #A0A0A0; color: #ffffff; padding:4px; border:#f0e0e0 1px solid;\n",
       "            font-weight: normal; font-family: monospace; font-size: 100%;\n",
       "        }\n",
       "        .Relation td{\n",
       "            padding:4px; border:#f0e0e0 1px solid; font-size:100%;\n",
       "        }\n",
       "        .Relation tr:nth-child(odd){\n",
       "            background: #ffffff;\n",
       "        }\n",
       "        .Relation tr:nth-child(even){\n",
       "            background: #f3f1ff;\n",
       "        }\n",
       "        /* Tooltip container */\n",
       "        .djtooltip {\n",
       "        }\n",
       "        /* Tooltip text */\n",
       "        .djtooltip .djtooltiptext {\n",
       "            visibility: hidden;\n",
       "            width: 120px;\n",
       "            background-color: black;\n",
       "            color: #fff;\n",
       "            text-align: center;\n",
       "            padding: 5px 0;\n",
       "            border-radius: 6px;\n",
       "            /* Position the tooltip text - see examples below! */\n",
       "            position: absolute;\n",
       "            z-index: 1;\n",
       "        }\n",
       "        #primary {\n",
       "            font-weight: bold;\n",
       "            color: black;\n",
       "        }\n",
       "        #nonprimary {\n",
       "            font-weight: normal;\n",
       "            color: white;\n",
       "        }\n",
       "\n",
       "        /* Show the tooltip text when you mouse over the tooltip container */\n",
       "        .djtooltip:hover .djtooltiptext {\n",
       "            visibility: visible;\n",
       "        }\n",
       "    </style>\n",
       "    \n",
       "    <b>Animal Subject</b>\n",
       "        <div style=\"max-height:1000px;max-width:1500px;overflow:auto;\">\n",
       "        <table border=\"1\" class=\"Relation\">\n",
       "            <thead> <tr style=\"text-align: right;\"> <th> <div class=\"djtooltip\">\n",
       "                            <p id=\"primary\">subject</p>\n",
       "                            <span class=\"djtooltiptext\"></span>\n",
       "                        </div></th><th><div class=\"djtooltip\">\n",
       "                            <p id=\"nonprimary\">lab</p>\n",
       "                            <span class=\"djtooltiptext\">short lab name</span>\n",
       "                        </div></th><th><div class=\"djtooltip\">\n",
       "                            <p id=\"nonprimary\">lab_id</p>\n",
       "                            <span class=\"djtooltiptext\"></span>\n",
       "                        </div></th><th><div class=\"djtooltip\">\n",
       "                            <p id=\"nonprimary\">sex</p>\n",
       "                            <span class=\"djtooltiptext\"></span>\n",
       "                        </div></th><th><div class=\"djtooltip\">\n",
       "                            <p id=\"nonprimary\">birth_date</p>\n",
       "                            <span class=\"djtooltiptext\"></span>\n",
       "                        </div></th><th><div class=\"djtooltip\">\n",
       "                            <p id=\"nonprimary\">subject_description</p>\n",
       "                            <span class=\"djtooltiptext\"></span>\n",
       "                        </div></th><th><div class=\"djtooltip\">\n",
       "                            <p id=\"nonprimary\">line</p>\n",
       "                            <span class=\"djtooltiptext\"></span>\n",
       "                        </div></th><th><div class=\"djtooltip\">\n",
       "                            <p id=\"nonprimary\">user</p>\n",
       "                            <span class=\"djtooltiptext\"></span>\n",
       "                        </div></th><th><div class=\"djtooltip\">\n",
       "                            <p id=\"nonprimary\">project</p>\n",
       "                            <span class=\"djtooltiptext\"></span>\n",
       "                        </div></th><th><div class=\"djtooltip\">\n",
       "                            <p id=\"nonprimary\">protocol</p>\n",
       "                            <span class=\"djtooltiptext\"></span>\n",
       "                        </div> </th> </tr> </thead>\n",
       "            <tbody> <tr> <td>Rose_ROS-0001</td>\n",
       "<td>Rose</td>\n",
       "<td>G114</td>\n",
       "<td>M</td>\n",
       "<td>2021-07-11</td>\n",
       "<td></td>\n",
       "<td>SST-IRES-Cre</td>\n",
       "<td>dmk</td>\n",
       "<td>TEC</td>\n",
       "<td>LANUF2</td> </tr> </tbody>\n",
       "        </table>\n",
       "        \n",
       "        <p>Total: 1</p></div>\n",
       "        "
      ],
      "text/plain": [
       "*subject       lab      lab_id     sex     birth_date     subject_descri line           user     project     protocol    \n",
       "+------------+ +------+ +--------+ +-----+ +------------+ +------------+ +------------+ +------+ +---------+ +----------+\n",
       "Rose_ROS-0001  Rose     G114       M       2021-07-11                    SST-IRES-Cre   dmk      TEC         LANUF2      \n",
       " (Total: 1)"
      ]
     },
     "execution_count": 5,
     "metadata": {},
     "output_type": "execute_result"
    }
   ],
   "source": [
    "sub"
   ]
  },
  {
   "cell_type": "markdown",
   "id": "6634b148",
   "metadata": {},
   "source": [
    "Feel free to experiment and add some more mice."
   ]
  },
  {
   "cell_type": "code",
   "execution_count": 12,
   "id": "3b417359",
   "metadata": {
    "scrolled": false
   },
   "outputs": [
    {
     "data": {
      "application/vnd.jupyter.widget-view+json": {
       "model_id": "c0ce6ba647044057924629cf08468c94",
       "version_major": 2,
       "version_minor": 0
      },
      "text/plain": [
       "VBox(children=(Text(value='subject', description='subject', placeholder='Type something'), Text(value='lab', d…"
      ]
     },
     "metadata": {},
     "output_type": "display_data"
    }
   ],
   "source": [
    "mouse_gui = nbgui.MouseEntry()\n",
    "mouse_gui.app"
   ]
  },
  {
   "cell_type": "code",
   "execution_count": 13,
   "id": "efe58bd8",
   "metadata": {},
   "outputs": [
    {
     "data": {
      "text/html": [
       "\n",
       "    \n",
       "    <style type=\"text/css\">\n",
       "        .Relation{\n",
       "            border-collapse:collapse;\n",
       "        }\n",
       "        .Relation th{\n",
       "            background: #A0A0A0; color: #ffffff; padding:4px; border:#f0e0e0 1px solid;\n",
       "            font-weight: normal; font-family: monospace; font-size: 100%;\n",
       "        }\n",
       "        .Relation td{\n",
       "            padding:4px; border:#f0e0e0 1px solid; font-size:100%;\n",
       "        }\n",
       "        .Relation tr:nth-child(odd){\n",
       "            background: #ffffff;\n",
       "        }\n",
       "        .Relation tr:nth-child(even){\n",
       "            background: #f3f1ff;\n",
       "        }\n",
       "        /* Tooltip container */\n",
       "        .djtooltip {\n",
       "        }\n",
       "        /* Tooltip text */\n",
       "        .djtooltip .djtooltiptext {\n",
       "            visibility: hidden;\n",
       "            width: 120px;\n",
       "            background-color: black;\n",
       "            color: #fff;\n",
       "            text-align: center;\n",
       "            padding: 5px 0;\n",
       "            border-radius: 6px;\n",
       "            /* Position the tooltip text - see examples below! */\n",
       "            position: absolute;\n",
       "            z-index: 1;\n",
       "        }\n",
       "        #primary {\n",
       "            font-weight: bold;\n",
       "            color: black;\n",
       "        }\n",
       "        #nonprimary {\n",
       "            font-weight: normal;\n",
       "            color: white;\n",
       "        }\n",
       "\n",
       "        /* Show the tooltip text when you mouse over the tooltip container */\n",
       "        .djtooltip:hover .djtooltiptext {\n",
       "            visibility: visible;\n",
       "        }\n",
       "    </style>\n",
       "    \n",
       "    <b>Animal Subject</b>\n",
       "        <div style=\"max-height:1000px;max-width:1500px;overflow:auto;\">\n",
       "        <table border=\"1\" class=\"Relation\">\n",
       "            <thead> <tr style=\"text-align: right;\"> <th> <div class=\"djtooltip\">\n",
       "                            <p id=\"primary\">subject</p>\n",
       "                            <span class=\"djtooltiptext\"></span>\n",
       "                        </div></th><th><div class=\"djtooltip\">\n",
       "                            <p id=\"nonprimary\">lab</p>\n",
       "                            <span class=\"djtooltiptext\">short lab name</span>\n",
       "                        </div></th><th><div class=\"djtooltip\">\n",
       "                            <p id=\"nonprimary\">lab_id</p>\n",
       "                            <span class=\"djtooltiptext\"></span>\n",
       "                        </div></th><th><div class=\"djtooltip\">\n",
       "                            <p id=\"nonprimary\">sex</p>\n",
       "                            <span class=\"djtooltiptext\"></span>\n",
       "                        </div></th><th><div class=\"djtooltip\">\n",
       "                            <p id=\"nonprimary\">birth_date</p>\n",
       "                            <span class=\"djtooltiptext\"></span>\n",
       "                        </div></th><th><div class=\"djtooltip\">\n",
       "                            <p id=\"nonprimary\">subject_description</p>\n",
       "                            <span class=\"djtooltiptext\"></span>\n",
       "                        </div></th><th><div class=\"djtooltip\">\n",
       "                            <p id=\"nonprimary\">line</p>\n",
       "                            <span class=\"djtooltiptext\"></span>\n",
       "                        </div></th><th><div class=\"djtooltip\">\n",
       "                            <p id=\"nonprimary\">user</p>\n",
       "                            <span class=\"djtooltiptext\"></span>\n",
       "                        </div></th><th><div class=\"djtooltip\">\n",
       "                            <p id=\"nonprimary\">project</p>\n",
       "                            <span class=\"djtooltiptext\"></span>\n",
       "                        </div></th><th><div class=\"djtooltip\">\n",
       "                            <p id=\"nonprimary\">protocol</p>\n",
       "                            <span class=\"djtooltiptext\"></span>\n",
       "                        </div> </th> </tr> </thead>\n",
       "            <tbody> <tr> <td>Rose_ROS-0001</td>\n",
       "<td>Rose</td>\n",
       "<td>G114</td>\n",
       "<td>M</td>\n",
       "<td>2021-07-11</td>\n",
       "<td></td>\n",
       "<td>SST-IRES-Cre</td>\n",
       "<td>dmk</td>\n",
       "<td>TEC</td>\n",
       "<td>LANUF2</td></tr><tr><td>Rose_ROS-0005</td>\n",
       "<td>Rose</td>\n",
       "<td>G114</td>\n",
       "<td>M</td>\n",
       "<td>2021-07-13</td>\n",
       "<td></td>\n",
       "<td>SST-IRES-Cre</td>\n",
       "<td>dmk</td>\n",
       "<td>TEC</td>\n",
       "<td>LANUF2</td></tr><tr><td>Rose_ROS-0007</td>\n",
       "<td>Rose</td>\n",
       "<td>G114</td>\n",
       "<td>M</td>\n",
       "<td>2021-07-13</td>\n",
       "<td></td>\n",
       "<td>SST-IRES-Cre</td>\n",
       "<td>dmk</td>\n",
       "<td>TEC</td>\n",
       "<td>LANUF2</td></tr><tr><td>Rose_ROS-0008</td>\n",
       "<td>Rose</td>\n",
       "<td>G114</td>\n",
       "<td>M</td>\n",
       "<td>2021-07-13</td>\n",
       "<td></td>\n",
       "<td>SST-IRES-Cre</td>\n",
       "<td>dmk</td>\n",
       "<td>TEC</td>\n",
       "<td>LANUF2</td></tr><tr><td>Rose_ROS-0009</td>\n",
       "<td>Rose</td>\n",
       "<td>G114</td>\n",
       "<td>M</td>\n",
       "<td>2021-07-13</td>\n",
       "<td></td>\n",
       "<td>SST-IRES-Cre</td>\n",
       "<td>dmk</td>\n",
       "<td>TEC</td>\n",
       "<td>LANUF2</td> </tr> </tbody>\n",
       "        </table>\n",
       "        \n",
       "        <p>Total: 5</p></div>\n",
       "        "
      ],
      "text/plain": [
       "*subject       lab      lab_id     sex     birth_date     subject_descri line           user     project     protocol    \n",
       "+------------+ +------+ +--------+ +-----+ +------------+ +------------+ +------------+ +------+ +---------+ +----------+\n",
       "Rose_ROS-0001  Rose     G114       M       2021-07-11                    SST-IRES-Cre   dmk      TEC         LANUF2      \n",
       "Rose_ROS-0005  Rose     G114       M       2021-07-13                    SST-IRES-Cre   dmk      TEC         LANUF2      \n",
       "Rose_ROS-0007  Rose     G114       M       2021-07-13                    SST-IRES-Cre   dmk      TEC         LANUF2      \n",
       "Rose_ROS-0008  Rose     G114       M       2021-07-13                    SST-IRES-Cre   dmk      TEC         LANUF2      \n",
       "Rose_ROS-0009  Rose     G114       M       2021-07-13                    SST-IRES-Cre   dmk      TEC         LANUF2      \n",
       " (Total: 5)"
      ]
     },
     "execution_count": 13,
     "metadata": {},
     "output_type": "execute_result"
    }
   ],
   "source": [
    "sub = subject.Subject()\n",
    "sub"
   ]
  },
  {
   "cell_type": "code",
   "execution_count": null,
   "id": "22f2821d",
   "metadata": {},
   "outputs": [],
   "source": []
  }
 ],
 "metadata": {
  "kernelspec": {
   "display_name": "Python 3 (ipykernel)",
   "language": "python",
   "name": "python3"
  },
  "language_info": {
   "codemirror_mode": {
    "name": "ipython",
    "version": 3
   },
   "file_extension": ".py",
   "mimetype": "text/x-python",
   "name": "python",
   "nbconvert_exporter": "python",
   "pygments_lexer": "ipython3",
   "version": "3.8.12"
  }
 },
 "nbformat": 4,
 "nbformat_minor": 5
}
